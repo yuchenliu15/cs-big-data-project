{
 "cells": [
  {
   "cell_type": "code",
   "execution_count": 17,
   "id": "8ae4272c",
   "metadata": {},
   "outputs": [],
   "source": [
    "import pandas as pd\n",
    "import requests\n",
    "import time\n",
    "import json\n",
    "import re"
   ]
  },
  {
   "cell_type": "code",
   "execution_count": null,
   "id": "00cccf5c",
   "metadata": {},
   "outputs": [],
   "source": [
    "planning_area,year,no_religion,buddhism,taoism,islam,hinduism,sikhism,catholic_christian,other_christians,other_religions\t\n",
    "planning_area,year,chinese, malays, indian\t\n",
    "planning_area,year,english,mandarin,chinese_dialects,malay,tamil\t\n"
   ]
  },
  {
   "cell_type": "markdown",
   "id": "3c215fcb",
   "metadata": {},
   "source": [
    "Reading"
   ]
  },
  {
   "cell_type": "code",
   "execution_count": 2,
   "id": "2bc07d61",
   "metadata": {},
   "outputs": [
    {
     "name": "stderr",
     "output_type": "stream",
     "text": [
      "/Users/rachelkindangen/opt/anaconda3/lib/python3.9/site-packages/IPython/core/interactiveshell.py:3444: DtypeWarning: Columns (1,2,3) have mixed types.Specify dtype option on import or set low_memory=False.\n",
      "  exec(code_obj, self.user_global_ns, self.user_ns)\n"
     ]
    }
   ],
   "source": [
    "import plotly.express as px\n",
    "df_stat = pd.read_csv('hdb_stats_final.csv')\n",
    "df_coords = pd.read_csv('hdb_coords.csv')"
   ]
  },
  {
   "cell_type": "code",
   "execution_count": 169,
   "id": "8de64812",
   "metadata": {},
   "outputs": [
    {
     "name": "stderr",
     "output_type": "stream",
     "text": [
      "/Users/rachelkindangen/opt/anaconda3/lib/python3.9/site-packages/IPython/core/interactiveshell.py:3444: DtypeWarning: Columns (1,2,3) have mixed types.Specify dtype option on import or set low_memory=False.\n",
      "  exec(code_obj, self.user_global_ns, self.user_ns)\n"
     ]
    }
   ],
   "source": [
    "df_ethnic = pd.read_csv('ethnicity_percent.csv')\n",
    "df_price = pd.read_csv('cleaning_output', names = ['planning_area','floor_area_sqm','year','resale_price'])"
   ]
  },
  {
   "cell_type": "code",
   "execution_count": 124,
   "id": "fd65bff0",
   "metadata": {},
   "outputs": [],
   "source": [
    "df_stat = df_stat.iloc[:,1:]"
   ]
  },
  {
   "cell_type": "code",
   "execution_count": 187,
   "id": "ea53b1b2",
   "metadata": {},
   "outputs": [],
   "source": [
    "df_religion = df_stat.iloc[:,26:35]"
   ]
  },
  {
   "cell_type": "code",
   "execution_count": 190,
   "id": "7a8144f1",
   "metadata": {},
   "outputs": [],
   "source": [
    "df_religion['total'] = df_religion.sum(axis=1)"
   ]
  },
  {
   "cell_type": "code",
   "execution_count": 192,
   "id": "1f54a35e",
   "metadata": {},
   "outputs": [],
   "source": [
    "religions = [\"no_religion\",\"buddhism\",'taoism',\"islam\",\"hinduism\",\"sikhism\",\"catholic_christian\",\"other_christians\",\"other_religions\"]\n",
    "for religion in religions:\n",
    "    new_col = religion + \" percent\"\n",
    "    df_religion[new_col] = df_religion[religion]/df_religion['total']\n"
   ]
  },
  {
   "cell_type": "code",
   "execution_count": 194,
   "id": "52bad0c3",
   "metadata": {},
   "outputs": [],
   "source": [
    "df_religion['planning_area'] = df_stat['planning_area']\n",
    "df_religion['year'] = df_stat['year']\n"
   ]
  },
  {
   "cell_type": "code",
   "execution_count": 197,
   "id": "e839ad10",
   "metadata": {},
   "outputs": [],
   "source": [
    "df_religion = df_religion.iloc[:,11:21]"
   ]
  },
  {
   "cell_type": "code",
   "execution_count": 200,
   "id": "5f2d03ec",
   "metadata": {},
   "outputs": [],
   "source": [
    "df_religion['year'] = df_religion['year'].astype('string')"
   ]
  },
  {
   "cell_type": "code",
   "execution_count": 201,
   "id": "1d529399",
   "metadata": {},
   "outputs": [
    {
     "data": {
      "text/html": [
       "<div>\n",
       "<style scoped>\n",
       "    .dataframe tbody tr th:only-of-type {\n",
       "        vertical-align: middle;\n",
       "    }\n",
       "\n",
       "    .dataframe tbody tr th {\n",
       "        vertical-align: top;\n",
       "    }\n",
       "\n",
       "    .dataframe thead th {\n",
       "        text-align: right;\n",
       "    }\n",
       "</style>\n",
       "<table border=\"1\" class=\"dataframe\">\n",
       "  <thead>\n",
       "    <tr style=\"text-align: right;\">\n",
       "      <th></th>\n",
       "      <th>buddhism percent</th>\n",
       "      <th>taoism percent</th>\n",
       "      <th>islam percent</th>\n",
       "      <th>hinduism percent</th>\n",
       "      <th>sikhism percent</th>\n",
       "      <th>catholic_christian percent</th>\n",
       "      <th>other_christians percent</th>\n",
       "      <th>other_religions percent</th>\n",
       "      <th>planning_area</th>\n",
       "      <th>year</th>\n",
       "    </tr>\n",
       "  </thead>\n",
       "  <tbody>\n",
       "    <tr>\n",
       "      <th>0</th>\n",
       "      <td>0.394584</td>\n",
       "      <td>0.071294</td>\n",
       "      <td>0.203597</td>\n",
       "      <td>0.023754</td>\n",
       "      <td>0.003108</td>\n",
       "      <td>0.053340</td>\n",
       "      <td>0.103118</td>\n",
       "      <td>0.002773</td>\n",
       "      <td>ANG MO KIO</td>\n",
       "      <td>2000</td>\n",
       "    </tr>\n",
       "    <tr>\n",
       "      <th>1</th>\n",
       "      <td>0.394870</td>\n",
       "      <td>0.068578</td>\n",
       "      <td>0.064612</td>\n",
       "      <td>0.046662</td>\n",
       "      <td>0.004570</td>\n",
       "      <td>0.088985</td>\n",
       "      <td>0.147287</td>\n",
       "      <td>0.002759</td>\n",
       "      <td>BEDOK</td>\n",
       "      <td>2000</td>\n",
       "    </tr>\n",
       "    <tr>\n",
       "      <th>2</th>\n",
       "      <td>NaN</td>\n",
       "      <td>NaN</td>\n",
       "      <td>NaN</td>\n",
       "      <td>NaN</td>\n",
       "      <td>NaN</td>\n",
       "      <td>NaN</td>\n",
       "      <td>NaN</td>\n",
       "      <td>NaN</td>\n",
       "      <td>BISHAN</td>\n",
       "      <td>2000</td>\n",
       "    </tr>\n",
       "    <tr>\n",
       "      <th>3</th>\n",
       "      <td>0.413777</td>\n",
       "      <td>0.072108</td>\n",
       "      <td>0.175542</td>\n",
       "      <td>0.051830</td>\n",
       "      <td>0.003755</td>\n",
       "      <td>0.036584</td>\n",
       "      <td>0.095873</td>\n",
       "      <td>0.002963</td>\n",
       "      <td>BOON LAY</td>\n",
       "      <td>2000</td>\n",
       "    </tr>\n",
       "    <tr>\n",
       "      <th>4</th>\n",
       "      <td>0.473171</td>\n",
       "      <td>0.110231</td>\n",
       "      <td>0.075798</td>\n",
       "      <td>0.048576</td>\n",
       "      <td>0.004522</td>\n",
       "      <td>0.032143</td>\n",
       "      <td>0.088983</td>\n",
       "      <td>0.001445</td>\n",
       "      <td>BUKIT BATOK</td>\n",
       "      <td>2000</td>\n",
       "    </tr>\n",
       "  </tbody>\n",
       "</table>\n",
       "</div>"
      ],
      "text/plain": [
       "   buddhism percent  taoism percent  islam percent  hinduism percent  \\\n",
       "0          0.394584        0.071294       0.203597          0.023754   \n",
       "1          0.394870        0.068578       0.064612          0.046662   \n",
       "2               NaN             NaN            NaN               NaN   \n",
       "3          0.413777        0.072108       0.175542          0.051830   \n",
       "4          0.473171        0.110231       0.075798          0.048576   \n",
       "\n",
       "   sikhism percent  catholic_christian percent  other_christians percent  \\\n",
       "0         0.003108                    0.053340                  0.103118   \n",
       "1         0.004570                    0.088985                  0.147287   \n",
       "2              NaN                         NaN                       NaN   \n",
       "3         0.003755                    0.036584                  0.095873   \n",
       "4         0.004522                    0.032143                  0.088983   \n",
       "\n",
       "   other_religions percent planning_area  year  \n",
       "0                 0.002773    ANG MO KIO  2000  \n",
       "1                 0.002759         BEDOK  2000  \n",
       "2                      NaN        BISHAN  2000  \n",
       "3                 0.002963      BOON LAY  2000  \n",
       "4                 0.001445   BUKIT BATOK  2000  "
      ]
     },
     "execution_count": 201,
     "metadata": {},
     "output_type": "execute_result"
    }
   ],
   "source": [
    "df_religion.head()"
   ]
  },
  {
   "cell_type": "code",
   "execution_count": 170,
   "id": "8f03575d",
   "metadata": {},
   "outputs": [],
   "source": [
    "df_ethnic = df_ethnic.iloc[:, 1:]"
   ]
  },
  {
   "cell_type": "code",
   "execution_count": 171,
   "id": "7cdb3310",
   "metadata": {},
   "outputs": [
    {
     "data": {
      "text/html": [
       "<div>\n",
       "<style scoped>\n",
       "    .dataframe tbody tr th:only-of-type {\n",
       "        vertical-align: middle;\n",
       "    }\n",
       "\n",
       "    .dataframe tbody tr th {\n",
       "        vertical-align: top;\n",
       "    }\n",
       "\n",
       "    .dataframe thead th {\n",
       "        text-align: right;\n",
       "    }\n",
       "</style>\n",
       "<table border=\"1\" class=\"dataframe\">\n",
       "  <thead>\n",
       "    <tr style=\"text-align: right;\">\n",
       "      <th></th>\n",
       "      <th>chinese_percent</th>\n",
       "      <th>malays_percent</th>\n",
       "      <th>indian_percent</th>\n",
       "      <th>planning_area</th>\n",
       "      <th>year</th>\n",
       "    </tr>\n",
       "  </thead>\n",
       "  <tbody>\n",
       "    <tr>\n",
       "      <th>0</th>\n",
       "      <td>0.743809</td>\n",
       "      <td>0.184355</td>\n",
       "      <td>0.071837</td>\n",
       "      <td>ANG MO KIO</td>\n",
       "      <td>2000</td>\n",
       "    </tr>\n",
       "    <tr>\n",
       "      <th>1</th>\n",
       "      <td>0.860790</td>\n",
       "      <td>0.057782</td>\n",
       "      <td>0.081428</td>\n",
       "      <td>BEDOK</td>\n",
       "      <td>2000</td>\n",
       "    </tr>\n",
       "    <tr>\n",
       "      <th>2</th>\n",
       "      <td>NaN</td>\n",
       "      <td>NaN</td>\n",
       "      <td>NaN</td>\n",
       "      <td>BISHAN</td>\n",
       "      <td>2000</td>\n",
       "    </tr>\n",
       "    <tr>\n",
       "      <th>3</th>\n",
       "      <td>NaN</td>\n",
       "      <td>NaN</td>\n",
       "      <td>NaN</td>\n",
       "      <td>BUKIT TIMAH</td>\n",
       "      <td>2000</td>\n",
       "    </tr>\n",
       "    <tr>\n",
       "      <th>4</th>\n",
       "      <td>NaN</td>\n",
       "      <td>NaN</td>\n",
       "      <td>NaN</td>\n",
       "      <td>CENTRAL WATER CATCHMENT</td>\n",
       "      <td>2000</td>\n",
       "    </tr>\n",
       "    <tr>\n",
       "      <th>...</th>\n",
       "      <td>...</td>\n",
       "      <td>...</td>\n",
       "      <td>...</td>\n",
       "      <td>...</td>\n",
       "      <td>...</td>\n",
       "    </tr>\n",
       "    <tr>\n",
       "      <th>1024281</th>\n",
       "      <td>0.874034</td>\n",
       "      <td>0.037124</td>\n",
       "      <td>0.088841</td>\n",
       "      <td>NORTH-EASTERN ISLANDS</td>\n",
       "      <td>2020</td>\n",
       "    </tr>\n",
       "    <tr>\n",
       "      <th>1024282</th>\n",
       "      <td>0.699108</td>\n",
       "      <td>0.207956</td>\n",
       "      <td>0.092936</td>\n",
       "      <td>NOVENA</td>\n",
       "      <td>2020</td>\n",
       "    </tr>\n",
       "    <tr>\n",
       "      <th>1024283</th>\n",
       "      <td>0.815545</td>\n",
       "      <td>0.010441</td>\n",
       "      <td>0.174014</td>\n",
       "      <td>PAYA LEBAR</td>\n",
       "      <td>2020</td>\n",
       "    </tr>\n",
       "    <tr>\n",
       "      <th>1024284</th>\n",
       "      <td>0.762805</td>\n",
       "      <td>0.048857</td>\n",
       "      <td>0.188337</td>\n",
       "      <td>RIVER VALLEY</td>\n",
       "      <td>2020</td>\n",
       "    </tr>\n",
       "    <tr>\n",
       "      <th>1024285</th>\n",
       "      <td>0.875472</td>\n",
       "      <td>0.007547</td>\n",
       "      <td>0.116981</td>\n",
       "      <td>ROCHOR</td>\n",
       "      <td>2020</td>\n",
       "    </tr>\n",
       "  </tbody>\n",
       "</table>\n",
       "<p>1024286 rows × 5 columns</p>\n",
       "</div>"
      ],
      "text/plain": [
       "         chinese_percent  malays_percent  indian_percent  \\\n",
       "0               0.743809        0.184355        0.071837   \n",
       "1               0.860790        0.057782        0.081428   \n",
       "2                    NaN             NaN             NaN   \n",
       "3                    NaN             NaN             NaN   \n",
       "4                    NaN             NaN             NaN   \n",
       "...                  ...             ...             ...   \n",
       "1024281         0.874034        0.037124        0.088841   \n",
       "1024282         0.699108        0.207956        0.092936   \n",
       "1024283         0.815545        0.010441        0.174014   \n",
       "1024284         0.762805        0.048857        0.188337   \n",
       "1024285         0.875472        0.007547        0.116981   \n",
       "\n",
       "                   planning_area  year  \n",
       "0                     ANG MO KIO  2000  \n",
       "1                          BEDOK  2000  \n",
       "2                         BISHAN  2000  \n",
       "3                    BUKIT TIMAH  2000  \n",
       "4        CENTRAL WATER CATCHMENT  2000  \n",
       "...                          ...   ...  \n",
       "1024281    NORTH-EASTERN ISLANDS  2020  \n",
       "1024282                   NOVENA  2020  \n",
       "1024283               PAYA LEBAR  2020  \n",
       "1024284             RIVER VALLEY  2020  \n",
       "1024285                   ROCHOR  2020  \n",
       "\n",
       "[1024286 rows x 5 columns]"
      ]
     },
     "execution_count": 171,
     "metadata": {},
     "output_type": "execute_result"
    }
   ],
   "source": [
    "df_ethnic"
   ]
  },
  {
   "cell_type": "code",
   "execution_count": 172,
   "id": "939e826a",
   "metadata": {},
   "outputs": [],
   "source": [
    "df_price= df_price[:-1]"
   ]
  },
  {
   "cell_type": "code",
   "execution_count": 173,
   "id": "198e3d22",
   "metadata": {},
   "outputs": [],
   "source": [
    "df_price['resale_price'] = df_price['resale_price'].apply(lambda x: re.sub(r'\\s+', '', x) if type(x)==str else x )\n",
    "\n",
    "\n"
   ]
  },
  {
   "cell_type": "code",
   "execution_count": 174,
   "id": "51a11407",
   "metadata": {},
   "outputs": [],
   "source": [
    "df_price['avg_price_per_sqm'] = df_price['resale_price'].astype(float) / df_price['floor_area_sqm'].astype(float)"
   ]
  },
  {
   "cell_type": "code",
   "execution_count": 175,
   "id": "b9a79eb8",
   "metadata": {},
   "outputs": [],
   "source": [
    "df_price_avg = df_price.groupby(by = ['planning_area', 'year'])['avg_price_per_sqm'].mean().reset_index()"
   ]
  },
  {
   "cell_type": "code",
   "execution_count": 176,
   "id": "f0e8a012",
   "metadata": {},
   "outputs": [
    {
     "data": {
      "text/html": [
       "<div>\n",
       "<style scoped>\n",
       "    .dataframe tbody tr th:only-of-type {\n",
       "        vertical-align: middle;\n",
       "    }\n",
       "\n",
       "    .dataframe tbody tr th {\n",
       "        vertical-align: top;\n",
       "    }\n",
       "\n",
       "    .dataframe thead th {\n",
       "        text-align: right;\n",
       "    }\n",
       "</style>\n",
       "<table border=\"1\" class=\"dataframe\">\n",
       "  <thead>\n",
       "    <tr style=\"text-align: right;\">\n",
       "      <th></th>\n",
       "      <th>planning_area</th>\n",
       "      <th>year</th>\n",
       "      <th>avg_price_per_sqm</th>\n",
       "    </tr>\n",
       "  </thead>\n",
       "  <tbody>\n",
       "    <tr>\n",
       "      <th>0</th>\n",
       "      <td>ANG MO KIO</td>\n",
       "      <td>1976</td>\n",
       "      <td>2419.740758</td>\n",
       "    </tr>\n",
       "    <tr>\n",
       "      <th>1</th>\n",
       "      <td>ANG MO KIO</td>\n",
       "      <td>1977</td>\n",
       "      <td>2531.210881</td>\n",
       "    </tr>\n",
       "    <tr>\n",
       "      <th>2</th>\n",
       "      <td>ANG MO KIO</td>\n",
       "      <td>1978</td>\n",
       "      <td>2530.513774</td>\n",
       "    </tr>\n",
       "    <tr>\n",
       "      <th>3</th>\n",
       "      <td>ANG MO KIO</td>\n",
       "      <td>1979</td>\n",
       "      <td>2478.332208</td>\n",
       "    </tr>\n",
       "    <tr>\n",
       "      <th>4</th>\n",
       "      <td>ANG MO KIO</td>\n",
       "      <td>1980</td>\n",
       "      <td>2483.200036</td>\n",
       "    </tr>\n",
       "    <tr>\n",
       "      <th>...</th>\n",
       "      <td>...</td>\n",
       "      <td>...</td>\n",
       "      <td>...</td>\n",
       "    </tr>\n",
       "    <tr>\n",
       "      <th>894</th>\n",
       "      <td>YISHUN</td>\n",
       "      <td>1993</td>\n",
       "      <td>3084.165519</td>\n",
       "    </tr>\n",
       "    <tr>\n",
       "      <th>895</th>\n",
       "      <td>YISHUN</td>\n",
       "      <td>1995</td>\n",
       "      <td>3114.822921</td>\n",
       "    </tr>\n",
       "    <tr>\n",
       "      <th>896</th>\n",
       "      <td>YISHUN</td>\n",
       "      <td>1999</td>\n",
       "      <td>5355.729167</td>\n",
       "    </tr>\n",
       "    <tr>\n",
       "      <th>897</th>\n",
       "      <td>YISHUN</td>\n",
       "      <td>2000</td>\n",
       "      <td>3883.287354</td>\n",
       "    </tr>\n",
       "    <tr>\n",
       "      <th>898</th>\n",
       "      <td>YISHUN</td>\n",
       "      <td>2001</td>\n",
       "      <td>3796.202947</td>\n",
       "    </tr>\n",
       "  </tbody>\n",
       "</table>\n",
       "<p>899 rows × 3 columns</p>\n",
       "</div>"
      ],
      "text/plain": [
       "    planning_area  year  avg_price_per_sqm\n",
       "0      ANG MO KIO  1976        2419.740758\n",
       "1      ANG MO KIO  1977        2531.210881\n",
       "2      ANG MO KIO  1978        2530.513774\n",
       "3      ANG MO KIO  1979        2478.332208\n",
       "4      ANG MO KIO  1980        2483.200036\n",
       "..            ...   ...                ...\n",
       "894        YISHUN  1993        3084.165519\n",
       "895        YISHUN  1995        3114.822921\n",
       "896        YISHUN  1999        5355.729167\n",
       "897        YISHUN  2000        3883.287354\n",
       "898        YISHUN  2001        3796.202947\n",
       "\n",
       "[899 rows x 3 columns]"
      ]
     },
     "execution_count": 176,
     "metadata": {},
     "output_type": "execute_result"
    }
   ],
   "source": [
    "df_price_avg"
   ]
  },
  {
   "cell_type": "code",
   "execution_count": 177,
   "id": "dc371276",
   "metadata": {},
   "outputs": [],
   "source": [
    "years_to_keep = ['1999','2000','2001', '2008', '2010','2009', '2014','2015','2016', '2018','2021','2020']\n",
    "df_price_avg = df_price_avg[df_price_avg['year'].isin(years_to_keep)]"
   ]
  },
  {
   "cell_type": "code",
   "execution_count": 178,
   "id": "d2e4ec46",
   "metadata": {},
   "outputs": [
    {
     "data": {
      "text/html": [
       "<div>\n",
       "<style scoped>\n",
       "    .dataframe tbody tr th:only-of-type {\n",
       "        vertical-align: middle;\n",
       "    }\n",
       "\n",
       "    .dataframe tbody tr th {\n",
       "        vertical-align: top;\n",
       "    }\n",
       "\n",
       "    .dataframe thead th {\n",
       "        text-align: right;\n",
       "    }\n",
       "</style>\n",
       "<table border=\"1\" class=\"dataframe\">\n",
       "  <thead>\n",
       "    <tr style=\"text-align: right;\">\n",
       "      <th></th>\n",
       "      <th>chinese_percent</th>\n",
       "      <th>malays_percent</th>\n",
       "      <th>indian_percent</th>\n",
       "      <th>planning_area</th>\n",
       "      <th>year</th>\n",
       "    </tr>\n",
       "  </thead>\n",
       "  <tbody>\n",
       "    <tr>\n",
       "      <th>0</th>\n",
       "      <td>0.743809</td>\n",
       "      <td>0.184355</td>\n",
       "      <td>0.071837</td>\n",
       "      <td>ANG MO KIO</td>\n",
       "      <td>2000</td>\n",
       "    </tr>\n",
       "    <tr>\n",
       "      <th>1</th>\n",
       "      <td>0.860790</td>\n",
       "      <td>0.057782</td>\n",
       "      <td>0.081428</td>\n",
       "      <td>BEDOK</td>\n",
       "      <td>2000</td>\n",
       "    </tr>\n",
       "    <tr>\n",
       "      <th>2</th>\n",
       "      <td>NaN</td>\n",
       "      <td>NaN</td>\n",
       "      <td>NaN</td>\n",
       "      <td>BISHAN</td>\n",
       "      <td>2000</td>\n",
       "    </tr>\n",
       "    <tr>\n",
       "      <th>3</th>\n",
       "      <td>NaN</td>\n",
       "      <td>NaN</td>\n",
       "      <td>NaN</td>\n",
       "      <td>BUKIT TIMAH</td>\n",
       "      <td>2000</td>\n",
       "    </tr>\n",
       "    <tr>\n",
       "      <th>4</th>\n",
       "      <td>NaN</td>\n",
       "      <td>NaN</td>\n",
       "      <td>NaN</td>\n",
       "      <td>CENTRAL WATER CATCHMENT</td>\n",
       "      <td>2000</td>\n",
       "    </tr>\n",
       "  </tbody>\n",
       "</table>\n",
       "</div>"
      ],
      "text/plain": [
       "   chinese_percent  malays_percent  indian_percent            planning_area  \\\n",
       "0         0.743809        0.184355        0.071837               ANG MO KIO   \n",
       "1         0.860790        0.057782        0.081428                    BEDOK   \n",
       "2              NaN             NaN             NaN                   BISHAN   \n",
       "3              NaN             NaN             NaN              BUKIT TIMAH   \n",
       "4              NaN             NaN             NaN  CENTRAL WATER CATCHMENT   \n",
       "\n",
       "   year  \n",
       "0  2000  \n",
       "1  2000  \n",
       "2  2000  \n",
       "3  2000  \n",
       "4  2000  "
      ]
     },
     "execution_count": 178,
     "metadata": {},
     "output_type": "execute_result"
    }
   ],
   "source": [
    "df_ethnic.head()"
   ]
  },
  {
   "cell_type": "code",
   "execution_count": 179,
   "id": "1e6a2769",
   "metadata": {},
   "outputs": [],
   "source": [
    "df_join = df_price_avg.merge(df_ethnicity, how = \"inner\", left_on=['planning_area','year'], right_on = ['planning_area','year'])\n",
    "\n"
   ]
  },
  {
   "cell_type": "code",
   "execution_count": 182,
   "id": "9c02a889",
   "metadata": {},
   "outputs": [
    {
     "name": "stderr",
     "output_type": "stream",
     "text": [
      "/var/folders/08/1gbml__92sdfdblw8tw5pyd80000gn/T/ipykernel_3361/3509427280.py:1: UserWarning: Boolean Series key will be reindexed to match DataFrame index.\n",
      "  df_join[~df_join['chinese_percent'].isnull()].sort_values(by = 'avg_price_per_sqm')[df_join['year'].isin(['2000'])]\n"
     ]
    },
    {
     "data": {
      "text/html": [
       "<div>\n",
       "<style scoped>\n",
       "    .dataframe tbody tr th:only-of-type {\n",
       "        vertical-align: middle;\n",
       "    }\n",
       "\n",
       "    .dataframe tbody tr th {\n",
       "        vertical-align: top;\n",
       "    }\n",
       "\n",
       "    .dataframe thead th {\n",
       "        text-align: right;\n",
       "    }\n",
       "</style>\n",
       "<table border=\"1\" class=\"dataframe\">\n",
       "  <thead>\n",
       "    <tr style=\"text-align: right;\">\n",
       "      <th></th>\n",
       "      <th>planning_area</th>\n",
       "      <th>year</th>\n",
       "      <th>avg_price_per_sqm</th>\n",
       "      <th>chinese_percent</th>\n",
       "      <th>malays_percent</th>\n",
       "      <th>indian_percent</th>\n",
       "    </tr>\n",
       "  </thead>\n",
       "  <tbody>\n",
       "    <tr>\n",
       "      <th>6075</th>\n",
       "      <td>CHOA CHU KANG</td>\n",
       "      <td>2000</td>\n",
       "      <td>3242.740134</td>\n",
       "      <td>0.767684</td>\n",
       "      <td>0.172828</td>\n",
       "      <td>0.059488</td>\n",
       "    </tr>\n",
       "    <tr>\n",
       "      <th>17216</th>\n",
       "      <td>WOODLANDS</td>\n",
       "      <td>2000</td>\n",
       "      <td>3327.626688</td>\n",
       "      <td>0.717992</td>\n",
       "      <td>0.170307</td>\n",
       "      <td>0.111701</td>\n",
       "    </tr>\n",
       "    <tr>\n",
       "      <th>11141</th>\n",
       "      <td>SEMBAWANG</td>\n",
       "      <td>2000</td>\n",
       "      <td>3501.275892</td>\n",
       "      <td>0.805242</td>\n",
       "      <td>0.137828</td>\n",
       "      <td>0.056930</td>\n",
       "    </tr>\n",
       "    <tr>\n",
       "      <th>12154</th>\n",
       "      <td>SENGKANG</td>\n",
       "      <td>2000</td>\n",
       "      <td>3754.982190</td>\n",
       "      <td>0.859033</td>\n",
       "      <td>0.056499</td>\n",
       "      <td>0.084467</td>\n",
       "    </tr>\n",
       "    <tr>\n",
       "      <th>1012</th>\n",
       "      <td>BEDOK</td>\n",
       "      <td>2000</td>\n",
       "      <td>3973.001019</td>\n",
       "      <td>0.860790</td>\n",
       "      <td>0.057782</td>\n",
       "      <td>0.081428</td>\n",
       "    </tr>\n",
       "    <tr>\n",
       "      <th>7090</th>\n",
       "      <td>JURONG WEST</td>\n",
       "      <td>2000</td>\n",
       "      <td>3973.238149</td>\n",
       "      <td>0.948329</td>\n",
       "      <td>0.006965</td>\n",
       "      <td>0.044706</td>\n",
       "    </tr>\n",
       "    <tr>\n",
       "      <th>7089</th>\n",
       "      <td>JURONG EAST</td>\n",
       "      <td>2000</td>\n",
       "      <td>4170.698032</td>\n",
       "      <td>0.791343</td>\n",
       "      <td>0.126739</td>\n",
       "      <td>0.081918</td>\n",
       "    </tr>\n",
       "    <tr>\n",
       "      <th>2026</th>\n",
       "      <td>BUKIT MERAH</td>\n",
       "      <td>2000</td>\n",
       "      <td>4962.841447</td>\n",
       "      <td>0.744842</td>\n",
       "      <td>0.187772</td>\n",
       "      <td>0.067387</td>\n",
       "    </tr>\n",
       "    <tr>\n",
       "      <th>6076</th>\n",
       "      <td>GEYLANG</td>\n",
       "      <td>2000</td>\n",
       "      <td>5461.909873</td>\n",
       "      <td>0.841789</td>\n",
       "      <td>0.097060</td>\n",
       "      <td>0.061151</td>\n",
       "    </tr>\n",
       "    <tr>\n",
       "      <th>10128</th>\n",
       "      <td>QUEENSTOWN</td>\n",
       "      <td>2000</td>\n",
       "      <td>5802.378936</td>\n",
       "      <td>0.723384</td>\n",
       "      <td>0.195933</td>\n",
       "      <td>0.080683</td>\n",
       "    </tr>\n",
       "  </tbody>\n",
       "</table>\n",
       "</div>"
      ],
      "text/plain": [
       "       planning_area  year  avg_price_per_sqm  chinese_percent  \\\n",
       "6075   CHOA CHU KANG  2000        3242.740134         0.767684   \n",
       "17216      WOODLANDS  2000        3327.626688         0.717992   \n",
       "11141      SEMBAWANG  2000        3501.275892         0.805242   \n",
       "12154       SENGKANG  2000        3754.982190         0.859033   \n",
       "1012           BEDOK  2000        3973.001019         0.860790   \n",
       "7090     JURONG WEST  2000        3973.238149         0.948329   \n",
       "7089     JURONG EAST  2000        4170.698032         0.791343   \n",
       "2026     BUKIT MERAH  2000        4962.841447         0.744842   \n",
       "6076         GEYLANG  2000        5461.909873         0.841789   \n",
       "10128     QUEENSTOWN  2000        5802.378936         0.723384   \n",
       "\n",
       "       malays_percent  indian_percent  \n",
       "6075         0.172828        0.059488  \n",
       "17216        0.170307        0.111701  \n",
       "11141        0.137828        0.056930  \n",
       "12154        0.056499        0.084467  \n",
       "1012         0.057782        0.081428  \n",
       "7090         0.006965        0.044706  \n",
       "7089         0.126739        0.081918  \n",
       "2026         0.187772        0.067387  \n",
       "6076         0.097060        0.061151  \n",
       "10128        0.195933        0.080683  "
      ]
     },
     "execution_count": 182,
     "metadata": {},
     "output_type": "execute_result"
    }
   ],
   "source": [
    "df_join[~df_join['chinese_percent'].isnull()].sort_values(by = 'avg_price_per_sqm')[df_join['year'].isin(['2000'])]"
   ]
  },
  {
   "cell_type": "code",
   "execution_count": 202,
   "id": "7fe1296e",
   "metadata": {},
   "outputs": [],
   "source": [
    "df_join_1 = df_price_avg.merge(df_religion, how = \"inner\", left_on=['planning_area','year'], right_on = ['planning_area','year'])\n"
   ]
  },
  {
   "cell_type": "code",
   "execution_count": 207,
   "id": "7f3a3aa3",
   "metadata": {},
   "outputs": [
    {
     "name": "stderr",
     "output_type": "stream",
     "text": [
      "/var/folders/08/1gbml__92sdfdblw8tw5pyd80000gn/T/ipykernel_3361/223101559.py:1: UserWarning: Boolean Series key will be reindexed to match DataFrame index.\n",
      "  df_join_1[~df_join_1['buddhism percent'].isnull()].sort_values(by = 'avg_price_per_sqm')[df_join_1['year'].isin(['2000'])]\n"
     ]
    },
    {
     "data": {
      "text/html": [
       "<div>\n",
       "<style scoped>\n",
       "    .dataframe tbody tr th:only-of-type {\n",
       "        vertical-align: middle;\n",
       "    }\n",
       "\n",
       "    .dataframe tbody tr th {\n",
       "        vertical-align: top;\n",
       "    }\n",
       "\n",
       "    .dataframe thead th {\n",
       "        text-align: right;\n",
       "    }\n",
       "</style>\n",
       "<table border=\"1\" class=\"dataframe\">\n",
       "  <thead>\n",
       "    <tr style=\"text-align: right;\">\n",
       "      <th></th>\n",
       "      <th>planning_area</th>\n",
       "      <th>year</th>\n",
       "      <th>avg_price_per_sqm</th>\n",
       "      <th>buddhism percent</th>\n",
       "      <th>taoism percent</th>\n",
       "      <th>islam percent</th>\n",
       "      <th>hinduism percent</th>\n",
       "      <th>sikhism percent</th>\n",
       "      <th>catholic_christian percent</th>\n",
       "      <th>other_christians percent</th>\n",
       "      <th>other_religions percent</th>\n",
       "    </tr>\n",
       "  </thead>\n",
       "  <tbody>\n",
       "    <tr>\n",
       "      <th>9</th>\n",
       "      <td>CHOA CHU KANG</td>\n",
       "      <td>2000</td>\n",
       "      <td>3242.740134</td>\n",
       "      <td>0.461590</td>\n",
       "      <td>0.091327</td>\n",
       "      <td>0.168092</td>\n",
       "      <td>0.031984</td>\n",
       "      <td>0.003175</td>\n",
       "      <td>0.036528</td>\n",
       "      <td>0.077176</td>\n",
       "      <td>0.002162</td>\n",
       "    </tr>\n",
       "    <tr>\n",
       "      <th>29</th>\n",
       "      <td>WOODLANDS</td>\n",
       "      <td>2000</td>\n",
       "      <td>3327.626688</td>\n",
       "      <td>0.435894</td>\n",
       "      <td>0.092617</td>\n",
       "      <td>0.173593</td>\n",
       "      <td>0.066661</td>\n",
       "      <td>0.003431</td>\n",
       "      <td>0.035278</td>\n",
       "      <td>0.074224</td>\n",
       "      <td>0.002629</td>\n",
       "    </tr>\n",
       "    <tr>\n",
       "      <th>20</th>\n",
       "      <td>SEMBAWANG</td>\n",
       "      <td>2000</td>\n",
       "      <td>3501.275892</td>\n",
       "      <td>0.504195</td>\n",
       "      <td>0.081891</td>\n",
       "      <td>0.134652</td>\n",
       "      <td>0.033218</td>\n",
       "      <td>0.002947</td>\n",
       "      <td>0.039272</td>\n",
       "      <td>0.068348</td>\n",
       "      <td>0.002841</td>\n",
       "    </tr>\n",
       "    <tr>\n",
       "      <th>22</th>\n",
       "      <td>SENGKANG</td>\n",
       "      <td>2000</td>\n",
       "      <td>3754.982190</td>\n",
       "      <td>0.424608</td>\n",
       "      <td>0.075519</td>\n",
       "      <td>0.060383</td>\n",
       "      <td>0.047416</td>\n",
       "      <td>0.003635</td>\n",
       "      <td>0.087073</td>\n",
       "      <td>0.130248</td>\n",
       "      <td>0.002317</td>\n",
       "    </tr>\n",
       "    <tr>\n",
       "      <th>31</th>\n",
       "      <td>YISHUN</td>\n",
       "      <td>2000</td>\n",
       "      <td>3883.287354</td>\n",
       "      <td>0.569607</td>\n",
       "      <td>0.095238</td>\n",
       "      <td>0.045017</td>\n",
       "      <td>0.027322</td>\n",
       "      <td>0.000000</td>\n",
       "      <td>0.041374</td>\n",
       "      <td>0.050481</td>\n",
       "      <td>0.000000</td>\n",
       "    </tr>\n",
       "    <tr>\n",
       "      <th>1</th>\n",
       "      <td>BEDOK</td>\n",
       "      <td>2000</td>\n",
       "      <td>3973.001019</td>\n",
       "      <td>0.394870</td>\n",
       "      <td>0.068578</td>\n",
       "      <td>0.064612</td>\n",
       "      <td>0.046662</td>\n",
       "      <td>0.004570</td>\n",
       "      <td>0.088985</td>\n",
       "      <td>0.147287</td>\n",
       "      <td>0.002759</td>\n",
       "    </tr>\n",
       "    <tr>\n",
       "      <th>13</th>\n",
       "      <td>JURONG WEST</td>\n",
       "      <td>2000</td>\n",
       "      <td>3973.238149</td>\n",
       "      <td>0.270976</td>\n",
       "      <td>0.031774</td>\n",
       "      <td>0.020723</td>\n",
       "      <td>0.022554</td>\n",
       "      <td>0.003016</td>\n",
       "      <td>0.106870</td>\n",
       "      <td>0.283385</td>\n",
       "      <td>0.005622</td>\n",
       "    </tr>\n",
       "    <tr>\n",
       "      <th>12</th>\n",
       "      <td>JURONG EAST</td>\n",
       "      <td>2000</td>\n",
       "      <td>4170.698032</td>\n",
       "      <td>0.413126</td>\n",
       "      <td>0.072089</td>\n",
       "      <td>0.125719</td>\n",
       "      <td>0.035235</td>\n",
       "      <td>0.003970</td>\n",
       "      <td>0.054123</td>\n",
       "      <td>0.121142</td>\n",
       "      <td>0.002250</td>\n",
       "    </tr>\n",
       "    <tr>\n",
       "      <th>4</th>\n",
       "      <td>BUKIT MERAH</td>\n",
       "      <td>2000</td>\n",
       "      <td>4962.841447</td>\n",
       "      <td>0.445612</td>\n",
       "      <td>0.075946</td>\n",
       "      <td>0.186372</td>\n",
       "      <td>0.041099</td>\n",
       "      <td>0.002518</td>\n",
       "      <td>0.028017</td>\n",
       "      <td>0.079438</td>\n",
       "      <td>0.002499</td>\n",
       "    </tr>\n",
       "    <tr>\n",
       "      <th>10</th>\n",
       "      <td>GEYLANG</td>\n",
       "      <td>2000</td>\n",
       "      <td>5461.909873</td>\n",
       "      <td>0.487633</td>\n",
       "      <td>0.094525</td>\n",
       "      <td>0.098339</td>\n",
       "      <td>0.034614</td>\n",
       "      <td>0.003188</td>\n",
       "      <td>0.065072</td>\n",
       "      <td>0.080440</td>\n",
       "      <td>0.004421</td>\n",
       "    </tr>\n",
       "    <tr>\n",
       "      <th>18</th>\n",
       "      <td>QUEENSTOWN</td>\n",
       "      <td>2000</td>\n",
       "      <td>5802.378936</td>\n",
       "      <td>0.440271</td>\n",
       "      <td>0.103710</td>\n",
       "      <td>0.193027</td>\n",
       "      <td>0.040649</td>\n",
       "      <td>0.004918</td>\n",
       "      <td>0.024360</td>\n",
       "      <td>0.060148</td>\n",
       "      <td>0.001992</td>\n",
       "    </tr>\n",
       "  </tbody>\n",
       "</table>\n",
       "</div>"
      ],
      "text/plain": [
       "    planning_area  year  avg_price_per_sqm  buddhism percent  taoism percent  \\\n",
       "9   CHOA CHU KANG  2000        3242.740134          0.461590        0.091327   \n",
       "29      WOODLANDS  2000        3327.626688          0.435894        0.092617   \n",
       "20      SEMBAWANG  2000        3501.275892          0.504195        0.081891   \n",
       "22       SENGKANG  2000        3754.982190          0.424608        0.075519   \n",
       "31         YISHUN  2000        3883.287354          0.569607        0.095238   \n",
       "1           BEDOK  2000        3973.001019          0.394870        0.068578   \n",
       "13    JURONG WEST  2000        3973.238149          0.270976        0.031774   \n",
       "12    JURONG EAST  2000        4170.698032          0.413126        0.072089   \n",
       "4     BUKIT MERAH  2000        4962.841447          0.445612        0.075946   \n",
       "10        GEYLANG  2000        5461.909873          0.487633        0.094525   \n",
       "18     QUEENSTOWN  2000        5802.378936          0.440271        0.103710   \n",
       "\n",
       "    islam percent  hinduism percent  sikhism percent  \\\n",
       "9        0.168092          0.031984         0.003175   \n",
       "29       0.173593          0.066661         0.003431   \n",
       "20       0.134652          0.033218         0.002947   \n",
       "22       0.060383          0.047416         0.003635   \n",
       "31       0.045017          0.027322         0.000000   \n",
       "1        0.064612          0.046662         0.004570   \n",
       "13       0.020723          0.022554         0.003016   \n",
       "12       0.125719          0.035235         0.003970   \n",
       "4        0.186372          0.041099         0.002518   \n",
       "10       0.098339          0.034614         0.003188   \n",
       "18       0.193027          0.040649         0.004918   \n",
       "\n",
       "    catholic_christian percent  other_christians percent  \\\n",
       "9                     0.036528                  0.077176   \n",
       "29                    0.035278                  0.074224   \n",
       "20                    0.039272                  0.068348   \n",
       "22                    0.087073                  0.130248   \n",
       "31                    0.041374                  0.050481   \n",
       "1                     0.088985                  0.147287   \n",
       "13                    0.106870                  0.283385   \n",
       "12                    0.054123                  0.121142   \n",
       "4                     0.028017                  0.079438   \n",
       "10                    0.065072                  0.080440   \n",
       "18                    0.024360                  0.060148   \n",
       "\n",
       "    other_religions percent  \n",
       "9                  0.002162  \n",
       "29                 0.002629  \n",
       "20                 0.002841  \n",
       "22                 0.002317  \n",
       "31                 0.000000  \n",
       "1                  0.002759  \n",
       "13                 0.005622  \n",
       "12                 0.002250  \n",
       "4                  0.002499  \n",
       "10                 0.004421  \n",
       "18                 0.001992  "
      ]
     },
     "execution_count": 207,
     "metadata": {},
     "output_type": "execute_result"
    }
   ],
   "source": [
    "df_join_1[~df_join_1['buddhism percent'].isnull()].sort_values(by = 'avg_price_per_sqm')[df_join_1['year'].isin(['2000'])]"
   ]
  },
  {
   "cell_type": "markdown",
   "id": "e6f80671",
   "metadata": {},
   "source": [
    "Graph"
   ]
  },
  {
   "cell_type": "code",
   "execution_count": 130,
   "id": "96676144",
   "metadata": {},
   "outputs": [],
   "source": [
    "# pln_area_polygons = pd.DataFrame(result)"
   ]
  },
  {
   "cell_type": "code",
   "execution_count": 146,
   "id": "2b14e875",
   "metadata": {},
   "outputs": [],
   "source": [
    "# pln_area_polygons['geojson'] = pln_area_polygons['geojson'].apply(lambda x: json.loads(x)['coordinates'] if x is not None else 0)\n",
    "\n"
   ]
  },
  {
   "cell_type": "code",
   "execution_count": 158,
   "id": "225a78a3",
   "metadata": {},
   "outputs": [
    {
     "data": {
      "application/vnd.plotly.v1+json": {
       "config": {
        "plotlyServerURL": "https://plot.ly"
       },
       "data": [
        {
         "geo": "geo",
         "geojson": "geojson",
         "hovertemplate": "planning_area=ANG MO KIO<br>english=%{marker.size}<extra></extra>",
         "legendgroup": "ANG MO KIO",
         "marker": {
          "color": "#636efa",
          "size": [
           62218
          ],
          "sizemode": "area",
          "sizeref": 155.545,
          "symbol": "circle"
         },
         "mode": "markers",
         "name": "ANG MO KIO",
         "showlegend": true,
         "type": "scattergeo"
        },
        {
         "geo": "geo",
         "geojson": "geojson",
         "hovertemplate": "planning_area=BEDOK<br>english=%{marker.size}<extra></extra>",
         "legendgroup": "BEDOK",
         "marker": {
          "color": "#EF553B",
          "size": [
           33010
          ],
          "sizemode": "area",
          "sizeref": 155.545,
          "symbol": "circle"
         },
         "mode": "markers",
         "name": "BEDOK",
         "showlegend": true,
         "type": "scattergeo"
        },
        {
         "geo": "geo",
         "geojson": "geojson",
         "hovertemplate": "planning_area=BISHAN<br>english=%{marker.size}<extra></extra>",
         "legendgroup": "BISHAN",
         "marker": {
          "color": "#00cc96",
          "size": [
           0
          ],
          "sizemode": "area",
          "sizeref": 155.545,
          "symbol": "circle"
         },
         "mode": "markers",
         "name": "BISHAN",
         "showlegend": true,
         "type": "scattergeo"
        },
        {
         "geo": "geo",
         "geojson": "geojson",
         "hovertemplate": "planning_area=BOON LAY<br>english=%{marker.size}<extra></extra>",
         "legendgroup": "BOON LAY",
         "marker": {
          "color": "#ab63fa",
          "size": [
           23175
          ],
          "sizemode": "area",
          "sizeref": 155.545,
          "symbol": "circle"
         },
         "mode": "markers",
         "name": "BOON LAY",
         "showlegend": true,
         "type": "scattergeo"
        },
        {
         "geo": "geo",
         "geojson": "geojson",
         "hovertemplate": "planning_area=BUKIT BATOK<br>english=%{marker.size}<extra></extra>",
         "legendgroup": "BUKIT BATOK",
         "marker": {
          "color": "#FFA15A",
          "size": [
           23184
          ],
          "sizemode": "area",
          "sizeref": 155.545,
          "symbol": "circle"
         },
         "mode": "markers",
         "name": "BUKIT BATOK",
         "showlegend": true,
         "type": "scattergeo"
        },
        {
         "geo": "geo",
         "geojson": "geojson",
         "hovertemplate": "planning_area=BUKIT MERAH<br>english=%{marker.size}<extra></extra>",
         "legendgroup": "BUKIT MERAH",
         "marker": {
          "color": "#19d3f3",
          "size": [
           24608
          ],
          "sizemode": "area",
          "sizeref": 155.545,
          "symbol": "circle"
         },
         "mode": "markers",
         "name": "BUKIT MERAH",
         "showlegend": true,
         "type": "scattergeo"
        },
        {
         "geo": "geo",
         "geojson": "geojson",
         "hovertemplate": "planning_area=CHOA CHU KANG<br>english=%{marker.size}<extra></extra>",
         "legendgroup": "CHOA CHU KANG",
         "marker": {
          "color": "#FF6692",
          "size": [
           15755
          ],
          "sizemode": "area",
          "sizeref": 155.545,
          "symbol": "circle"
         },
         "mode": "markers",
         "name": "CHOA CHU KANG",
         "showlegend": true,
         "type": "scattergeo"
        },
        {
         "geo": "geo",
         "geojson": "geojson",
         "hovertemplate": "planning_area=BUKIT PANJANG<br>english=%{marker.size}<extra></extra>",
         "legendgroup": "BUKIT PANJANG",
         "marker": {
          "color": "#B6E880",
          "size": [
           14384
          ],
          "sizemode": "area",
          "sizeref": 155.545,
          "symbol": "circle"
         },
         "mode": "markers",
         "name": "BUKIT PANJANG",
         "showlegend": true,
         "type": "scattergeo"
        },
        {
         "geo": "geo",
         "geojson": "geojson",
         "hovertemplate": "planning_area=JURONG EAST<br>english=%{marker.size}<extra></extra>",
         "legendgroup": "JURONG EAST",
         "marker": {
          "color": "#FF97FF",
          "size": [
           19033
          ],
          "sizemode": "area",
          "sizeref": 155.545,
          "symbol": "circle"
         },
         "mode": "markers",
         "name": "JURONG EAST",
         "showlegend": true,
         "type": "scattergeo"
        },
        {
         "geo": "geo",
         "geojson": "geojson",
         "hovertemplate": "planning_area=QUEENSTOWN<br>english=%{marker.size}<extra></extra>",
         "legendgroup": "QUEENSTOWN",
         "marker": {
          "color": "#FECB52",
          "size": [
           25974
          ],
          "sizemode": "area",
          "sizeref": 155.545,
          "symbol": "circle"
         },
         "mode": "markers",
         "name": "QUEENSTOWN",
         "showlegend": true,
         "type": "scattergeo"
        },
        {
         "geo": "geo",
         "geojson": "geojson",
         "hovertemplate": "planning_area=JURONG WEST<br>english=%{marker.size}<extra></extra>",
         "legendgroup": "JURONG WEST",
         "marker": {
          "color": "#636efa",
          "size": [
           33002
          ],
          "sizemode": "area",
          "sizeref": 155.545,
          "symbol": "circle"
         },
         "mode": "markers",
         "name": "JURONG WEST",
         "showlegend": true,
         "type": "scattergeo"
        },
        {
         "geo": "geo",
         "geojson": "geojson",
         "hovertemplate": "planning_area=BUKIT TIMAH<br>english=%{marker.size}<extra></extra>",
         "legendgroup": "BUKIT TIMAH",
         "marker": {
          "color": "#EF553B",
          "size": [
           0
          ],
          "sizemode": "area",
          "sizeref": 155.545,
          "symbol": "circle"
         },
         "mode": "markers",
         "name": "BUKIT TIMAH",
         "showlegend": true,
         "type": "scattergeo"
        },
        {
         "geo": "geo",
         "geojson": "geojson",
         "hovertemplate": "planning_area=CENTRAL WATER CATCHMENT<br>english=%{marker.size}<extra></extra>",
         "legendgroup": "CENTRAL WATER CATCHMENT",
         "marker": {
          "color": "#00cc96",
          "size": [
           177
          ],
          "sizemode": "area",
          "sizeref": 155.545,
          "symbol": "circle"
         },
         "mode": "markers",
         "name": "CENTRAL WATER CATCHMENT",
         "showlegend": true,
         "type": "scattergeo"
        },
        {
         "geo": "geo",
         "geojson": "geojson",
         "hovertemplate": "planning_area=CHANGI<br>english=%{marker.size}<extra></extra>",
         "legendgroup": "CHANGI",
         "marker": {
          "color": "#ab63fa",
          "size": [
           0
          ],
          "sizemode": "area",
          "sizeref": 155.545,
          "symbol": "circle"
         },
         "mode": "markers",
         "name": "CHANGI",
         "showlegend": true,
         "type": "scattergeo"
        },
        {
         "geo": "geo",
         "geojson": "geojson",
         "hovertemplate": "planning_area=CHANGI BAY<br>english=%{marker.size}<extra></extra>",
         "legendgroup": "CHANGI BAY",
         "marker": {
          "color": "#FFA15A",
          "size": [
           0
          ],
          "sizemode": "area",
          "sizeref": 155.545,
          "symbol": "circle"
         },
         "mode": "markers",
         "name": "CHANGI BAY",
         "showlegend": true,
         "type": "scattergeo"
        },
        {
         "geo": "geo",
         "geojson": "geojson",
         "hovertemplate": "planning_area=TENGAH<br>english=%{marker.size}<extra></extra>",
         "legendgroup": "TENGAH",
         "marker": {
          "color": "#19d3f3",
          "size": [
           19511
          ],
          "sizemode": "area",
          "sizeref": 155.545,
          "symbol": "circle"
         },
         "mode": "markers",
         "name": "TENGAH",
         "showlegend": true,
         "type": "scattergeo"
        },
        {
         "geo": "geo",
         "geojson": "geojson",
         "hovertemplate": "planning_area=CLEMENTI<br>english=%{marker.size}<extra></extra>",
         "legendgroup": "CLEMENTI",
         "marker": {
          "color": "#FF6692",
          "size": [
           17029
          ],
          "sizemode": "area",
          "sizeref": 155.545,
          "symbol": "circle"
         },
         "mode": "markers",
         "name": "CLEMENTI",
         "showlegend": true,
         "type": "scattergeo"
        },
        {
         "geo": "geo",
         "geojson": "geojson",
         "hovertemplate": "planning_area=GEYLANG<br>english=%{marker.size}<extra></extra>",
         "legendgroup": "GEYLANG",
         "marker": {
          "color": "#B6E880",
          "size": [
           42271
          ],
          "sizemode": "area",
          "sizeref": 155.545,
          "symbol": "circle"
         },
         "mode": "markers",
         "name": "GEYLANG",
         "showlegend": true,
         "type": "scattergeo"
        },
        {
         "geo": "geo",
         "geojson": "geojson",
         "hovertemplate": "planning_area=HOUGANG<br>english=%{marker.size}<extra></extra>",
         "legendgroup": "HOUGANG",
         "marker": {
          "color": "#FF97FF",
          "size": [
           0
          ],
          "sizemode": "area",
          "sizeref": 155.545,
          "symbol": "circle"
         },
         "mode": "markers",
         "name": "HOUGANG",
         "showlegend": true,
         "type": "scattergeo"
        },
        {
         "geo": "geo",
         "geojson": "geojson",
         "hovertemplate": "planning_area=PIONEER<br>english=%{marker.size}<extra></extra>",
         "legendgroup": "PIONEER",
         "marker": {
          "color": "#FECB52",
          "size": [
           0
          ],
          "sizemode": "area",
          "sizeref": 155.545,
          "symbol": "circle"
         },
         "mode": "markers",
         "name": "PIONEER",
         "showlegend": true,
         "type": "scattergeo"
        },
        {
         "geo": "geo",
         "geojson": "geojson",
         "hovertemplate": "planning_area=PUNGGOL<br>english=%{marker.size}<extra></extra>",
         "legendgroup": "PUNGGOL",
         "marker": {
          "color": "#636efa",
          "size": [
           0
          ],
          "sizemode": "area",
          "sizeref": 155.545,
          "symbol": "circle"
         },
         "mode": "markers",
         "name": "PUNGGOL",
         "showlegend": true,
         "type": "scattergeo"
        },
        {
         "geo": "geo",
         "geojson": "geojson",
         "hovertemplate": "planning_area=SELETAR<br>english=%{marker.size}<extra></extra>",
         "legendgroup": "SELETAR",
         "marker": {
          "color": "#EF553B",
          "size": [
           4219
          ],
          "sizemode": "area",
          "sizeref": 155.545,
          "symbol": "circle"
         },
         "mode": "markers",
         "name": "SELETAR",
         "showlegend": true,
         "type": "scattergeo"
        },
        {
         "geo": "geo",
         "geojson": "geojson",
         "hovertemplate": "planning_area=SEMBAWANG<br>english=%{marker.size}<extra></extra>",
         "legendgroup": "SEMBAWANG",
         "marker": {
          "color": "#00cc96",
          "size": [
           8726
          ],
          "sizemode": "area",
          "sizeref": 155.545,
          "symbol": "circle"
         },
         "mode": "markers",
         "name": "SEMBAWANG",
         "showlegend": true,
         "type": "scattergeo"
        },
        {
         "geo": "geo",
         "geojson": "geojson",
         "hovertemplate": "planning_area=SENGKANG<br>english=%{marker.size}<extra></extra>",
         "legendgroup": "SENGKANG",
         "marker": {
          "color": "#ab63fa",
          "size": [
           40057
          ],
          "sizemode": "area",
          "sizeref": 155.545,
          "symbol": "circle"
         },
         "mode": "markers",
         "name": "SENGKANG",
         "showlegend": true,
         "type": "scattergeo"
        },
        {
         "geo": "geo",
         "geojson": "geojson",
         "hovertemplate": "planning_area=SERANGOON<br>english=%{marker.size}<extra></extra>",
         "legendgroup": "SERANGOON",
         "marker": {
          "color": "#FFA15A",
          "size": [
           0
          ],
          "sizemode": "area",
          "sizeref": 155.545,
          "symbol": "circle"
         },
         "mode": "markers",
         "name": "SERANGOON",
         "showlegend": true,
         "type": "scattergeo"
        },
        {
         "geo": "geo",
         "geojson": "geojson",
         "hovertemplate": "planning_area=SIMPANG<br>english=%{marker.size}<extra></extra>",
         "legendgroup": "SIMPANG",
         "marker": {
          "color": "#19d3f3",
          "size": [
           0
          ],
          "sizemode": "area",
          "sizeref": 155.545,
          "symbol": "circle"
         },
         "mode": "markers",
         "name": "SIMPANG",
         "showlegend": true,
         "type": "scattergeo"
        },
        {
         "geo": "geo",
         "geojson": "geojson",
         "hovertemplate": "planning_area=SOUTHERN ISLANDS<br>english=%{marker.size}<extra></extra>",
         "legendgroup": "SOUTHERN ISLANDS",
         "marker": {
          "color": "#FF6692",
          "size": [
           0
          ],
          "sizemode": "area",
          "sizeref": 155.545,
          "symbol": "circle"
         },
         "mode": "markers",
         "name": "SOUTHERN ISLANDS",
         "showlegend": true,
         "type": "scattergeo"
        },
        {
         "geo": "geo",
         "geojson": "geojson",
         "hovertemplate": "planning_area=SUNGEI KADUT<br>english=%{marker.size}<extra></extra>",
         "legendgroup": "SUNGEI KADUT",
         "marker": {
          "color": "#B6E880",
          "size": [
           51087
          ],
          "sizemode": "area",
          "sizeref": 155.545,
          "symbol": "circle"
         },
         "mode": "markers",
         "name": "SUNGEI KADUT",
         "showlegend": true,
         "type": "scattergeo"
        },
        {
         "geo": "geo",
         "geojson": "geojson",
         "hovertemplate": "planning_area=TAMPINES<br>english=%{marker.size}<extra></extra>",
         "legendgroup": "TAMPINES",
         "marker": {
          "color": "#FF97FF",
          "size": [
           6817
          ],
          "sizemode": "area",
          "sizeref": 155.545,
          "symbol": "circle"
         },
         "mode": "markers",
         "name": "TAMPINES",
         "showlegend": true,
         "type": "scattergeo"
        },
        {
         "geo": "geo",
         "geojson": "geojson",
         "hovertemplate": "planning_area=TANGLIN<br>english=%{marker.size}<extra></extra>",
         "legendgroup": "TANGLIN",
         "marker": {
          "color": "#FECB52",
          "size": [
           23304
          ],
          "sizemode": "area",
          "sizeref": 155.545,
          "symbol": "circle"
         },
         "mode": "markers",
         "name": "TANGLIN",
         "showlegend": true,
         "type": "scattergeo"
        },
        {
         "geo": "geo",
         "geojson": "geojson",
         "hovertemplate": "planning_area=TOA PAYOH<br>english=%{marker.size}<extra></extra>",
         "legendgroup": "TOA PAYOH",
         "marker": {
          "color": "#636efa",
          "size": [
           0
          ],
          "sizemode": "area",
          "sizeref": 155.545,
          "symbol": "circle"
         },
         "mode": "markers",
         "name": "TOA PAYOH",
         "showlegend": true,
         "type": "scattergeo"
        },
        {
         "geo": "geo",
         "geojson": "geojson",
         "hovertemplate": "planning_area=TUAS<br>english=%{marker.size}<extra></extra>",
         "legendgroup": "TUAS",
         "marker": {
          "color": "#EF553B",
          "size": [
           0
          ],
          "sizemode": "area",
          "sizeref": 155.545,
          "symbol": "circle"
         },
         "mode": "markers",
         "name": "TUAS",
         "showlegend": true,
         "type": "scattergeo"
        },
        {
         "geo": "geo",
         "geojson": "geojson",
         "hovertemplate": "planning_area=WESTERN ISLANDS<br>english=%{marker.size}<extra></extra>",
         "legendgroup": "WESTERN ISLANDS",
         "marker": {
          "color": "#00cc96",
          "size": [
           0
          ],
          "sizemode": "area",
          "sizeref": 155.545,
          "symbol": "circle"
         },
         "mode": "markers",
         "name": "WESTERN ISLANDS",
         "showlegend": true,
         "type": "scattergeo"
        },
        {
         "geo": "geo",
         "geojson": "geojson",
         "hovertemplate": "planning_area=WESTERN WATER CATCHMENT<br>english=%{marker.size}<extra></extra>",
         "legendgroup": "WESTERN WATER CATCHMENT",
         "marker": {
          "color": "#ab63fa",
          "size": [
           27497
          ],
          "sizemode": "area",
          "sizeref": 155.545,
          "symbol": "circle"
         },
         "mode": "markers",
         "name": "WESTERN WATER CATCHMENT",
         "showlegend": true,
         "type": "scattergeo"
        },
        {
         "geo": "geo",
         "geojson": "geojson",
         "hovertemplate": "planning_area=WOODLANDS<br>english=%{marker.size}<extra></extra>",
         "legendgroup": "WOODLANDS",
         "marker": {
          "color": "#FFA15A",
          "size": [
           28448
          ],
          "sizemode": "area",
          "sizeref": 155.545,
          "symbol": "circle"
         },
         "mode": "markers",
         "name": "WOODLANDS",
         "showlegend": true,
         "type": "scattergeo"
        },
        {
         "geo": "geo",
         "geojson": "geojson",
         "hovertemplate": "planning_area=YISHUN<br>english=%{marker.size}<extra></extra>",
         "legendgroup": "YISHUN",
         "marker": {
          "color": "#19d3f3",
          "size": [
           482
          ],
          "sizemode": "area",
          "sizeref": 155.545,
          "symbol": "circle"
         },
         "mode": "markers",
         "name": "YISHUN",
         "showlegend": true,
         "type": "scattergeo"
        },
        {
         "geo": "geo",
         "geojson": "geojson",
         "hovertemplate": "planning_area=DOWNTOWN CORE<br>english=%{marker.size}<extra></extra>",
         "legendgroup": "DOWNTOWN CORE",
         "marker": {
          "color": "#FF6692",
          "size": [
           0
          ],
          "sizemode": "area",
          "sizeref": 155.545,
          "symbol": "circle"
         },
         "mode": "markers",
         "name": "DOWNTOWN CORE",
         "showlegend": true,
         "type": "scattergeo"
        },
        {
         "geo": "geo",
         "geojson": "geojson",
         "hovertemplate": "planning_area=MARINA EAST<br>english=%{marker.size}<extra></extra>",
         "legendgroup": "MARINA EAST",
         "marker": {
          "color": "#B6E880",
          "size": [
           0
          ],
          "sizemode": "area",
          "sizeref": 155.545,
          "symbol": "circle"
         },
         "mode": "markers",
         "name": "MARINA EAST",
         "showlegend": true,
         "type": "scattergeo"
        },
        {
         "geo": "geo",
         "geojson": "geojson",
         "hovertemplate": "planning_area=MARINA SOUTH<br>english=%{marker.size}<extra></extra>",
         "legendgroup": "MARINA SOUTH",
         "marker": {
          "color": "#FF97FF",
          "size": [
           0
          ],
          "sizemode": "area",
          "sizeref": 155.545,
          "symbol": "circle"
         },
         "mode": "markers",
         "name": "MARINA SOUTH",
         "showlegend": true,
         "type": "scattergeo"
        },
        {
         "geo": "geo",
         "geojson": "geojson",
         "hovertemplate": "planning_area=MUSEUM<br>english=%{marker.size}<extra></extra>",
         "legendgroup": "MUSEUM",
         "marker": {
          "color": "#FECB52",
          "size": [
           3004
          ],
          "sizemode": "area",
          "sizeref": 155.545,
          "symbol": "circle"
         },
         "mode": "markers",
         "name": "MUSEUM",
         "showlegend": true,
         "type": "scattergeo"
        },
        {
         "geo": "geo",
         "geojson": "geojson",
         "hovertemplate": "planning_area=NEWTON<br>english=%{marker.size}<extra></extra>",
         "legendgroup": "NEWTON",
         "marker": {
          "color": "#636efa",
          "size": [
           0
          ],
          "sizemode": "area",
          "sizeref": 155.545,
          "symbol": "circle"
         },
         "mode": "markers",
         "name": "NEWTON",
         "showlegend": true,
         "type": "scattergeo"
        },
        {
         "geo": "geo",
         "geojson": "geojson",
         "hovertemplate": "planning_area=ORCHARD<br>english=%{marker.size}<extra></extra>",
         "legendgroup": "ORCHARD",
         "marker": {
          "color": "#EF553B",
          "size": [
           1746
          ],
          "sizemode": "area",
          "sizeref": 155.545,
          "symbol": "circle"
         },
         "mode": "markers",
         "name": "ORCHARD",
         "showlegend": true,
         "type": "scattergeo"
        },
        {
         "geo": "geo",
         "geojson": "geojson",
         "hovertemplate": "planning_area=OUTRAM<br>english=%{marker.size}<extra></extra>",
         "legendgroup": "OUTRAM",
         "marker": {
          "color": "#00cc96",
          "size": [
           13970
          ],
          "sizemode": "area",
          "sizeref": 155.545,
          "symbol": "circle"
         },
         "mode": "markers",
         "name": "OUTRAM",
         "showlegend": true,
         "type": "scattergeo"
        },
        {
         "geo": "geo",
         "geojson": "geojson",
         "hovertemplate": "planning_area=KALLANG<br>english=%{marker.size}<extra></extra>",
         "legendgroup": "KALLANG",
         "marker": {
          "color": "#ab63fa",
          "size": [
           0
          ],
          "sizemode": "area",
          "sizeref": 155.545,
          "symbol": "circle"
         },
         "mode": "markers",
         "name": "KALLANG",
         "showlegend": true,
         "type": "scattergeo"
        },
        {
         "geo": "geo",
         "geojson": "geojson",
         "hovertemplate": "planning_area=LIM CHU KANG<br>english=%{marker.size}<extra></extra>",
         "legendgroup": "LIM CHU KANG",
         "marker": {
          "color": "#FFA15A",
          "size": [
           0
          ],
          "sizemode": "area",
          "sizeref": 155.545,
          "symbol": "circle"
         },
         "mode": "markers",
         "name": "LIM CHU KANG",
         "showlegend": true,
         "type": "scattergeo"
        },
        {
         "geo": "geo",
         "geojson": "geojson",
         "hovertemplate": "planning_area=MANDAI<br>english=%{marker.size}<extra></extra>",
         "legendgroup": "MANDAI",
         "marker": {
          "color": "#19d3f3",
          "size": [
           15087
          ],
          "sizemode": "area",
          "sizeref": 155.545,
          "symbol": "circle"
         },
         "mode": "markers",
         "name": "MANDAI",
         "showlegend": true,
         "type": "scattergeo"
        },
        {
         "geo": "geo",
         "geojson": "geojson",
         "hovertemplate": "planning_area=MARINE PARADE<br>english=%{marker.size}<extra></extra>",
         "legendgroup": "MARINE PARADE",
         "marker": {
          "color": "#FF6692",
          "size": [
           0
          ],
          "sizemode": "area",
          "sizeref": 155.545,
          "symbol": "circle"
         },
         "mode": "markers",
         "name": "MARINE PARADE",
         "showlegend": true,
         "type": "scattergeo"
        },
        {
         "geo": "geo",
         "geojson": "geojson",
         "hovertemplate": "planning_area=NORTH-EASTERN ISLANDS<br>english=%{marker.size}<extra></extra>",
         "legendgroup": "NORTH-EASTERN ISLANDS",
         "marker": {
          "color": "#B6E880",
          "size": [
           14559
          ],
          "sizemode": "area",
          "sizeref": 155.545,
          "symbol": "circle"
         },
         "mode": "markers",
         "name": "NORTH-EASTERN ISLANDS",
         "showlegend": true,
         "type": "scattergeo"
        },
        {
         "geo": "geo",
         "geojson": "geojson",
         "hovertemplate": "planning_area=NOVENA<br>english=%{marker.size}<extra></extra>",
         "legendgroup": "NOVENA",
         "marker": {
          "color": "#FF97FF",
          "size": [
           35001
          ],
          "sizemode": "area",
          "sizeref": 155.545,
          "symbol": "circle"
         },
         "mode": "markers",
         "name": "NOVENA",
         "showlegend": true,
         "type": "scattergeo"
        },
        {
         "geo": "geo",
         "geojson": "geojson",
         "hovertemplate": "planning_area=PASIR RIS<br>english=%{marker.size}<extra></extra>",
         "legendgroup": "PASIR RIS",
         "marker": {
          "color": "#FECB52",
          "size": [
           0
          ],
          "sizemode": "area",
          "sizeref": 155.545,
          "symbol": "circle"
         },
         "mode": "markers",
         "name": "PASIR RIS",
         "showlegend": true,
         "type": "scattergeo"
        },
        {
         "geo": "geo",
         "geojson": "geojson",
         "hovertemplate": "planning_area=PAYA LEBAR<br>english=%{marker.size}<extra></extra>",
         "legendgroup": "PAYA LEBAR",
         "marker": {
          "color": "#636efa",
          "size": [
           3760
          ],
          "sizemode": "area",
          "sizeref": 155.545,
          "symbol": "circle"
         },
         "mode": "markers",
         "name": "PAYA LEBAR",
         "showlegend": true,
         "type": "scattergeo"
        },
        {
         "geo": "geo",
         "geojson": "geojson",
         "hovertemplate": "planning_area=RIVER VALLEY<br>english=%{marker.size}<extra></extra>",
         "legendgroup": "RIVER VALLEY",
         "marker": {
          "color": "#EF553B",
          "size": [
           1850
          ],
          "sizemode": "area",
          "sizeref": 155.545,
          "symbol": "circle"
         },
         "mode": "markers",
         "name": "RIVER VALLEY",
         "showlegend": true,
         "type": "scattergeo"
        },
        {
         "geo": "geo",
         "geojson": "geojson",
         "hovertemplate": "planning_area=ROCHOR<br>english=%{marker.size}<extra></extra>",
         "legendgroup": "ROCHOR",
         "marker": {
          "color": "#00cc96",
          "size": [
           0
          ],
          "sizemode": "area",
          "sizeref": 155.545,
          "symbol": "circle"
         },
         "mode": "markers",
         "name": "ROCHOR",
         "showlegend": true,
         "type": "scattergeo"
        },
        {
         "geo": "geo",
         "geojson": "geojson",
         "hovertemplate": "planning_area=SINGAPORE RIVER<br>english=%{marker.size}<extra></extra>",
         "legendgroup": "SINGAPORE RIVER",
         "marker": {
          "color": "#ab63fa",
          "size": [
           0
          ],
          "sizemode": "area",
          "sizeref": 155.545,
          "symbol": "circle"
         },
         "mode": "markers",
         "name": "SINGAPORE RIVER",
         "showlegend": true,
         "type": "scattergeo"
        },
        {
         "geo": "geo",
         "geojson": "geojson",
         "hovertemplate": "planning_area=STRAITS VIEW<br>english=%{marker.size}<extra></extra>",
         "legendgroup": "STRAITS VIEW",
         "marker": {
          "color": "#FFA15A",
          "size": [
           0
          ],
          "sizemode": "area",
          "sizeref": 155.545,
          "symbol": "circle"
         },
         "mode": "markers",
         "name": "STRAITS VIEW",
         "showlegend": true,
         "type": "scattergeo"
        }
       ],
       "layout": {
        "geo": {
         "center": {},
         "domain": {
          "x": [
           0,
           1
          ],
          "y": [
           0,
           1
          ]
         },
         "projection": {
          "type": "natural earth"
         }
        },
        "legend": {
         "itemsizing": "constant",
         "title": {
          "text": "planning_area"
         },
         "tracegroupgap": 0
        },
        "margin": {
         "t": 60
        },
        "template": {
         "data": {
          "bar": [
           {
            "error_x": {
             "color": "#2a3f5f"
            },
            "error_y": {
             "color": "#2a3f5f"
            },
            "marker": {
             "line": {
              "color": "#E5ECF6",
              "width": 0.5
             },
             "pattern": {
              "fillmode": "overlay",
              "size": 10,
              "solidity": 0.2
             }
            },
            "type": "bar"
           }
          ],
          "barpolar": [
           {
            "marker": {
             "line": {
              "color": "#E5ECF6",
              "width": 0.5
             },
             "pattern": {
              "fillmode": "overlay",
              "size": 10,
              "solidity": 0.2
             }
            },
            "type": "barpolar"
           }
          ],
          "carpet": [
           {
            "aaxis": {
             "endlinecolor": "#2a3f5f",
             "gridcolor": "white",
             "linecolor": "white",
             "minorgridcolor": "white",
             "startlinecolor": "#2a3f5f"
            },
            "baxis": {
             "endlinecolor": "#2a3f5f",
             "gridcolor": "white",
             "linecolor": "white",
             "minorgridcolor": "white",
             "startlinecolor": "#2a3f5f"
            },
            "type": "carpet"
           }
          ],
          "choropleth": [
           {
            "colorbar": {
             "outlinewidth": 0,
             "ticks": ""
            },
            "type": "choropleth"
           }
          ],
          "contour": [
           {
            "colorbar": {
             "outlinewidth": 0,
             "ticks": ""
            },
            "colorscale": [
             [
              0,
              "#0d0887"
             ],
             [
              0.1111111111111111,
              "#46039f"
             ],
             [
              0.2222222222222222,
              "#7201a8"
             ],
             [
              0.3333333333333333,
              "#9c179e"
             ],
             [
              0.4444444444444444,
              "#bd3786"
             ],
             [
              0.5555555555555556,
              "#d8576b"
             ],
             [
              0.6666666666666666,
              "#ed7953"
             ],
             [
              0.7777777777777778,
              "#fb9f3a"
             ],
             [
              0.8888888888888888,
              "#fdca26"
             ],
             [
              1,
              "#f0f921"
             ]
            ],
            "type": "contour"
           }
          ],
          "contourcarpet": [
           {
            "colorbar": {
             "outlinewidth": 0,
             "ticks": ""
            },
            "type": "contourcarpet"
           }
          ],
          "heatmap": [
           {
            "colorbar": {
             "outlinewidth": 0,
             "ticks": ""
            },
            "colorscale": [
             [
              0,
              "#0d0887"
             ],
             [
              0.1111111111111111,
              "#46039f"
             ],
             [
              0.2222222222222222,
              "#7201a8"
             ],
             [
              0.3333333333333333,
              "#9c179e"
             ],
             [
              0.4444444444444444,
              "#bd3786"
             ],
             [
              0.5555555555555556,
              "#d8576b"
             ],
             [
              0.6666666666666666,
              "#ed7953"
             ],
             [
              0.7777777777777778,
              "#fb9f3a"
             ],
             [
              0.8888888888888888,
              "#fdca26"
             ],
             [
              1,
              "#f0f921"
             ]
            ],
            "type": "heatmap"
           }
          ],
          "heatmapgl": [
           {
            "colorbar": {
             "outlinewidth": 0,
             "ticks": ""
            },
            "colorscale": [
             [
              0,
              "#0d0887"
             ],
             [
              0.1111111111111111,
              "#46039f"
             ],
             [
              0.2222222222222222,
              "#7201a8"
             ],
             [
              0.3333333333333333,
              "#9c179e"
             ],
             [
              0.4444444444444444,
              "#bd3786"
             ],
             [
              0.5555555555555556,
              "#d8576b"
             ],
             [
              0.6666666666666666,
              "#ed7953"
             ],
             [
              0.7777777777777778,
              "#fb9f3a"
             ],
             [
              0.8888888888888888,
              "#fdca26"
             ],
             [
              1,
              "#f0f921"
             ]
            ],
            "type": "heatmapgl"
           }
          ],
          "histogram": [
           {
            "marker": {
             "pattern": {
              "fillmode": "overlay",
              "size": 10,
              "solidity": 0.2
             }
            },
            "type": "histogram"
           }
          ],
          "histogram2d": [
           {
            "colorbar": {
             "outlinewidth": 0,
             "ticks": ""
            },
            "colorscale": [
             [
              0,
              "#0d0887"
             ],
             [
              0.1111111111111111,
              "#46039f"
             ],
             [
              0.2222222222222222,
              "#7201a8"
             ],
             [
              0.3333333333333333,
              "#9c179e"
             ],
             [
              0.4444444444444444,
              "#bd3786"
             ],
             [
              0.5555555555555556,
              "#d8576b"
             ],
             [
              0.6666666666666666,
              "#ed7953"
             ],
             [
              0.7777777777777778,
              "#fb9f3a"
             ],
             [
              0.8888888888888888,
              "#fdca26"
             ],
             [
              1,
              "#f0f921"
             ]
            ],
            "type": "histogram2d"
           }
          ],
          "histogram2dcontour": [
           {
            "colorbar": {
             "outlinewidth": 0,
             "ticks": ""
            },
            "colorscale": [
             [
              0,
              "#0d0887"
             ],
             [
              0.1111111111111111,
              "#46039f"
             ],
             [
              0.2222222222222222,
              "#7201a8"
             ],
             [
              0.3333333333333333,
              "#9c179e"
             ],
             [
              0.4444444444444444,
              "#bd3786"
             ],
             [
              0.5555555555555556,
              "#d8576b"
             ],
             [
              0.6666666666666666,
              "#ed7953"
             ],
             [
              0.7777777777777778,
              "#fb9f3a"
             ],
             [
              0.8888888888888888,
              "#fdca26"
             ],
             [
              1,
              "#f0f921"
             ]
            ],
            "type": "histogram2dcontour"
           }
          ],
          "mesh3d": [
           {
            "colorbar": {
             "outlinewidth": 0,
             "ticks": ""
            },
            "type": "mesh3d"
           }
          ],
          "parcoords": [
           {
            "line": {
             "colorbar": {
              "outlinewidth": 0,
              "ticks": ""
             }
            },
            "type": "parcoords"
           }
          ],
          "pie": [
           {
            "automargin": true,
            "type": "pie"
           }
          ],
          "scatter": [
           {
            "fillpattern": {
             "fillmode": "overlay",
             "size": 10,
             "solidity": 0.2
            },
            "type": "scatter"
           }
          ],
          "scatter3d": [
           {
            "line": {
             "colorbar": {
              "outlinewidth": 0,
              "ticks": ""
             }
            },
            "marker": {
             "colorbar": {
              "outlinewidth": 0,
              "ticks": ""
             }
            },
            "type": "scatter3d"
           }
          ],
          "scattercarpet": [
           {
            "marker": {
             "colorbar": {
              "outlinewidth": 0,
              "ticks": ""
             }
            },
            "type": "scattercarpet"
           }
          ],
          "scattergeo": [
           {
            "marker": {
             "colorbar": {
              "outlinewidth": 0,
              "ticks": ""
             }
            },
            "type": "scattergeo"
           }
          ],
          "scattergl": [
           {
            "marker": {
             "colorbar": {
              "outlinewidth": 0,
              "ticks": ""
             }
            },
            "type": "scattergl"
           }
          ],
          "scattermapbox": [
           {
            "marker": {
             "colorbar": {
              "outlinewidth": 0,
              "ticks": ""
             }
            },
            "type": "scattermapbox"
           }
          ],
          "scatterpolar": [
           {
            "marker": {
             "colorbar": {
              "outlinewidth": 0,
              "ticks": ""
             }
            },
            "type": "scatterpolar"
           }
          ],
          "scatterpolargl": [
           {
            "marker": {
             "colorbar": {
              "outlinewidth": 0,
              "ticks": ""
             }
            },
            "type": "scatterpolargl"
           }
          ],
          "scatterternary": [
           {
            "marker": {
             "colorbar": {
              "outlinewidth": 0,
              "ticks": ""
             }
            },
            "type": "scatterternary"
           }
          ],
          "surface": [
           {
            "colorbar": {
             "outlinewidth": 0,
             "ticks": ""
            },
            "colorscale": [
             [
              0,
              "#0d0887"
             ],
             [
              0.1111111111111111,
              "#46039f"
             ],
             [
              0.2222222222222222,
              "#7201a8"
             ],
             [
              0.3333333333333333,
              "#9c179e"
             ],
             [
              0.4444444444444444,
              "#bd3786"
             ],
             [
              0.5555555555555556,
              "#d8576b"
             ],
             [
              0.6666666666666666,
              "#ed7953"
             ],
             [
              0.7777777777777778,
              "#fb9f3a"
             ],
             [
              0.8888888888888888,
              "#fdca26"
             ],
             [
              1,
              "#f0f921"
             ]
            ],
            "type": "surface"
           }
          ],
          "table": [
           {
            "cells": {
             "fill": {
              "color": "#EBF0F8"
             },
             "line": {
              "color": "white"
             }
            },
            "header": {
             "fill": {
              "color": "#C8D4E3"
             },
             "line": {
              "color": "white"
             }
            },
            "type": "table"
           }
          ]
         },
         "layout": {
          "annotationdefaults": {
           "arrowcolor": "#2a3f5f",
           "arrowhead": 0,
           "arrowwidth": 1
          },
          "autotypenumbers": "strict",
          "coloraxis": {
           "colorbar": {
            "outlinewidth": 0,
            "ticks": ""
           }
          },
          "colorscale": {
           "diverging": [
            [
             0,
             "#8e0152"
            ],
            [
             0.1,
             "#c51b7d"
            ],
            [
             0.2,
             "#de77ae"
            ],
            [
             0.3,
             "#f1b6da"
            ],
            [
             0.4,
             "#fde0ef"
            ],
            [
             0.5,
             "#f7f7f7"
            ],
            [
             0.6,
             "#e6f5d0"
            ],
            [
             0.7,
             "#b8e186"
            ],
            [
             0.8,
             "#7fbc41"
            ],
            [
             0.9,
             "#4d9221"
            ],
            [
             1,
             "#276419"
            ]
           ],
           "sequential": [
            [
             0,
             "#0d0887"
            ],
            [
             0.1111111111111111,
             "#46039f"
            ],
            [
             0.2222222222222222,
             "#7201a8"
            ],
            [
             0.3333333333333333,
             "#9c179e"
            ],
            [
             0.4444444444444444,
             "#bd3786"
            ],
            [
             0.5555555555555556,
             "#d8576b"
            ],
            [
             0.6666666666666666,
             "#ed7953"
            ],
            [
             0.7777777777777778,
             "#fb9f3a"
            ],
            [
             0.8888888888888888,
             "#fdca26"
            ],
            [
             1,
             "#f0f921"
            ]
           ],
           "sequentialminus": [
            [
             0,
             "#0d0887"
            ],
            [
             0.1111111111111111,
             "#46039f"
            ],
            [
             0.2222222222222222,
             "#7201a8"
            ],
            [
             0.3333333333333333,
             "#9c179e"
            ],
            [
             0.4444444444444444,
             "#bd3786"
            ],
            [
             0.5555555555555556,
             "#d8576b"
            ],
            [
             0.6666666666666666,
             "#ed7953"
            ],
            [
             0.7777777777777778,
             "#fb9f3a"
            ],
            [
             0.8888888888888888,
             "#fdca26"
            ],
            [
             1,
             "#f0f921"
            ]
           ]
          },
          "colorway": [
           "#636efa",
           "#EF553B",
           "#00cc96",
           "#ab63fa",
           "#FFA15A",
           "#19d3f3",
           "#FF6692",
           "#B6E880",
           "#FF97FF",
           "#FECB52"
          ],
          "font": {
           "color": "#2a3f5f"
          },
          "geo": {
           "bgcolor": "white",
           "lakecolor": "white",
           "landcolor": "#E5ECF6",
           "showlakes": true,
           "showland": true,
           "subunitcolor": "white"
          },
          "hoverlabel": {
           "align": "left"
          },
          "hovermode": "closest",
          "mapbox": {
           "style": "light"
          },
          "paper_bgcolor": "white",
          "plot_bgcolor": "#E5ECF6",
          "polar": {
           "angularaxis": {
            "gridcolor": "white",
            "linecolor": "white",
            "ticks": ""
           },
           "bgcolor": "#E5ECF6",
           "radialaxis": {
            "gridcolor": "white",
            "linecolor": "white",
            "ticks": ""
           }
          },
          "scene": {
           "xaxis": {
            "backgroundcolor": "#E5ECF6",
            "gridcolor": "white",
            "gridwidth": 2,
            "linecolor": "white",
            "showbackground": true,
            "ticks": "",
            "zerolinecolor": "white"
           },
           "yaxis": {
            "backgroundcolor": "#E5ECF6",
            "gridcolor": "white",
            "gridwidth": 2,
            "linecolor": "white",
            "showbackground": true,
            "ticks": "",
            "zerolinecolor": "white"
           },
           "zaxis": {
            "backgroundcolor": "#E5ECF6",
            "gridcolor": "white",
            "gridwidth": 2,
            "linecolor": "white",
            "showbackground": true,
            "ticks": "",
            "zerolinecolor": "white"
           }
          },
          "shapedefaults": {
           "line": {
            "color": "#2a3f5f"
           }
          },
          "ternary": {
           "aaxis": {
            "gridcolor": "white",
            "linecolor": "white",
            "ticks": ""
           },
           "baxis": {
            "gridcolor": "white",
            "linecolor": "white",
            "ticks": ""
           },
           "bgcolor": "#E5ECF6",
           "caxis": {
            "gridcolor": "white",
            "linecolor": "white",
            "ticks": ""
           }
          },
          "title": {
           "x": 0.05
          },
          "xaxis": {
           "automargin": true,
           "gridcolor": "white",
           "linecolor": "white",
           "ticks": "",
           "title": {
            "standoff": 15
           },
           "zerolinecolor": "white",
           "zerolinewidth": 2
          },
          "yaxis": {
           "automargin": true,
           "gridcolor": "white",
           "linecolor": "white",
           "ticks": "",
           "title": {
            "standoff": 15
           },
           "zerolinecolor": "white",
           "zerolinewidth": 2
          }
         }
        }
       }
      },
      "text/html": [
       "<div>                            <div id=\"1bc6148b-ccf9-4ace-8c68-792b238512c7\" class=\"plotly-graph-div\" style=\"height:525px; width:100%;\"></div>            <script type=\"text/javascript\">                require([\"plotly\"], function(Plotly) {                    window.PLOTLYENV=window.PLOTLYENV || {};                                    if (document.getElementById(\"1bc6148b-ccf9-4ace-8c68-792b238512c7\")) {                    Plotly.newPlot(                        \"1bc6148b-ccf9-4ace-8c68-792b238512c7\",                        [{\"geo\":\"geo\",\"geojson\":\"geojson\",\"hovertemplate\":\"planning_area=ANG MO KIO<br>english=%{marker.size}<extra></extra>\",\"legendgroup\":\"ANG MO KIO\",\"marker\":{\"color\":\"#636efa\",\"size\":[62218],\"sizemode\":\"area\",\"sizeref\":155.545,\"symbol\":\"circle\"},\"mode\":\"markers\",\"name\":\"ANG MO KIO\",\"showlegend\":true,\"type\":\"scattergeo\"},{\"geo\":\"geo\",\"geojson\":\"geojson\",\"hovertemplate\":\"planning_area=BEDOK<br>english=%{marker.size}<extra></extra>\",\"legendgroup\":\"BEDOK\",\"marker\":{\"color\":\"#EF553B\",\"size\":[33010],\"sizemode\":\"area\",\"sizeref\":155.545,\"symbol\":\"circle\"},\"mode\":\"markers\",\"name\":\"BEDOK\",\"showlegend\":true,\"type\":\"scattergeo\"},{\"geo\":\"geo\",\"geojson\":\"geojson\",\"hovertemplate\":\"planning_area=BISHAN<br>english=%{marker.size}<extra></extra>\",\"legendgroup\":\"BISHAN\",\"marker\":{\"color\":\"#00cc96\",\"size\":[0],\"sizemode\":\"area\",\"sizeref\":155.545,\"symbol\":\"circle\"},\"mode\":\"markers\",\"name\":\"BISHAN\",\"showlegend\":true,\"type\":\"scattergeo\"},{\"geo\":\"geo\",\"geojson\":\"geojson\",\"hovertemplate\":\"planning_area=BOON LAY<br>english=%{marker.size}<extra></extra>\",\"legendgroup\":\"BOON LAY\",\"marker\":{\"color\":\"#ab63fa\",\"size\":[23175],\"sizemode\":\"area\",\"sizeref\":155.545,\"symbol\":\"circle\"},\"mode\":\"markers\",\"name\":\"BOON LAY\",\"showlegend\":true,\"type\":\"scattergeo\"},{\"geo\":\"geo\",\"geojson\":\"geojson\",\"hovertemplate\":\"planning_area=BUKIT BATOK<br>english=%{marker.size}<extra></extra>\",\"legendgroup\":\"BUKIT BATOK\",\"marker\":{\"color\":\"#FFA15A\",\"size\":[23184],\"sizemode\":\"area\",\"sizeref\":155.545,\"symbol\":\"circle\"},\"mode\":\"markers\",\"name\":\"BUKIT BATOK\",\"showlegend\":true,\"type\":\"scattergeo\"},{\"geo\":\"geo\",\"geojson\":\"geojson\",\"hovertemplate\":\"planning_area=BUKIT MERAH<br>english=%{marker.size}<extra></extra>\",\"legendgroup\":\"BUKIT MERAH\",\"marker\":{\"color\":\"#19d3f3\",\"size\":[24608],\"sizemode\":\"area\",\"sizeref\":155.545,\"symbol\":\"circle\"},\"mode\":\"markers\",\"name\":\"BUKIT MERAH\",\"showlegend\":true,\"type\":\"scattergeo\"},{\"geo\":\"geo\",\"geojson\":\"geojson\",\"hovertemplate\":\"planning_area=CHOA CHU KANG<br>english=%{marker.size}<extra></extra>\",\"legendgroup\":\"CHOA CHU KANG\",\"marker\":{\"color\":\"#FF6692\",\"size\":[15755],\"sizemode\":\"area\",\"sizeref\":155.545,\"symbol\":\"circle\"},\"mode\":\"markers\",\"name\":\"CHOA CHU KANG\",\"showlegend\":true,\"type\":\"scattergeo\"},{\"geo\":\"geo\",\"geojson\":\"geojson\",\"hovertemplate\":\"planning_area=BUKIT PANJANG<br>english=%{marker.size}<extra></extra>\",\"legendgroup\":\"BUKIT PANJANG\",\"marker\":{\"color\":\"#B6E880\",\"size\":[14384],\"sizemode\":\"area\",\"sizeref\":155.545,\"symbol\":\"circle\"},\"mode\":\"markers\",\"name\":\"BUKIT PANJANG\",\"showlegend\":true,\"type\":\"scattergeo\"},{\"geo\":\"geo\",\"geojson\":\"geojson\",\"hovertemplate\":\"planning_area=JURONG EAST<br>english=%{marker.size}<extra></extra>\",\"legendgroup\":\"JURONG EAST\",\"marker\":{\"color\":\"#FF97FF\",\"size\":[19033],\"sizemode\":\"area\",\"sizeref\":155.545,\"symbol\":\"circle\"},\"mode\":\"markers\",\"name\":\"JURONG EAST\",\"showlegend\":true,\"type\":\"scattergeo\"},{\"geo\":\"geo\",\"geojson\":\"geojson\",\"hovertemplate\":\"planning_area=QUEENSTOWN<br>english=%{marker.size}<extra></extra>\",\"legendgroup\":\"QUEENSTOWN\",\"marker\":{\"color\":\"#FECB52\",\"size\":[25974],\"sizemode\":\"area\",\"sizeref\":155.545,\"symbol\":\"circle\"},\"mode\":\"markers\",\"name\":\"QUEENSTOWN\",\"showlegend\":true,\"type\":\"scattergeo\"},{\"geo\":\"geo\",\"geojson\":\"geojson\",\"hovertemplate\":\"planning_area=JURONG WEST<br>english=%{marker.size}<extra></extra>\",\"legendgroup\":\"JURONG WEST\",\"marker\":{\"color\":\"#636efa\",\"size\":[33002],\"sizemode\":\"area\",\"sizeref\":155.545,\"symbol\":\"circle\"},\"mode\":\"markers\",\"name\":\"JURONG WEST\",\"showlegend\":true,\"type\":\"scattergeo\"},{\"geo\":\"geo\",\"geojson\":\"geojson\",\"hovertemplate\":\"planning_area=BUKIT TIMAH<br>english=%{marker.size}<extra></extra>\",\"legendgroup\":\"BUKIT TIMAH\",\"marker\":{\"color\":\"#EF553B\",\"size\":[0],\"sizemode\":\"area\",\"sizeref\":155.545,\"symbol\":\"circle\"},\"mode\":\"markers\",\"name\":\"BUKIT TIMAH\",\"showlegend\":true,\"type\":\"scattergeo\"},{\"geo\":\"geo\",\"geojson\":\"geojson\",\"hovertemplate\":\"planning_area=CENTRAL WATER CATCHMENT<br>english=%{marker.size}<extra></extra>\",\"legendgroup\":\"CENTRAL WATER CATCHMENT\",\"marker\":{\"color\":\"#00cc96\",\"size\":[177],\"sizemode\":\"area\",\"sizeref\":155.545,\"symbol\":\"circle\"},\"mode\":\"markers\",\"name\":\"CENTRAL WATER CATCHMENT\",\"showlegend\":true,\"type\":\"scattergeo\"},{\"geo\":\"geo\",\"geojson\":\"geojson\",\"hovertemplate\":\"planning_area=CHANGI<br>english=%{marker.size}<extra></extra>\",\"legendgroup\":\"CHANGI\",\"marker\":{\"color\":\"#ab63fa\",\"size\":[0],\"sizemode\":\"area\",\"sizeref\":155.545,\"symbol\":\"circle\"},\"mode\":\"markers\",\"name\":\"CHANGI\",\"showlegend\":true,\"type\":\"scattergeo\"},{\"geo\":\"geo\",\"geojson\":\"geojson\",\"hovertemplate\":\"planning_area=CHANGI BAY<br>english=%{marker.size}<extra></extra>\",\"legendgroup\":\"CHANGI BAY\",\"marker\":{\"color\":\"#FFA15A\",\"size\":[0],\"sizemode\":\"area\",\"sizeref\":155.545,\"symbol\":\"circle\"},\"mode\":\"markers\",\"name\":\"CHANGI BAY\",\"showlegend\":true,\"type\":\"scattergeo\"},{\"geo\":\"geo\",\"geojson\":\"geojson\",\"hovertemplate\":\"planning_area=TENGAH<br>english=%{marker.size}<extra></extra>\",\"legendgroup\":\"TENGAH\",\"marker\":{\"color\":\"#19d3f3\",\"size\":[19511],\"sizemode\":\"area\",\"sizeref\":155.545,\"symbol\":\"circle\"},\"mode\":\"markers\",\"name\":\"TENGAH\",\"showlegend\":true,\"type\":\"scattergeo\"},{\"geo\":\"geo\",\"geojson\":\"geojson\",\"hovertemplate\":\"planning_area=CLEMENTI<br>english=%{marker.size}<extra></extra>\",\"legendgroup\":\"CLEMENTI\",\"marker\":{\"color\":\"#FF6692\",\"size\":[17029],\"sizemode\":\"area\",\"sizeref\":155.545,\"symbol\":\"circle\"},\"mode\":\"markers\",\"name\":\"CLEMENTI\",\"showlegend\":true,\"type\":\"scattergeo\"},{\"geo\":\"geo\",\"geojson\":\"geojson\",\"hovertemplate\":\"planning_area=GEYLANG<br>english=%{marker.size}<extra></extra>\",\"legendgroup\":\"GEYLANG\",\"marker\":{\"color\":\"#B6E880\",\"size\":[42271],\"sizemode\":\"area\",\"sizeref\":155.545,\"symbol\":\"circle\"},\"mode\":\"markers\",\"name\":\"GEYLANG\",\"showlegend\":true,\"type\":\"scattergeo\"},{\"geo\":\"geo\",\"geojson\":\"geojson\",\"hovertemplate\":\"planning_area=HOUGANG<br>english=%{marker.size}<extra></extra>\",\"legendgroup\":\"HOUGANG\",\"marker\":{\"color\":\"#FF97FF\",\"size\":[0],\"sizemode\":\"area\",\"sizeref\":155.545,\"symbol\":\"circle\"},\"mode\":\"markers\",\"name\":\"HOUGANG\",\"showlegend\":true,\"type\":\"scattergeo\"},{\"geo\":\"geo\",\"geojson\":\"geojson\",\"hovertemplate\":\"planning_area=PIONEER<br>english=%{marker.size}<extra></extra>\",\"legendgroup\":\"PIONEER\",\"marker\":{\"color\":\"#FECB52\",\"size\":[0],\"sizemode\":\"area\",\"sizeref\":155.545,\"symbol\":\"circle\"},\"mode\":\"markers\",\"name\":\"PIONEER\",\"showlegend\":true,\"type\":\"scattergeo\"},{\"geo\":\"geo\",\"geojson\":\"geojson\",\"hovertemplate\":\"planning_area=PUNGGOL<br>english=%{marker.size}<extra></extra>\",\"legendgroup\":\"PUNGGOL\",\"marker\":{\"color\":\"#636efa\",\"size\":[0],\"sizemode\":\"area\",\"sizeref\":155.545,\"symbol\":\"circle\"},\"mode\":\"markers\",\"name\":\"PUNGGOL\",\"showlegend\":true,\"type\":\"scattergeo\"},{\"geo\":\"geo\",\"geojson\":\"geojson\",\"hovertemplate\":\"planning_area=SELETAR<br>english=%{marker.size}<extra></extra>\",\"legendgroup\":\"SELETAR\",\"marker\":{\"color\":\"#EF553B\",\"size\":[4219],\"sizemode\":\"area\",\"sizeref\":155.545,\"symbol\":\"circle\"},\"mode\":\"markers\",\"name\":\"SELETAR\",\"showlegend\":true,\"type\":\"scattergeo\"},{\"geo\":\"geo\",\"geojson\":\"geojson\",\"hovertemplate\":\"planning_area=SEMBAWANG<br>english=%{marker.size}<extra></extra>\",\"legendgroup\":\"SEMBAWANG\",\"marker\":{\"color\":\"#00cc96\",\"size\":[8726],\"sizemode\":\"area\",\"sizeref\":155.545,\"symbol\":\"circle\"},\"mode\":\"markers\",\"name\":\"SEMBAWANG\",\"showlegend\":true,\"type\":\"scattergeo\"},{\"geo\":\"geo\",\"geojson\":\"geojson\",\"hovertemplate\":\"planning_area=SENGKANG<br>english=%{marker.size}<extra></extra>\",\"legendgroup\":\"SENGKANG\",\"marker\":{\"color\":\"#ab63fa\",\"size\":[40057],\"sizemode\":\"area\",\"sizeref\":155.545,\"symbol\":\"circle\"},\"mode\":\"markers\",\"name\":\"SENGKANG\",\"showlegend\":true,\"type\":\"scattergeo\"},{\"geo\":\"geo\",\"geojson\":\"geojson\",\"hovertemplate\":\"planning_area=SERANGOON<br>english=%{marker.size}<extra></extra>\",\"legendgroup\":\"SERANGOON\",\"marker\":{\"color\":\"#FFA15A\",\"size\":[0],\"sizemode\":\"area\",\"sizeref\":155.545,\"symbol\":\"circle\"},\"mode\":\"markers\",\"name\":\"SERANGOON\",\"showlegend\":true,\"type\":\"scattergeo\"},{\"geo\":\"geo\",\"geojson\":\"geojson\",\"hovertemplate\":\"planning_area=SIMPANG<br>english=%{marker.size}<extra></extra>\",\"legendgroup\":\"SIMPANG\",\"marker\":{\"color\":\"#19d3f3\",\"size\":[0],\"sizemode\":\"area\",\"sizeref\":155.545,\"symbol\":\"circle\"},\"mode\":\"markers\",\"name\":\"SIMPANG\",\"showlegend\":true,\"type\":\"scattergeo\"},{\"geo\":\"geo\",\"geojson\":\"geojson\",\"hovertemplate\":\"planning_area=SOUTHERN ISLANDS<br>english=%{marker.size}<extra></extra>\",\"legendgroup\":\"SOUTHERN ISLANDS\",\"marker\":{\"color\":\"#FF6692\",\"size\":[0],\"sizemode\":\"area\",\"sizeref\":155.545,\"symbol\":\"circle\"},\"mode\":\"markers\",\"name\":\"SOUTHERN ISLANDS\",\"showlegend\":true,\"type\":\"scattergeo\"},{\"geo\":\"geo\",\"geojson\":\"geojson\",\"hovertemplate\":\"planning_area=SUNGEI KADUT<br>english=%{marker.size}<extra></extra>\",\"legendgroup\":\"SUNGEI KADUT\",\"marker\":{\"color\":\"#B6E880\",\"size\":[51087],\"sizemode\":\"area\",\"sizeref\":155.545,\"symbol\":\"circle\"},\"mode\":\"markers\",\"name\":\"SUNGEI KADUT\",\"showlegend\":true,\"type\":\"scattergeo\"},{\"geo\":\"geo\",\"geojson\":\"geojson\",\"hovertemplate\":\"planning_area=TAMPINES<br>english=%{marker.size}<extra></extra>\",\"legendgroup\":\"TAMPINES\",\"marker\":{\"color\":\"#FF97FF\",\"size\":[6817],\"sizemode\":\"area\",\"sizeref\":155.545,\"symbol\":\"circle\"},\"mode\":\"markers\",\"name\":\"TAMPINES\",\"showlegend\":true,\"type\":\"scattergeo\"},{\"geo\":\"geo\",\"geojson\":\"geojson\",\"hovertemplate\":\"planning_area=TANGLIN<br>english=%{marker.size}<extra></extra>\",\"legendgroup\":\"TANGLIN\",\"marker\":{\"color\":\"#FECB52\",\"size\":[23304],\"sizemode\":\"area\",\"sizeref\":155.545,\"symbol\":\"circle\"},\"mode\":\"markers\",\"name\":\"TANGLIN\",\"showlegend\":true,\"type\":\"scattergeo\"},{\"geo\":\"geo\",\"geojson\":\"geojson\",\"hovertemplate\":\"planning_area=TOA PAYOH<br>english=%{marker.size}<extra></extra>\",\"legendgroup\":\"TOA PAYOH\",\"marker\":{\"color\":\"#636efa\",\"size\":[0],\"sizemode\":\"area\",\"sizeref\":155.545,\"symbol\":\"circle\"},\"mode\":\"markers\",\"name\":\"TOA PAYOH\",\"showlegend\":true,\"type\":\"scattergeo\"},{\"geo\":\"geo\",\"geojson\":\"geojson\",\"hovertemplate\":\"planning_area=TUAS<br>english=%{marker.size}<extra></extra>\",\"legendgroup\":\"TUAS\",\"marker\":{\"color\":\"#EF553B\",\"size\":[0],\"sizemode\":\"area\",\"sizeref\":155.545,\"symbol\":\"circle\"},\"mode\":\"markers\",\"name\":\"TUAS\",\"showlegend\":true,\"type\":\"scattergeo\"},{\"geo\":\"geo\",\"geojson\":\"geojson\",\"hovertemplate\":\"planning_area=WESTERN ISLANDS<br>english=%{marker.size}<extra></extra>\",\"legendgroup\":\"WESTERN ISLANDS\",\"marker\":{\"color\":\"#00cc96\",\"size\":[0],\"sizemode\":\"area\",\"sizeref\":155.545,\"symbol\":\"circle\"},\"mode\":\"markers\",\"name\":\"WESTERN ISLANDS\",\"showlegend\":true,\"type\":\"scattergeo\"},{\"geo\":\"geo\",\"geojson\":\"geojson\",\"hovertemplate\":\"planning_area=WESTERN WATER CATCHMENT<br>english=%{marker.size}<extra></extra>\",\"legendgroup\":\"WESTERN WATER CATCHMENT\",\"marker\":{\"color\":\"#ab63fa\",\"size\":[27497],\"sizemode\":\"area\",\"sizeref\":155.545,\"symbol\":\"circle\"},\"mode\":\"markers\",\"name\":\"WESTERN WATER CATCHMENT\",\"showlegend\":true,\"type\":\"scattergeo\"},{\"geo\":\"geo\",\"geojson\":\"geojson\",\"hovertemplate\":\"planning_area=WOODLANDS<br>english=%{marker.size}<extra></extra>\",\"legendgroup\":\"WOODLANDS\",\"marker\":{\"color\":\"#FFA15A\",\"size\":[28448],\"sizemode\":\"area\",\"sizeref\":155.545,\"symbol\":\"circle\"},\"mode\":\"markers\",\"name\":\"WOODLANDS\",\"showlegend\":true,\"type\":\"scattergeo\"},{\"geo\":\"geo\",\"geojson\":\"geojson\",\"hovertemplate\":\"planning_area=YISHUN<br>english=%{marker.size}<extra></extra>\",\"legendgroup\":\"YISHUN\",\"marker\":{\"color\":\"#19d3f3\",\"size\":[482],\"sizemode\":\"area\",\"sizeref\":155.545,\"symbol\":\"circle\"},\"mode\":\"markers\",\"name\":\"YISHUN\",\"showlegend\":true,\"type\":\"scattergeo\"},{\"geo\":\"geo\",\"geojson\":\"geojson\",\"hovertemplate\":\"planning_area=DOWNTOWN CORE<br>english=%{marker.size}<extra></extra>\",\"legendgroup\":\"DOWNTOWN CORE\",\"marker\":{\"color\":\"#FF6692\",\"size\":[0],\"sizemode\":\"area\",\"sizeref\":155.545,\"symbol\":\"circle\"},\"mode\":\"markers\",\"name\":\"DOWNTOWN CORE\",\"showlegend\":true,\"type\":\"scattergeo\"},{\"geo\":\"geo\",\"geojson\":\"geojson\",\"hovertemplate\":\"planning_area=MARINA EAST<br>english=%{marker.size}<extra></extra>\",\"legendgroup\":\"MARINA EAST\",\"marker\":{\"color\":\"#B6E880\",\"size\":[0],\"sizemode\":\"area\",\"sizeref\":155.545,\"symbol\":\"circle\"},\"mode\":\"markers\",\"name\":\"MARINA EAST\",\"showlegend\":true,\"type\":\"scattergeo\"},{\"geo\":\"geo\",\"geojson\":\"geojson\",\"hovertemplate\":\"planning_area=MARINA SOUTH<br>english=%{marker.size}<extra></extra>\",\"legendgroup\":\"MARINA SOUTH\",\"marker\":{\"color\":\"#FF97FF\",\"size\":[0],\"sizemode\":\"area\",\"sizeref\":155.545,\"symbol\":\"circle\"},\"mode\":\"markers\",\"name\":\"MARINA SOUTH\",\"showlegend\":true,\"type\":\"scattergeo\"},{\"geo\":\"geo\",\"geojson\":\"geojson\",\"hovertemplate\":\"planning_area=MUSEUM<br>english=%{marker.size}<extra></extra>\",\"legendgroup\":\"MUSEUM\",\"marker\":{\"color\":\"#FECB52\",\"size\":[3004],\"sizemode\":\"area\",\"sizeref\":155.545,\"symbol\":\"circle\"},\"mode\":\"markers\",\"name\":\"MUSEUM\",\"showlegend\":true,\"type\":\"scattergeo\"},{\"geo\":\"geo\",\"geojson\":\"geojson\",\"hovertemplate\":\"planning_area=NEWTON<br>english=%{marker.size}<extra></extra>\",\"legendgroup\":\"NEWTON\",\"marker\":{\"color\":\"#636efa\",\"size\":[0],\"sizemode\":\"area\",\"sizeref\":155.545,\"symbol\":\"circle\"},\"mode\":\"markers\",\"name\":\"NEWTON\",\"showlegend\":true,\"type\":\"scattergeo\"},{\"geo\":\"geo\",\"geojson\":\"geojson\",\"hovertemplate\":\"planning_area=ORCHARD<br>english=%{marker.size}<extra></extra>\",\"legendgroup\":\"ORCHARD\",\"marker\":{\"color\":\"#EF553B\",\"size\":[1746],\"sizemode\":\"area\",\"sizeref\":155.545,\"symbol\":\"circle\"},\"mode\":\"markers\",\"name\":\"ORCHARD\",\"showlegend\":true,\"type\":\"scattergeo\"},{\"geo\":\"geo\",\"geojson\":\"geojson\",\"hovertemplate\":\"planning_area=OUTRAM<br>english=%{marker.size}<extra></extra>\",\"legendgroup\":\"OUTRAM\",\"marker\":{\"color\":\"#00cc96\",\"size\":[13970],\"sizemode\":\"area\",\"sizeref\":155.545,\"symbol\":\"circle\"},\"mode\":\"markers\",\"name\":\"OUTRAM\",\"showlegend\":true,\"type\":\"scattergeo\"},{\"geo\":\"geo\",\"geojson\":\"geojson\",\"hovertemplate\":\"planning_area=KALLANG<br>english=%{marker.size}<extra></extra>\",\"legendgroup\":\"KALLANG\",\"marker\":{\"color\":\"#ab63fa\",\"size\":[0],\"sizemode\":\"area\",\"sizeref\":155.545,\"symbol\":\"circle\"},\"mode\":\"markers\",\"name\":\"KALLANG\",\"showlegend\":true,\"type\":\"scattergeo\"},{\"geo\":\"geo\",\"geojson\":\"geojson\",\"hovertemplate\":\"planning_area=LIM CHU KANG<br>english=%{marker.size}<extra></extra>\",\"legendgroup\":\"LIM CHU KANG\",\"marker\":{\"color\":\"#FFA15A\",\"size\":[0],\"sizemode\":\"area\",\"sizeref\":155.545,\"symbol\":\"circle\"},\"mode\":\"markers\",\"name\":\"LIM CHU KANG\",\"showlegend\":true,\"type\":\"scattergeo\"},{\"geo\":\"geo\",\"geojson\":\"geojson\",\"hovertemplate\":\"planning_area=MANDAI<br>english=%{marker.size}<extra></extra>\",\"legendgroup\":\"MANDAI\",\"marker\":{\"color\":\"#19d3f3\",\"size\":[15087],\"sizemode\":\"area\",\"sizeref\":155.545,\"symbol\":\"circle\"},\"mode\":\"markers\",\"name\":\"MANDAI\",\"showlegend\":true,\"type\":\"scattergeo\"},{\"geo\":\"geo\",\"geojson\":\"geojson\",\"hovertemplate\":\"planning_area=MARINE PARADE<br>english=%{marker.size}<extra></extra>\",\"legendgroup\":\"MARINE PARADE\",\"marker\":{\"color\":\"#FF6692\",\"size\":[0],\"sizemode\":\"area\",\"sizeref\":155.545,\"symbol\":\"circle\"},\"mode\":\"markers\",\"name\":\"MARINE PARADE\",\"showlegend\":true,\"type\":\"scattergeo\"},{\"geo\":\"geo\",\"geojson\":\"geojson\",\"hovertemplate\":\"planning_area=NORTH-EASTERN ISLANDS<br>english=%{marker.size}<extra></extra>\",\"legendgroup\":\"NORTH-EASTERN ISLANDS\",\"marker\":{\"color\":\"#B6E880\",\"size\":[14559],\"sizemode\":\"area\",\"sizeref\":155.545,\"symbol\":\"circle\"},\"mode\":\"markers\",\"name\":\"NORTH-EASTERN ISLANDS\",\"showlegend\":true,\"type\":\"scattergeo\"},{\"geo\":\"geo\",\"geojson\":\"geojson\",\"hovertemplate\":\"planning_area=NOVENA<br>english=%{marker.size}<extra></extra>\",\"legendgroup\":\"NOVENA\",\"marker\":{\"color\":\"#FF97FF\",\"size\":[35001],\"sizemode\":\"area\",\"sizeref\":155.545,\"symbol\":\"circle\"},\"mode\":\"markers\",\"name\":\"NOVENA\",\"showlegend\":true,\"type\":\"scattergeo\"},{\"geo\":\"geo\",\"geojson\":\"geojson\",\"hovertemplate\":\"planning_area=PASIR RIS<br>english=%{marker.size}<extra></extra>\",\"legendgroup\":\"PASIR RIS\",\"marker\":{\"color\":\"#FECB52\",\"size\":[0],\"sizemode\":\"area\",\"sizeref\":155.545,\"symbol\":\"circle\"},\"mode\":\"markers\",\"name\":\"PASIR RIS\",\"showlegend\":true,\"type\":\"scattergeo\"},{\"geo\":\"geo\",\"geojson\":\"geojson\",\"hovertemplate\":\"planning_area=PAYA LEBAR<br>english=%{marker.size}<extra></extra>\",\"legendgroup\":\"PAYA LEBAR\",\"marker\":{\"color\":\"#636efa\",\"size\":[3760],\"sizemode\":\"area\",\"sizeref\":155.545,\"symbol\":\"circle\"},\"mode\":\"markers\",\"name\":\"PAYA LEBAR\",\"showlegend\":true,\"type\":\"scattergeo\"},{\"geo\":\"geo\",\"geojson\":\"geojson\",\"hovertemplate\":\"planning_area=RIVER VALLEY<br>english=%{marker.size}<extra></extra>\",\"legendgroup\":\"RIVER VALLEY\",\"marker\":{\"color\":\"#EF553B\",\"size\":[1850],\"sizemode\":\"area\",\"sizeref\":155.545,\"symbol\":\"circle\"},\"mode\":\"markers\",\"name\":\"RIVER VALLEY\",\"showlegend\":true,\"type\":\"scattergeo\"},{\"geo\":\"geo\",\"geojson\":\"geojson\",\"hovertemplate\":\"planning_area=ROCHOR<br>english=%{marker.size}<extra></extra>\",\"legendgroup\":\"ROCHOR\",\"marker\":{\"color\":\"#00cc96\",\"size\":[0],\"sizemode\":\"area\",\"sizeref\":155.545,\"symbol\":\"circle\"},\"mode\":\"markers\",\"name\":\"ROCHOR\",\"showlegend\":true,\"type\":\"scattergeo\"},{\"geo\":\"geo\",\"geojson\":\"geojson\",\"hovertemplate\":\"planning_area=SINGAPORE RIVER<br>english=%{marker.size}<extra></extra>\",\"legendgroup\":\"SINGAPORE RIVER\",\"marker\":{\"color\":\"#ab63fa\",\"size\":[0],\"sizemode\":\"area\",\"sizeref\":155.545,\"symbol\":\"circle\"},\"mode\":\"markers\",\"name\":\"SINGAPORE RIVER\",\"showlegend\":true,\"type\":\"scattergeo\"},{\"geo\":\"geo\",\"geojson\":\"geojson\",\"hovertemplate\":\"planning_area=STRAITS VIEW<br>english=%{marker.size}<extra></extra>\",\"legendgroup\":\"STRAITS VIEW\",\"marker\":{\"color\":\"#FFA15A\",\"size\":[0],\"sizemode\":\"area\",\"sizeref\":155.545,\"symbol\":\"circle\"},\"mode\":\"markers\",\"name\":\"STRAITS VIEW\",\"showlegend\":true,\"type\":\"scattergeo\"}],                        {\"template\":{\"data\":{\"histogram2dcontour\":[{\"type\":\"histogram2dcontour\",\"colorbar\":{\"outlinewidth\":0,\"ticks\":\"\"},\"colorscale\":[[0.0,\"#0d0887\"],[0.1111111111111111,\"#46039f\"],[0.2222222222222222,\"#7201a8\"],[0.3333333333333333,\"#9c179e\"],[0.4444444444444444,\"#bd3786\"],[0.5555555555555556,\"#d8576b\"],[0.6666666666666666,\"#ed7953\"],[0.7777777777777778,\"#fb9f3a\"],[0.8888888888888888,\"#fdca26\"],[1.0,\"#f0f921\"]]}],\"choropleth\":[{\"type\":\"choropleth\",\"colorbar\":{\"outlinewidth\":0,\"ticks\":\"\"}}],\"histogram2d\":[{\"type\":\"histogram2d\",\"colorbar\":{\"outlinewidth\":0,\"ticks\":\"\"},\"colorscale\":[[0.0,\"#0d0887\"],[0.1111111111111111,\"#46039f\"],[0.2222222222222222,\"#7201a8\"],[0.3333333333333333,\"#9c179e\"],[0.4444444444444444,\"#bd3786\"],[0.5555555555555556,\"#d8576b\"],[0.6666666666666666,\"#ed7953\"],[0.7777777777777778,\"#fb9f3a\"],[0.8888888888888888,\"#fdca26\"],[1.0,\"#f0f921\"]]}],\"heatmap\":[{\"type\":\"heatmap\",\"colorbar\":{\"outlinewidth\":0,\"ticks\":\"\"},\"colorscale\":[[0.0,\"#0d0887\"],[0.1111111111111111,\"#46039f\"],[0.2222222222222222,\"#7201a8\"],[0.3333333333333333,\"#9c179e\"],[0.4444444444444444,\"#bd3786\"],[0.5555555555555556,\"#d8576b\"],[0.6666666666666666,\"#ed7953\"],[0.7777777777777778,\"#fb9f3a\"],[0.8888888888888888,\"#fdca26\"],[1.0,\"#f0f921\"]]}],\"heatmapgl\":[{\"type\":\"heatmapgl\",\"colorbar\":{\"outlinewidth\":0,\"ticks\":\"\"},\"colorscale\":[[0.0,\"#0d0887\"],[0.1111111111111111,\"#46039f\"],[0.2222222222222222,\"#7201a8\"],[0.3333333333333333,\"#9c179e\"],[0.4444444444444444,\"#bd3786\"],[0.5555555555555556,\"#d8576b\"],[0.6666666666666666,\"#ed7953\"],[0.7777777777777778,\"#fb9f3a\"],[0.8888888888888888,\"#fdca26\"],[1.0,\"#f0f921\"]]}],\"contourcarpet\":[{\"type\":\"contourcarpet\",\"colorbar\":{\"outlinewidth\":0,\"ticks\":\"\"}}],\"contour\":[{\"type\":\"contour\",\"colorbar\":{\"outlinewidth\":0,\"ticks\":\"\"},\"colorscale\":[[0.0,\"#0d0887\"],[0.1111111111111111,\"#46039f\"],[0.2222222222222222,\"#7201a8\"],[0.3333333333333333,\"#9c179e\"],[0.4444444444444444,\"#bd3786\"],[0.5555555555555556,\"#d8576b\"],[0.6666666666666666,\"#ed7953\"],[0.7777777777777778,\"#fb9f3a\"],[0.8888888888888888,\"#fdca26\"],[1.0,\"#f0f921\"]]}],\"surface\":[{\"type\":\"surface\",\"colorbar\":{\"outlinewidth\":0,\"ticks\":\"\"},\"colorscale\":[[0.0,\"#0d0887\"],[0.1111111111111111,\"#46039f\"],[0.2222222222222222,\"#7201a8\"],[0.3333333333333333,\"#9c179e\"],[0.4444444444444444,\"#bd3786\"],[0.5555555555555556,\"#d8576b\"],[0.6666666666666666,\"#ed7953\"],[0.7777777777777778,\"#fb9f3a\"],[0.8888888888888888,\"#fdca26\"],[1.0,\"#f0f921\"]]}],\"mesh3d\":[{\"type\":\"mesh3d\",\"colorbar\":{\"outlinewidth\":0,\"ticks\":\"\"}}],\"scatter\":[{\"fillpattern\":{\"fillmode\":\"overlay\",\"size\":10,\"solidity\":0.2},\"type\":\"scatter\"}],\"parcoords\":[{\"type\":\"parcoords\",\"line\":{\"colorbar\":{\"outlinewidth\":0,\"ticks\":\"\"}}}],\"scatterpolargl\":[{\"type\":\"scatterpolargl\",\"marker\":{\"colorbar\":{\"outlinewidth\":0,\"ticks\":\"\"}}}],\"bar\":[{\"error_x\":{\"color\":\"#2a3f5f\"},\"error_y\":{\"color\":\"#2a3f5f\"},\"marker\":{\"line\":{\"color\":\"#E5ECF6\",\"width\":0.5},\"pattern\":{\"fillmode\":\"overlay\",\"size\":10,\"solidity\":0.2}},\"type\":\"bar\"}],\"scattergeo\":[{\"type\":\"scattergeo\",\"marker\":{\"colorbar\":{\"outlinewidth\":0,\"ticks\":\"\"}}}],\"scatterpolar\":[{\"type\":\"scatterpolar\",\"marker\":{\"colorbar\":{\"outlinewidth\":0,\"ticks\":\"\"}}}],\"histogram\":[{\"marker\":{\"pattern\":{\"fillmode\":\"overlay\",\"size\":10,\"solidity\":0.2}},\"type\":\"histogram\"}],\"scattergl\":[{\"type\":\"scattergl\",\"marker\":{\"colorbar\":{\"outlinewidth\":0,\"ticks\":\"\"}}}],\"scatter3d\":[{\"type\":\"scatter3d\",\"line\":{\"colorbar\":{\"outlinewidth\":0,\"ticks\":\"\"}},\"marker\":{\"colorbar\":{\"outlinewidth\":0,\"ticks\":\"\"}}}],\"scattermapbox\":[{\"type\":\"scattermapbox\",\"marker\":{\"colorbar\":{\"outlinewidth\":0,\"ticks\":\"\"}}}],\"scatterternary\":[{\"type\":\"scatterternary\",\"marker\":{\"colorbar\":{\"outlinewidth\":0,\"ticks\":\"\"}}}],\"scattercarpet\":[{\"type\":\"scattercarpet\",\"marker\":{\"colorbar\":{\"outlinewidth\":0,\"ticks\":\"\"}}}],\"carpet\":[{\"aaxis\":{\"endlinecolor\":\"#2a3f5f\",\"gridcolor\":\"white\",\"linecolor\":\"white\",\"minorgridcolor\":\"white\",\"startlinecolor\":\"#2a3f5f\"},\"baxis\":{\"endlinecolor\":\"#2a3f5f\",\"gridcolor\":\"white\",\"linecolor\":\"white\",\"minorgridcolor\":\"white\",\"startlinecolor\":\"#2a3f5f\"},\"type\":\"carpet\"}],\"table\":[{\"cells\":{\"fill\":{\"color\":\"#EBF0F8\"},\"line\":{\"color\":\"white\"}},\"header\":{\"fill\":{\"color\":\"#C8D4E3\"},\"line\":{\"color\":\"white\"}},\"type\":\"table\"}],\"barpolar\":[{\"marker\":{\"line\":{\"color\":\"#E5ECF6\",\"width\":0.5},\"pattern\":{\"fillmode\":\"overlay\",\"size\":10,\"solidity\":0.2}},\"type\":\"barpolar\"}],\"pie\":[{\"automargin\":true,\"type\":\"pie\"}]},\"layout\":{\"autotypenumbers\":\"strict\",\"colorway\":[\"#636efa\",\"#EF553B\",\"#00cc96\",\"#ab63fa\",\"#FFA15A\",\"#19d3f3\",\"#FF6692\",\"#B6E880\",\"#FF97FF\",\"#FECB52\"],\"font\":{\"color\":\"#2a3f5f\"},\"hovermode\":\"closest\",\"hoverlabel\":{\"align\":\"left\"},\"paper_bgcolor\":\"white\",\"plot_bgcolor\":\"#E5ECF6\",\"polar\":{\"bgcolor\":\"#E5ECF6\",\"angularaxis\":{\"gridcolor\":\"white\",\"linecolor\":\"white\",\"ticks\":\"\"},\"radialaxis\":{\"gridcolor\":\"white\",\"linecolor\":\"white\",\"ticks\":\"\"}},\"ternary\":{\"bgcolor\":\"#E5ECF6\",\"aaxis\":{\"gridcolor\":\"white\",\"linecolor\":\"white\",\"ticks\":\"\"},\"baxis\":{\"gridcolor\":\"white\",\"linecolor\":\"white\",\"ticks\":\"\"},\"caxis\":{\"gridcolor\":\"white\",\"linecolor\":\"white\",\"ticks\":\"\"}},\"coloraxis\":{\"colorbar\":{\"outlinewidth\":0,\"ticks\":\"\"}},\"colorscale\":{\"sequential\":[[0.0,\"#0d0887\"],[0.1111111111111111,\"#46039f\"],[0.2222222222222222,\"#7201a8\"],[0.3333333333333333,\"#9c179e\"],[0.4444444444444444,\"#bd3786\"],[0.5555555555555556,\"#d8576b\"],[0.6666666666666666,\"#ed7953\"],[0.7777777777777778,\"#fb9f3a\"],[0.8888888888888888,\"#fdca26\"],[1.0,\"#f0f921\"]],\"sequentialminus\":[[0.0,\"#0d0887\"],[0.1111111111111111,\"#46039f\"],[0.2222222222222222,\"#7201a8\"],[0.3333333333333333,\"#9c179e\"],[0.4444444444444444,\"#bd3786\"],[0.5555555555555556,\"#d8576b\"],[0.6666666666666666,\"#ed7953\"],[0.7777777777777778,\"#fb9f3a\"],[0.8888888888888888,\"#fdca26\"],[1.0,\"#f0f921\"]],\"diverging\":[[0,\"#8e0152\"],[0.1,\"#c51b7d\"],[0.2,\"#de77ae\"],[0.3,\"#f1b6da\"],[0.4,\"#fde0ef\"],[0.5,\"#f7f7f7\"],[0.6,\"#e6f5d0\"],[0.7,\"#b8e186\"],[0.8,\"#7fbc41\"],[0.9,\"#4d9221\"],[1,\"#276419\"]]},\"xaxis\":{\"gridcolor\":\"white\",\"linecolor\":\"white\",\"ticks\":\"\",\"title\":{\"standoff\":15},\"zerolinecolor\":\"white\",\"automargin\":true,\"zerolinewidth\":2},\"yaxis\":{\"gridcolor\":\"white\",\"linecolor\":\"white\",\"ticks\":\"\",\"title\":{\"standoff\":15},\"zerolinecolor\":\"white\",\"automargin\":true,\"zerolinewidth\":2},\"scene\":{\"xaxis\":{\"backgroundcolor\":\"#E5ECF6\",\"gridcolor\":\"white\",\"linecolor\":\"white\",\"showbackground\":true,\"ticks\":\"\",\"zerolinecolor\":\"white\",\"gridwidth\":2},\"yaxis\":{\"backgroundcolor\":\"#E5ECF6\",\"gridcolor\":\"white\",\"linecolor\":\"white\",\"showbackground\":true,\"ticks\":\"\",\"zerolinecolor\":\"white\",\"gridwidth\":2},\"zaxis\":{\"backgroundcolor\":\"#E5ECF6\",\"gridcolor\":\"white\",\"linecolor\":\"white\",\"showbackground\":true,\"ticks\":\"\",\"zerolinecolor\":\"white\",\"gridwidth\":2}},\"shapedefaults\":{\"line\":{\"color\":\"#2a3f5f\"}},\"annotationdefaults\":{\"arrowcolor\":\"#2a3f5f\",\"arrowhead\":0,\"arrowwidth\":1},\"geo\":{\"bgcolor\":\"white\",\"landcolor\":\"#E5ECF6\",\"subunitcolor\":\"white\",\"showland\":true,\"showlakes\":true,\"lakecolor\":\"white\"},\"title\":{\"x\":0.05},\"mapbox\":{\"style\":\"light\"}}},\"geo\":{\"domain\":{\"x\":[0.0,1.0],\"y\":[0.0,1.0]},\"projection\":{\"type\":\"natural earth\"},\"center\":{}},\"legend\":{\"title\":{\"text\":\"planning_area\"},\"tracegroupgap\":0,\"itemsizing\":\"constant\"},\"margin\":{\"t\":60}},                        {\"responsive\": true}                    ).then(function(){\n",
       "                            \n",
       "var gd = document.getElementById('1bc6148b-ccf9-4ace-8c68-792b238512c7');\n",
       "var x = new MutationObserver(function (mutations, observer) {{\n",
       "        var display = window.getComputedStyle(gd).display;\n",
       "        if (!display || display === 'none') {{\n",
       "            console.log([gd, 'removed!']);\n",
       "            Plotly.purge(gd);\n",
       "            observer.disconnect();\n",
       "        }}\n",
       "}});\n",
       "\n",
       "// Listen for the removal of the full notebook cells\n",
       "var notebookContainer = gd.closest('#notebook-container');\n",
       "if (notebookContainer) {{\n",
       "    x.observe(notebookContainer, {childList: true});\n",
       "}}\n",
       "\n",
       "// Listen for the clearing of the current output cell\n",
       "var outputEl = gd.closest('.output');\n",
       "if (outputEl) {{\n",
       "    x.observe(outputEl, {childList: true});\n",
       "}}\n",
       "\n",
       "                        })                };                });            </script>        </div>"
      ]
     },
     "metadata": {},
     "output_type": "display_data"
    }
   ],
   "source": [
    "# fig = px.scatter_geo(y, geojson = \"geojson\", size = \"english\",\n",
    "#                      color = \"planning_area\", projection=\"natural earth\")\n",
    "# fig.show()"
   ]
  },
  {
   "cell_type": "code",
   "execution_count": null,
   "id": "61546bf4",
   "metadata": {},
   "outputs": [],
   "source": [
    "#join on ethnicity data to check diversity of religions\n",
    "#find increases in population percentages over time compare to changes in prices over time\n",
    "#clustering = races reaching the population quota in a neighborhood \n",
    "#how do prices impact racial clustering?\n",
    "#how does racial clustering impact prices? "
   ]
  }
 ],
 "metadata": {
  "kernelspec": {
   "display_name": "Python 3 (ipykernel)",
   "language": "python",
   "name": "python3"
  },
  "language_info": {
   "codemirror_mode": {
    "name": "ipython",
    "version": 3
   },
   "file_extension": ".py",
   "mimetype": "text/x-python",
   "name": "python",
   "nbconvert_exporter": "python",
   "pygments_lexer": "ipython3",
   "version": "3.9.7"
  }
 },
 "nbformat": 4,
 "nbformat_minor": 5
}

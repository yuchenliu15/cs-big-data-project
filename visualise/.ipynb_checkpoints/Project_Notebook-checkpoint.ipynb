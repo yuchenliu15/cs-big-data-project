{
 "cells": [
  {
   "cell_type": "code",
   "execution_count": 2,
   "id": "7747ab9c",
   "metadata": {},
   "outputs": [],
   "source": [
    "import pandas as pd\n",
    "import requests\n",
    "import time\n",
    "import json"
   ]
  },
  {
   "cell_type": "code",
   "execution_count": 130,
   "id": "96676144",
   "metadata": {},
   "outputs": [],
   "source": [
    "pln_area_polygons = pd.DataFrame(result)"
   ]
  },
  {
   "cell_type": "code",
   "execution_count": 146,
   "id": "2b14e875",
   "metadata": {},
   "outputs": [],
   "source": [
    "pln_area_polygons['geojson'] = pln_area_polygons['geojson'].apply(lambda x: json.loads(x)['coordinates'] if x is not None else 0)\n",
    "\n"
   ]
  },
  {
   "cell_type": "code",
   "execution_count": 166,
   "id": "e3d97601",
   "metadata": {},
   "outputs": [
    {
     "data": {
      "text/html": [
       "<div>\n",
       "<style scoped>\n",
       "    .dataframe tbody tr th:only-of-type {\n",
       "        vertical-align: middle;\n",
       "    }\n",
       "\n",
       "    .dataframe tbody tr th {\n",
       "        vertical-align: top;\n",
       "    }\n",
       "\n",
       "    .dataframe thead th {\n",
       "        text-align: right;\n",
       "    }\n",
       "</style>\n",
       "<table border=\"1\" class=\"dataframe\">\n",
       "  <thead>\n",
       "    <tr style=\"text-align: right;\">\n",
       "      <th></th>\n",
       "      <th>mandarin</th>\n",
       "      <th>chinese_dialects</th>\n",
       "      <th>malay</th>\n",
       "      <th>tamil</th>\n",
       "    </tr>\n",
       "  </thead>\n",
       "  <tbody>\n",
       "    <tr>\n",
       "      <th>0</th>\n",
       "      <td>73095</td>\n",
       "      <td>52639</td>\n",
       "      <td>45041</td>\n",
       "      <td>2990</td>\n",
       "    </tr>\n",
       "    <tr>\n",
       "      <th>1</th>\n",
       "      <td>24195</td>\n",
       "      <td>17802</td>\n",
       "      <td>4495</td>\n",
       "      <td>2565</td>\n",
       "    </tr>\n",
       "    <tr>\n",
       "      <th>2</th>\n",
       "      <td>0</td>\n",
       "      <td>0</td>\n",
       "      <td>0</td>\n",
       "      <td>0</td>\n",
       "    </tr>\n",
       "    <tr>\n",
       "      <th>3</th>\n",
       "      <td>45157</td>\n",
       "      <td>22086</td>\n",
       "      <td>19340</td>\n",
       "      <td>4370</td>\n",
       "    </tr>\n",
       "    <tr>\n",
       "      <th>4</th>\n",
       "      <td>37276</td>\n",
       "      <td>53119</td>\n",
       "      <td>7356</td>\n",
       "      <td>7179</td>\n",
       "    </tr>\n",
       "    <tr>\n",
       "      <th>...</th>\n",
       "      <td>...</td>\n",
       "      <td>...</td>\n",
       "      <td>...</td>\n",
       "      <td>...</td>\n",
       "    </tr>\n",
       "    <tr>\n",
       "      <th>1149</th>\n",
       "      <td>0</td>\n",
       "      <td>0</td>\n",
       "      <td>0</td>\n",
       "      <td>0</td>\n",
       "    </tr>\n",
       "    <tr>\n",
       "      <th>1150</th>\n",
       "      <td>123</td>\n",
       "      <td>27</td>\n",
       "      <td>6</td>\n",
       "      <td>0</td>\n",
       "    </tr>\n",
       "    <tr>\n",
       "      <th>1151</th>\n",
       "      <td>0</td>\n",
       "      <td>0</td>\n",
       "      <td>0</td>\n",
       "      <td>0</td>\n",
       "    </tr>\n",
       "    <tr>\n",
       "      <th>1152</th>\n",
       "      <td>0</td>\n",
       "      <td>0</td>\n",
       "      <td>0</td>\n",
       "      <td>0</td>\n",
       "    </tr>\n",
       "    <tr>\n",
       "      <th>1153</th>\n",
       "      <td>0</td>\n",
       "      <td>0</td>\n",
       "      <td>0</td>\n",
       "      <td>0</td>\n",
       "    </tr>\n",
       "  </tbody>\n",
       "</table>\n",
       "<p>1154 rows × 4 columns</p>\n",
       "</div>"
      ],
      "text/plain": [
       "      mandarin  chinese_dialects  malay  tamil\n",
       "0        73095             52639  45041   2990\n",
       "1        24195             17802   4495   2565\n",
       "2            0                 0      0      0\n",
       "3        45157             22086  19340   4370\n",
       "4        37276             53119   7356   7179\n",
       "...        ...               ...    ...    ...\n",
       "1149         0                 0      0      0\n",
       "1150       123                27      6      0\n",
       "1151         0                 0      0      0\n",
       "1152         0                 0      0      0\n",
       "1153         0                 0      0      0\n",
       "\n",
       "[1154 rows x 4 columns]"
      ]
     },
     "execution_count": 166,
     "metadata": {},
     "output_type": "execute_result"
    }
   ],
   "source": [
    "df.iloc[:,1:5]"
   ]
  },
  {
   "cell_type": "code",
   "execution_count": 162,
   "id": "d9e97a23",
   "metadata": {},
   "outputs": [
    {
     "name": "stdout",
     "output_type": "stream",
     "text": [
      "<class 'pandas.core.frame.DataFrame'>\n",
      "RangeIndex: 1154 entries, 0 to 1153\n",
      "Data columns (total 40 columns):\n",
      " #   Column                     Non-Null Count  Dtype \n",
      "---  ------                     --------------  ----- \n",
      " 0   english                    1154 non-null   int64 \n",
      " 1   mandarin                   1154 non-null   int64 \n",
      " 2   chinese_dialects           1154 non-null   int64 \n",
      " 3   malay                      1154 non-null   int64 \n",
      " 4   tamil                      1154 non-null   int64 \n",
      " 5   other_indian_languages     1154 non-null   int64 \n",
      " 6   eng_mand                   1154 non-null   int64 \n",
      " 7   eng_chn_dlt                1154 non-null   int64 \n",
      " 8   eng_mly                    1154 non-null   int64 \n",
      " 9   eng_oth_ind_lang           1154 non-null   int64 \n",
      " 10  eng_oth_lang               1154 non-null   int64 \n",
      " 11  mand_eng                   1154 non-null   int64 \n",
      " 12  mand_chn_dlt               1154 non-null   int64 \n",
      " 13  mand_oth_lang              1154 non-null   int64 \n",
      " 14  chn_dlt_eng                1154 non-null   int64 \n",
      " 15  chn_dlt_mand               1154 non-null   int64 \n",
      " 16  chn_dlt_oth_lang           1154 non-null   int64 \n",
      " 17  mly_eng                    1154 non-null   int64 \n",
      " 18  mly_oth_lang               1154 non-null   int64 \n",
      " 19  tml_eng                    1154 non-null   int64 \n",
      " 20  tml_oth_lang               1154 non-null   int64 \n",
      " 21  oth_ind_lang_eng           1154 non-null   int64 \n",
      " 22  oth_ind_lang_oth_lang      1154 non-null   int64 \n",
      " 23  oth_lang_eng               1154 non-null   int64 \n",
      " 24  oth_lang_oth_non_eng_lang  1154 non-null   int64 \n",
      " 25  eng_tml                    1154 non-null   int64 \n",
      " 26  no_religion                1154 non-null   int64 \n",
      " 27  buddhism                   1154 non-null   int64 \n",
      " 28  taoism                     1154 non-null   int64 \n",
      " 29  islam                      1154 non-null   int64 \n",
      " 30  hinduism                   1154 non-null   int64 \n",
      " 31  sikhism                    1154 non-null   int64 \n",
      " 32  catholic_christian         1154 non-null   int64 \n",
      " 33  other_christians           1154 non-null   int64 \n",
      " 34  other_religions            1154 non-null   int64 \n",
      " 35  chinese                    1154 non-null   int64 \n",
      " 36  malays                     1154 non-null   int64 \n",
      " 37  indian                     1154 non-null   int64 \n",
      " 38  planning_area              1154 non-null   object\n",
      " 39  year                       1154 non-null   int64 \n",
      "dtypes: int64(39), object(1)\n",
      "memory usage: 360.8+ KB\n"
     ]
    }
   ],
   "source": [
    "df.info()"
   ]
  },
  {
   "cell_type": "markdown",
   "id": "3c215fcb",
   "metadata": {},
   "source": [
    "Reading"
   ]
  },
  {
   "cell_type": "code",
   "execution_count": 3,
   "id": "2bc07d61",
   "metadata": {},
   "outputs": [],
   "source": [
    "import plotly.express as px\n",
    "df = pd.read_csv('hdb_stats_final.csv')\n",
    "df_coords = pd.read_csv('hdb_coords.csv')"
   ]
  },
  {
   "cell_type": "code",
   "execution_count": 4,
   "id": "5b17f1ed",
   "metadata": {},
   "outputs": [],
   "source": [
    "#clean\n",
    "df = df.iloc[:,1:]"
   ]
  },
  {
   "cell_type": "code",
   "execution_count": 6,
   "id": "8de64812",
   "metadata": {},
   "outputs": [
    {
     "name": "stdout",
     "output_type": "stream",
     "text": [
      "<class 'pandas.core.frame.DataFrame'>\n",
      "RangeIndex: 1154 entries, 0 to 1153\n",
      "Data columns (total 40 columns):\n",
      " #   Column                     Non-Null Count  Dtype \n",
      "---  ------                     --------------  ----- \n",
      " 0   english                    1154 non-null   int64 \n",
      " 1   mandarin                   1154 non-null   int64 \n",
      " 2   chinese_dialects           1154 non-null   int64 \n",
      " 3   malay                      1154 non-null   int64 \n",
      " 4   tamil                      1154 non-null   int64 \n",
      " 5   other_indian_languages     1154 non-null   int64 \n",
      " 6   eng_mand                   1154 non-null   int64 \n",
      " 7   eng_chn_dlt                1154 non-null   int64 \n",
      " 8   eng_mly                    1154 non-null   int64 \n",
      " 9   eng_oth_ind_lang           1154 non-null   int64 \n",
      " 10  eng_oth_lang               1154 non-null   int64 \n",
      " 11  mand_eng                   1154 non-null   int64 \n",
      " 12  mand_chn_dlt               1154 non-null   int64 \n",
      " 13  mand_oth_lang              1154 non-null   int64 \n",
      " 14  chn_dlt_eng                1154 non-null   int64 \n",
      " 15  chn_dlt_mand               1154 non-null   int64 \n",
      " 16  chn_dlt_oth_lang           1154 non-null   int64 \n",
      " 17  mly_eng                    1154 non-null   int64 \n",
      " 18  mly_oth_lang               1154 non-null   int64 \n",
      " 19  tml_eng                    1154 non-null   int64 \n",
      " 20  tml_oth_lang               1154 non-null   int64 \n",
      " 21  oth_ind_lang_eng           1154 non-null   int64 \n",
      " 22  oth_ind_lang_oth_lang      1154 non-null   int64 \n",
      " 23  oth_lang_eng               1154 non-null   int64 \n",
      " 24  oth_lang_oth_non_eng_lang  1154 non-null   int64 \n",
      " 25  eng_tml                    1154 non-null   int64 \n",
      " 26  no_religion                1154 non-null   int64 \n",
      " 27  buddhism                   1154 non-null   int64 \n",
      " 28  taoism                     1154 non-null   int64 \n",
      " 29  islam                      1154 non-null   int64 \n",
      " 30  hinduism                   1154 non-null   int64 \n",
      " 31  sikhism                    1154 non-null   int64 \n",
      " 32  catholic_christian         1154 non-null   int64 \n",
      " 33  other_christians           1154 non-null   int64 \n",
      " 34  other_religions            1154 non-null   int64 \n",
      " 35  chinese                    1154 non-null   int64 \n",
      " 36  malays                     1154 non-null   int64 \n",
      " 37  indian                     1154 non-null   int64 \n",
      " 38  planning_area              1154 non-null   object\n",
      " 39  year                       1154 non-null   int64 \n",
      "dtypes: int64(39), object(1)\n",
      "memory usage: 360.8+ KB\n"
     ]
    }
   ],
   "source": [
    "df.info()"
   ]
  },
  {
   "cell_type": "code",
   "execution_count": 110,
   "id": "c3b9dc31",
   "metadata": {},
   "outputs": [],
   "source": [
    "#clean coordinate data \n",
    "df_coords['Area'] = df_coords['Area'].apply(lambda x: x.upper())\n",
    "df_coords = df_coords.iloc[:, :3]"
   ]
  },
  {
   "cell_type": "code",
   "execution_count": 111,
   "id": "5681a07f",
   "metadata": {},
   "outputs": [],
   "source": [
    "#eliminate rows where all values equal to zero "
   ]
  },
  {
   "cell_type": "code",
   "execution_count": 112,
   "id": "fec279d9",
   "metadata": {},
   "outputs": [],
   "source": [
    "#select 2000 and languages data\n",
    "df_l_2000 = df[df['year'] == 2000].iloc[:,:6].join(df[df['year'] == 2000]['planning_area'])"
   ]
  },
  {
   "cell_type": "code",
   "execution_count": 114,
   "id": "25a46326",
   "metadata": {},
   "outputs": [],
   "source": [
    "#join data to include  lat and long of hdbs\n",
    "x = df_l_2000.join(df_coords, how = \"inner\")"
   ]
  },
  {
   "cell_type": "code",
   "execution_count": 116,
   "id": "e5ed38ae",
   "metadata": {},
   "outputs": [],
   "source": [
    "x.drop(columns = 'Area', inplace = True)"
   ]
  },
  {
   "cell_type": "code",
   "execution_count": 155,
   "id": "695a907e",
   "metadata": {},
   "outputs": [],
   "source": [
    "y = df_l_2000.merge(pln_area_polygons, how = \"inner\", left_on = \"planning_area\", right_on = \"pln_area_n\")"
   ]
  },
  {
   "cell_type": "code",
   "execution_count": 157,
   "id": "e294dd36",
   "metadata": {},
   "outputs": [
    {
     "data": {
      "text/html": [
       "<div>\n",
       "<style scoped>\n",
       "    .dataframe tbody tr th:only-of-type {\n",
       "        vertical-align: middle;\n",
       "    }\n",
       "\n",
       "    .dataframe tbody tr th {\n",
       "        vertical-align: top;\n",
       "    }\n",
       "\n",
       "    .dataframe thead th {\n",
       "        text-align: right;\n",
       "    }\n",
       "</style>\n",
       "<table border=\"1\" class=\"dataframe\">\n",
       "  <thead>\n",
       "    <tr style=\"text-align: right;\">\n",
       "      <th></th>\n",
       "      <th>english</th>\n",
       "      <th>mandarin</th>\n",
       "      <th>chinese_dialects</th>\n",
       "      <th>malay</th>\n",
       "      <th>tamil</th>\n",
       "      <th>other_indian_languages</th>\n",
       "      <th>planning_area</th>\n",
       "      <th>pln_area_n</th>\n",
       "      <th>geojson</th>\n",
       "    </tr>\n",
       "  </thead>\n",
       "  <tbody>\n",
       "    <tr>\n",
       "      <th>0</th>\n",
       "      <td>62218</td>\n",
       "      <td>73095</td>\n",
       "      <td>52639</td>\n",
       "      <td>45041</td>\n",
       "      <td>2990</td>\n",
       "      <td>1572</td>\n",
       "      <td>ANG MO KIO</td>\n",
       "      <td>ANG MO KIO</td>\n",
       "      <td>[[[[103.85811147785, 1.39111169772804], [103.8...</td>\n",
       "    </tr>\n",
       "    <tr>\n",
       "      <th>1</th>\n",
       "      <td>33010</td>\n",
       "      <td>24195</td>\n",
       "      <td>17802</td>\n",
       "      <td>4495</td>\n",
       "      <td>2565</td>\n",
       "      <td>394</td>\n",
       "      <td>BEDOK</td>\n",
       "      <td>BEDOK</td>\n",
       "      <td>[[[[103.963860562506, 1.31395915978127], [103....</td>\n",
       "    </tr>\n",
       "    <tr>\n",
       "      <th>2</th>\n",
       "      <td>0</td>\n",
       "      <td>0</td>\n",
       "      <td>0</td>\n",
       "      <td>0</td>\n",
       "      <td>0</td>\n",
       "      <td>0</td>\n",
       "      <td>BISHAN</td>\n",
       "      <td>BISHAN</td>\n",
       "      <td>[[[[103.856862882287, 1.35551234779592], [103....</td>\n",
       "    </tr>\n",
       "    <tr>\n",
       "      <th>3</th>\n",
       "      <td>23175</td>\n",
       "      <td>45157</td>\n",
       "      <td>22086</td>\n",
       "      <td>19340</td>\n",
       "      <td>4370</td>\n",
       "      <td>1344</td>\n",
       "      <td>BOON LAY</td>\n",
       "      <td>BOON LAY</td>\n",
       "      <td>[[[[103.719598908563, 1.32358855385645], [103....</td>\n",
       "    </tr>\n",
       "    <tr>\n",
       "      <th>4</th>\n",
       "      <td>23184</td>\n",
       "      <td>37276</td>\n",
       "      <td>53119</td>\n",
       "      <td>7356</td>\n",
       "      <td>7179</td>\n",
       "      <td>734</td>\n",
       "      <td>BUKIT BATOK</td>\n",
       "      <td>BUKIT BATOK</td>\n",
       "      <td>[[[[103.770384023476, 1.34901643941298], [103....</td>\n",
       "    </tr>\n",
       "  </tbody>\n",
       "</table>\n",
       "</div>"
      ],
      "text/plain": [
       "   english  mandarin  chinese_dialects  malay  tamil  other_indian_languages  \\\n",
       "0    62218     73095             52639  45041   2990                    1572   \n",
       "1    33010     24195             17802   4495   2565                     394   \n",
       "2        0         0                 0      0      0                       0   \n",
       "3    23175     45157             22086  19340   4370                    1344   \n",
       "4    23184     37276             53119   7356   7179                     734   \n",
       "\n",
       "  planning_area   pln_area_n  \\\n",
       "0    ANG MO KIO   ANG MO KIO   \n",
       "1         BEDOK        BEDOK   \n",
       "2        BISHAN       BISHAN   \n",
       "3      BOON LAY     BOON LAY   \n",
       "4   BUKIT BATOK  BUKIT BATOK   \n",
       "\n",
       "                                             geojson  \n",
       "0  [[[[103.85811147785, 1.39111169772804], [103.8...  \n",
       "1  [[[[103.963860562506, 1.31395915978127], [103....  \n",
       "2  [[[[103.856862882287, 1.35551234779592], [103....  \n",
       "3  [[[[103.719598908563, 1.32358855385645], [103....  \n",
       "4  [[[[103.770384023476, 1.34901643941298], [103....  "
      ]
     },
     "execution_count": 157,
     "metadata": {},
     "output_type": "execute_result"
    }
   ],
   "source": [
    "y.head()"
   ]
  },
  {
   "cell_type": "markdown",
   "id": "e6f80671",
   "metadata": {},
   "source": [
    "Graph"
   ]
  },
  {
   "cell_type": "code",
   "execution_count": 158,
   "id": "225a78a3",
   "metadata": {},
   "outputs": [
    {
     "data": {
      "application/vnd.plotly.v1+json": {
       "config": {
        "plotlyServerURL": "https://plot.ly"
       },
       "data": [
        {
         "geo": "geo",
         "geojson": "geojson",
         "hovertemplate": "planning_area=ANG MO KIO<br>english=%{marker.size}<extra></extra>",
         "legendgroup": "ANG MO KIO",
         "marker": {
          "color": "#636efa",
          "size": [
           62218
          ],
          "sizemode": "area",
          "sizeref": 155.545,
          "symbol": "circle"
         },
         "mode": "markers",
         "name": "ANG MO KIO",
         "showlegend": true,
         "type": "scattergeo"
        },
        {
         "geo": "geo",
         "geojson": "geojson",
         "hovertemplate": "planning_area=BEDOK<br>english=%{marker.size}<extra></extra>",
         "legendgroup": "BEDOK",
         "marker": {
          "color": "#EF553B",
          "size": [
           33010
          ],
          "sizemode": "area",
          "sizeref": 155.545,
          "symbol": "circle"
         },
         "mode": "markers",
         "name": "BEDOK",
         "showlegend": true,
         "type": "scattergeo"
        },
        {
         "geo": "geo",
         "geojson": "geojson",
         "hovertemplate": "planning_area=BISHAN<br>english=%{marker.size}<extra></extra>",
         "legendgroup": "BISHAN",
         "marker": {
          "color": "#00cc96",
          "size": [
           0
          ],
          "sizemode": "area",
          "sizeref": 155.545,
          "symbol": "circle"
         },
         "mode": "markers",
         "name": "BISHAN",
         "showlegend": true,
         "type": "scattergeo"
        },
        {
         "geo": "geo",
         "geojson": "geojson",
         "hovertemplate": "planning_area=BOON LAY<br>english=%{marker.size}<extra></extra>",
         "legendgroup": "BOON LAY",
         "marker": {
          "color": "#ab63fa",
          "size": [
           23175
          ],
          "sizemode": "area",
          "sizeref": 155.545,
          "symbol": "circle"
         },
         "mode": "markers",
         "name": "BOON LAY",
         "showlegend": true,
         "type": "scattergeo"
        },
        {
         "geo": "geo",
         "geojson": "geojson",
         "hovertemplate": "planning_area=BUKIT BATOK<br>english=%{marker.size}<extra></extra>",
         "legendgroup": "BUKIT BATOK",
         "marker": {
          "color": "#FFA15A",
          "size": [
           23184
          ],
          "sizemode": "area",
          "sizeref": 155.545,
          "symbol": "circle"
         },
         "mode": "markers",
         "name": "BUKIT BATOK",
         "showlegend": true,
         "type": "scattergeo"
        },
        {
         "geo": "geo",
         "geojson": "geojson",
         "hovertemplate": "planning_area=BUKIT MERAH<br>english=%{marker.size}<extra></extra>",
         "legendgroup": "BUKIT MERAH",
         "marker": {
          "color": "#19d3f3",
          "size": [
           24608
          ],
          "sizemode": "area",
          "sizeref": 155.545,
          "symbol": "circle"
         },
         "mode": "markers",
         "name": "BUKIT MERAH",
         "showlegend": true,
         "type": "scattergeo"
        },
        {
         "geo": "geo",
         "geojson": "geojson",
         "hovertemplate": "planning_area=CHOA CHU KANG<br>english=%{marker.size}<extra></extra>",
         "legendgroup": "CHOA CHU KANG",
         "marker": {
          "color": "#FF6692",
          "size": [
           15755
          ],
          "sizemode": "area",
          "sizeref": 155.545,
          "symbol": "circle"
         },
         "mode": "markers",
         "name": "CHOA CHU KANG",
         "showlegend": true,
         "type": "scattergeo"
        },
        {
         "geo": "geo",
         "geojson": "geojson",
         "hovertemplate": "planning_area=BUKIT PANJANG<br>english=%{marker.size}<extra></extra>",
         "legendgroup": "BUKIT PANJANG",
         "marker": {
          "color": "#B6E880",
          "size": [
           14384
          ],
          "sizemode": "area",
          "sizeref": 155.545,
          "symbol": "circle"
         },
         "mode": "markers",
         "name": "BUKIT PANJANG",
         "showlegend": true,
         "type": "scattergeo"
        },
        {
         "geo": "geo",
         "geojson": "geojson",
         "hovertemplate": "planning_area=JURONG EAST<br>english=%{marker.size}<extra></extra>",
         "legendgroup": "JURONG EAST",
         "marker": {
          "color": "#FF97FF",
          "size": [
           19033
          ],
          "sizemode": "area",
          "sizeref": 155.545,
          "symbol": "circle"
         },
         "mode": "markers",
         "name": "JURONG EAST",
         "showlegend": true,
         "type": "scattergeo"
        },
        {
         "geo": "geo",
         "geojson": "geojson",
         "hovertemplate": "planning_area=QUEENSTOWN<br>english=%{marker.size}<extra></extra>",
         "legendgroup": "QUEENSTOWN",
         "marker": {
          "color": "#FECB52",
          "size": [
           25974
          ],
          "sizemode": "area",
          "sizeref": 155.545,
          "symbol": "circle"
         },
         "mode": "markers",
         "name": "QUEENSTOWN",
         "showlegend": true,
         "type": "scattergeo"
        },
        {
         "geo": "geo",
         "geojson": "geojson",
         "hovertemplate": "planning_area=JURONG WEST<br>english=%{marker.size}<extra></extra>",
         "legendgroup": "JURONG WEST",
         "marker": {
          "color": "#636efa",
          "size": [
           33002
          ],
          "sizemode": "area",
          "sizeref": 155.545,
          "symbol": "circle"
         },
         "mode": "markers",
         "name": "JURONG WEST",
         "showlegend": true,
         "type": "scattergeo"
        },
        {
         "geo": "geo",
         "geojson": "geojson",
         "hovertemplate": "planning_area=BUKIT TIMAH<br>english=%{marker.size}<extra></extra>",
         "legendgroup": "BUKIT TIMAH",
         "marker": {
          "color": "#EF553B",
          "size": [
           0
          ],
          "sizemode": "area",
          "sizeref": 155.545,
          "symbol": "circle"
         },
         "mode": "markers",
         "name": "BUKIT TIMAH",
         "showlegend": true,
         "type": "scattergeo"
        },
        {
         "geo": "geo",
         "geojson": "geojson",
         "hovertemplate": "planning_area=CENTRAL WATER CATCHMENT<br>english=%{marker.size}<extra></extra>",
         "legendgroup": "CENTRAL WATER CATCHMENT",
         "marker": {
          "color": "#00cc96",
          "size": [
           177
          ],
          "sizemode": "area",
          "sizeref": 155.545,
          "symbol": "circle"
         },
         "mode": "markers",
         "name": "CENTRAL WATER CATCHMENT",
         "showlegend": true,
         "type": "scattergeo"
        },
        {
         "geo": "geo",
         "geojson": "geojson",
         "hovertemplate": "planning_area=CHANGI<br>english=%{marker.size}<extra></extra>",
         "legendgroup": "CHANGI",
         "marker": {
          "color": "#ab63fa",
          "size": [
           0
          ],
          "sizemode": "area",
          "sizeref": 155.545,
          "symbol": "circle"
         },
         "mode": "markers",
         "name": "CHANGI",
         "showlegend": true,
         "type": "scattergeo"
        },
        {
         "geo": "geo",
         "geojson": "geojson",
         "hovertemplate": "planning_area=CHANGI BAY<br>english=%{marker.size}<extra></extra>",
         "legendgroup": "CHANGI BAY",
         "marker": {
          "color": "#FFA15A",
          "size": [
           0
          ],
          "sizemode": "area",
          "sizeref": 155.545,
          "symbol": "circle"
         },
         "mode": "markers",
         "name": "CHANGI BAY",
         "showlegend": true,
         "type": "scattergeo"
        },
        {
         "geo": "geo",
         "geojson": "geojson",
         "hovertemplate": "planning_area=TENGAH<br>english=%{marker.size}<extra></extra>",
         "legendgroup": "TENGAH",
         "marker": {
          "color": "#19d3f3",
          "size": [
           19511
          ],
          "sizemode": "area",
          "sizeref": 155.545,
          "symbol": "circle"
         },
         "mode": "markers",
         "name": "TENGAH",
         "showlegend": true,
         "type": "scattergeo"
        },
        {
         "geo": "geo",
         "geojson": "geojson",
         "hovertemplate": "planning_area=CLEMENTI<br>english=%{marker.size}<extra></extra>",
         "legendgroup": "CLEMENTI",
         "marker": {
          "color": "#FF6692",
          "size": [
           17029
          ],
          "sizemode": "area",
          "sizeref": 155.545,
          "symbol": "circle"
         },
         "mode": "markers",
         "name": "CLEMENTI",
         "showlegend": true,
         "type": "scattergeo"
        },
        {
         "geo": "geo",
         "geojson": "geojson",
         "hovertemplate": "planning_area=GEYLANG<br>english=%{marker.size}<extra></extra>",
         "legendgroup": "GEYLANG",
         "marker": {
          "color": "#B6E880",
          "size": [
           42271
          ],
          "sizemode": "area",
          "sizeref": 155.545,
          "symbol": "circle"
         },
         "mode": "markers",
         "name": "GEYLANG",
         "showlegend": true,
         "type": "scattergeo"
        },
        {
         "geo": "geo",
         "geojson": "geojson",
         "hovertemplate": "planning_area=HOUGANG<br>english=%{marker.size}<extra></extra>",
         "legendgroup": "HOUGANG",
         "marker": {
          "color": "#FF97FF",
          "size": [
           0
          ],
          "sizemode": "area",
          "sizeref": 155.545,
          "symbol": "circle"
         },
         "mode": "markers",
         "name": "HOUGANG",
         "showlegend": true,
         "type": "scattergeo"
        },
        {
         "geo": "geo",
         "geojson": "geojson",
         "hovertemplate": "planning_area=PIONEER<br>english=%{marker.size}<extra></extra>",
         "legendgroup": "PIONEER",
         "marker": {
          "color": "#FECB52",
          "size": [
           0
          ],
          "sizemode": "area",
          "sizeref": 155.545,
          "symbol": "circle"
         },
         "mode": "markers",
         "name": "PIONEER",
         "showlegend": true,
         "type": "scattergeo"
        },
        {
         "geo": "geo",
         "geojson": "geojson",
         "hovertemplate": "planning_area=PUNGGOL<br>english=%{marker.size}<extra></extra>",
         "legendgroup": "PUNGGOL",
         "marker": {
          "color": "#636efa",
          "size": [
           0
          ],
          "sizemode": "area",
          "sizeref": 155.545,
          "symbol": "circle"
         },
         "mode": "markers",
         "name": "PUNGGOL",
         "showlegend": true,
         "type": "scattergeo"
        },
        {
         "geo": "geo",
         "geojson": "geojson",
         "hovertemplate": "planning_area=SELETAR<br>english=%{marker.size}<extra></extra>",
         "legendgroup": "SELETAR",
         "marker": {
          "color": "#EF553B",
          "size": [
           4219
          ],
          "sizemode": "area",
          "sizeref": 155.545,
          "symbol": "circle"
         },
         "mode": "markers",
         "name": "SELETAR",
         "showlegend": true,
         "type": "scattergeo"
        },
        {
         "geo": "geo",
         "geojson": "geojson",
         "hovertemplate": "planning_area=SEMBAWANG<br>english=%{marker.size}<extra></extra>",
         "legendgroup": "SEMBAWANG",
         "marker": {
          "color": "#00cc96",
          "size": [
           8726
          ],
          "sizemode": "area",
          "sizeref": 155.545,
          "symbol": "circle"
         },
         "mode": "markers",
         "name": "SEMBAWANG",
         "showlegend": true,
         "type": "scattergeo"
        },
        {
         "geo": "geo",
         "geojson": "geojson",
         "hovertemplate": "planning_area=SENGKANG<br>english=%{marker.size}<extra></extra>",
         "legendgroup": "SENGKANG",
         "marker": {
          "color": "#ab63fa",
          "size": [
           40057
          ],
          "sizemode": "area",
          "sizeref": 155.545,
          "symbol": "circle"
         },
         "mode": "markers",
         "name": "SENGKANG",
         "showlegend": true,
         "type": "scattergeo"
        },
        {
         "geo": "geo",
         "geojson": "geojson",
         "hovertemplate": "planning_area=SERANGOON<br>english=%{marker.size}<extra></extra>",
         "legendgroup": "SERANGOON",
         "marker": {
          "color": "#FFA15A",
          "size": [
           0
          ],
          "sizemode": "area",
          "sizeref": 155.545,
          "symbol": "circle"
         },
         "mode": "markers",
         "name": "SERANGOON",
         "showlegend": true,
         "type": "scattergeo"
        },
        {
         "geo": "geo",
         "geojson": "geojson",
         "hovertemplate": "planning_area=SIMPANG<br>english=%{marker.size}<extra></extra>",
         "legendgroup": "SIMPANG",
         "marker": {
          "color": "#19d3f3",
          "size": [
           0
          ],
          "sizemode": "area",
          "sizeref": 155.545,
          "symbol": "circle"
         },
         "mode": "markers",
         "name": "SIMPANG",
         "showlegend": true,
         "type": "scattergeo"
        },
        {
         "geo": "geo",
         "geojson": "geojson",
         "hovertemplate": "planning_area=SOUTHERN ISLANDS<br>english=%{marker.size}<extra></extra>",
         "legendgroup": "SOUTHERN ISLANDS",
         "marker": {
          "color": "#FF6692",
          "size": [
           0
          ],
          "sizemode": "area",
          "sizeref": 155.545,
          "symbol": "circle"
         },
         "mode": "markers",
         "name": "SOUTHERN ISLANDS",
         "showlegend": true,
         "type": "scattergeo"
        },
        {
         "geo": "geo",
         "geojson": "geojson",
         "hovertemplate": "planning_area=SUNGEI KADUT<br>english=%{marker.size}<extra></extra>",
         "legendgroup": "SUNGEI KADUT",
         "marker": {
          "color": "#B6E880",
          "size": [
           51087
          ],
          "sizemode": "area",
          "sizeref": 155.545,
          "symbol": "circle"
         },
         "mode": "markers",
         "name": "SUNGEI KADUT",
         "showlegend": true,
         "type": "scattergeo"
        },
        {
         "geo": "geo",
         "geojson": "geojson",
         "hovertemplate": "planning_area=TAMPINES<br>english=%{marker.size}<extra></extra>",
         "legendgroup": "TAMPINES",
         "marker": {
          "color": "#FF97FF",
          "size": [
           6817
          ],
          "sizemode": "area",
          "sizeref": 155.545,
          "symbol": "circle"
         },
         "mode": "markers",
         "name": "TAMPINES",
         "showlegend": true,
         "type": "scattergeo"
        },
        {
         "geo": "geo",
         "geojson": "geojson",
         "hovertemplate": "planning_area=TANGLIN<br>english=%{marker.size}<extra></extra>",
         "legendgroup": "TANGLIN",
         "marker": {
          "color": "#FECB52",
          "size": [
           23304
          ],
          "sizemode": "area",
          "sizeref": 155.545,
          "symbol": "circle"
         },
         "mode": "markers",
         "name": "TANGLIN",
         "showlegend": true,
         "type": "scattergeo"
        },
        {
         "geo": "geo",
         "geojson": "geojson",
         "hovertemplate": "planning_area=TOA PAYOH<br>english=%{marker.size}<extra></extra>",
         "legendgroup": "TOA PAYOH",
         "marker": {
          "color": "#636efa",
          "size": [
           0
          ],
          "sizemode": "area",
          "sizeref": 155.545,
          "symbol": "circle"
         },
         "mode": "markers",
         "name": "TOA PAYOH",
         "showlegend": true,
         "type": "scattergeo"
        },
        {
         "geo": "geo",
         "geojson": "geojson",
         "hovertemplate": "planning_area=TUAS<br>english=%{marker.size}<extra></extra>",
         "legendgroup": "TUAS",
         "marker": {
          "color": "#EF553B",
          "size": [
           0
          ],
          "sizemode": "area",
          "sizeref": 155.545,
          "symbol": "circle"
         },
         "mode": "markers",
         "name": "TUAS",
         "showlegend": true,
         "type": "scattergeo"
        },
        {
         "geo": "geo",
         "geojson": "geojson",
         "hovertemplate": "planning_area=WESTERN ISLANDS<br>english=%{marker.size}<extra></extra>",
         "legendgroup": "WESTERN ISLANDS",
         "marker": {
          "color": "#00cc96",
          "size": [
           0
          ],
          "sizemode": "area",
          "sizeref": 155.545,
          "symbol": "circle"
         },
         "mode": "markers",
         "name": "WESTERN ISLANDS",
         "showlegend": true,
         "type": "scattergeo"
        },
        {
         "geo": "geo",
         "geojson": "geojson",
         "hovertemplate": "planning_area=WESTERN WATER CATCHMENT<br>english=%{marker.size}<extra></extra>",
         "legendgroup": "WESTERN WATER CATCHMENT",
         "marker": {
          "color": "#ab63fa",
          "size": [
           27497
          ],
          "sizemode": "area",
          "sizeref": 155.545,
          "symbol": "circle"
         },
         "mode": "markers",
         "name": "WESTERN WATER CATCHMENT",
         "showlegend": true,
         "type": "scattergeo"
        },
        {
         "geo": "geo",
         "geojson": "geojson",
         "hovertemplate": "planning_area=WOODLANDS<br>english=%{marker.size}<extra></extra>",
         "legendgroup": "WOODLANDS",
         "marker": {
          "color": "#FFA15A",
          "size": [
           28448
          ],
          "sizemode": "area",
          "sizeref": 155.545,
          "symbol": "circle"
         },
         "mode": "markers",
         "name": "WOODLANDS",
         "showlegend": true,
         "type": "scattergeo"
        },
        {
         "geo": "geo",
         "geojson": "geojson",
         "hovertemplate": "planning_area=YISHUN<br>english=%{marker.size}<extra></extra>",
         "legendgroup": "YISHUN",
         "marker": {
          "color": "#19d3f3",
          "size": [
           482
          ],
          "sizemode": "area",
          "sizeref": 155.545,
          "symbol": "circle"
         },
         "mode": "markers",
         "name": "YISHUN",
         "showlegend": true,
         "type": "scattergeo"
        },
        {
         "geo": "geo",
         "geojson": "geojson",
         "hovertemplate": "planning_area=DOWNTOWN CORE<br>english=%{marker.size}<extra></extra>",
         "legendgroup": "DOWNTOWN CORE",
         "marker": {
          "color": "#FF6692",
          "size": [
           0
          ],
          "sizemode": "area",
          "sizeref": 155.545,
          "symbol": "circle"
         },
         "mode": "markers",
         "name": "DOWNTOWN CORE",
         "showlegend": true,
         "type": "scattergeo"
        },
        {
         "geo": "geo",
         "geojson": "geojson",
         "hovertemplate": "planning_area=MARINA EAST<br>english=%{marker.size}<extra></extra>",
         "legendgroup": "MARINA EAST",
         "marker": {
          "color": "#B6E880",
          "size": [
           0
          ],
          "sizemode": "area",
          "sizeref": 155.545,
          "symbol": "circle"
         },
         "mode": "markers",
         "name": "MARINA EAST",
         "showlegend": true,
         "type": "scattergeo"
        },
        {
         "geo": "geo",
         "geojson": "geojson",
         "hovertemplate": "planning_area=MARINA SOUTH<br>english=%{marker.size}<extra></extra>",
         "legendgroup": "MARINA SOUTH",
         "marker": {
          "color": "#FF97FF",
          "size": [
           0
          ],
          "sizemode": "area",
          "sizeref": 155.545,
          "symbol": "circle"
         },
         "mode": "markers",
         "name": "MARINA SOUTH",
         "showlegend": true,
         "type": "scattergeo"
        },
        {
         "geo": "geo",
         "geojson": "geojson",
         "hovertemplate": "planning_area=MUSEUM<br>english=%{marker.size}<extra></extra>",
         "legendgroup": "MUSEUM",
         "marker": {
          "color": "#FECB52",
          "size": [
           3004
          ],
          "sizemode": "area",
          "sizeref": 155.545,
          "symbol": "circle"
         },
         "mode": "markers",
         "name": "MUSEUM",
         "showlegend": true,
         "type": "scattergeo"
        },
        {
         "geo": "geo",
         "geojson": "geojson",
         "hovertemplate": "planning_area=NEWTON<br>english=%{marker.size}<extra></extra>",
         "legendgroup": "NEWTON",
         "marker": {
          "color": "#636efa",
          "size": [
           0
          ],
          "sizemode": "area",
          "sizeref": 155.545,
          "symbol": "circle"
         },
         "mode": "markers",
         "name": "NEWTON",
         "showlegend": true,
         "type": "scattergeo"
        },
        {
         "geo": "geo",
         "geojson": "geojson",
         "hovertemplate": "planning_area=ORCHARD<br>english=%{marker.size}<extra></extra>",
         "legendgroup": "ORCHARD",
         "marker": {
          "color": "#EF553B",
          "size": [
           1746
          ],
          "sizemode": "area",
          "sizeref": 155.545,
          "symbol": "circle"
         },
         "mode": "markers",
         "name": "ORCHARD",
         "showlegend": true,
         "type": "scattergeo"
        },
        {
         "geo": "geo",
         "geojson": "geojson",
         "hovertemplate": "planning_area=OUTRAM<br>english=%{marker.size}<extra></extra>",
         "legendgroup": "OUTRAM",
         "marker": {
          "color": "#00cc96",
          "size": [
           13970
          ],
          "sizemode": "area",
          "sizeref": 155.545,
          "symbol": "circle"
         },
         "mode": "markers",
         "name": "OUTRAM",
         "showlegend": true,
         "type": "scattergeo"
        },
        {
         "geo": "geo",
         "geojson": "geojson",
         "hovertemplate": "planning_area=KALLANG<br>english=%{marker.size}<extra></extra>",
         "legendgroup": "KALLANG",
         "marker": {
          "color": "#ab63fa",
          "size": [
           0
          ],
          "sizemode": "area",
          "sizeref": 155.545,
          "symbol": "circle"
         },
         "mode": "markers",
         "name": "KALLANG",
         "showlegend": true,
         "type": "scattergeo"
        },
        {
         "geo": "geo",
         "geojson": "geojson",
         "hovertemplate": "planning_area=LIM CHU KANG<br>english=%{marker.size}<extra></extra>",
         "legendgroup": "LIM CHU KANG",
         "marker": {
          "color": "#FFA15A",
          "size": [
           0
          ],
          "sizemode": "area",
          "sizeref": 155.545,
          "symbol": "circle"
         },
         "mode": "markers",
         "name": "LIM CHU KANG",
         "showlegend": true,
         "type": "scattergeo"
        },
        {
         "geo": "geo",
         "geojson": "geojson",
         "hovertemplate": "planning_area=MANDAI<br>english=%{marker.size}<extra></extra>",
         "legendgroup": "MANDAI",
         "marker": {
          "color": "#19d3f3",
          "size": [
           15087
          ],
          "sizemode": "area",
          "sizeref": 155.545,
          "symbol": "circle"
         },
         "mode": "markers",
         "name": "MANDAI",
         "showlegend": true,
         "type": "scattergeo"
        },
        {
         "geo": "geo",
         "geojson": "geojson",
         "hovertemplate": "planning_area=MARINE PARADE<br>english=%{marker.size}<extra></extra>",
         "legendgroup": "MARINE PARADE",
         "marker": {
          "color": "#FF6692",
          "size": [
           0
          ],
          "sizemode": "area",
          "sizeref": 155.545,
          "symbol": "circle"
         },
         "mode": "markers",
         "name": "MARINE PARADE",
         "showlegend": true,
         "type": "scattergeo"
        },
        {
         "geo": "geo",
         "geojson": "geojson",
         "hovertemplate": "planning_area=NORTH-EASTERN ISLANDS<br>english=%{marker.size}<extra></extra>",
         "legendgroup": "NORTH-EASTERN ISLANDS",
         "marker": {
          "color": "#B6E880",
          "size": [
           14559
          ],
          "sizemode": "area",
          "sizeref": 155.545,
          "symbol": "circle"
         },
         "mode": "markers",
         "name": "NORTH-EASTERN ISLANDS",
         "showlegend": true,
         "type": "scattergeo"
        },
        {
         "geo": "geo",
         "geojson": "geojson",
         "hovertemplate": "planning_area=NOVENA<br>english=%{marker.size}<extra></extra>",
         "legendgroup": "NOVENA",
         "marker": {
          "color": "#FF97FF",
          "size": [
           35001
          ],
          "sizemode": "area",
          "sizeref": 155.545,
          "symbol": "circle"
         },
         "mode": "markers",
         "name": "NOVENA",
         "showlegend": true,
         "type": "scattergeo"
        },
        {
         "geo": "geo",
         "geojson": "geojson",
         "hovertemplate": "planning_area=PASIR RIS<br>english=%{marker.size}<extra></extra>",
         "legendgroup": "PASIR RIS",
         "marker": {
          "color": "#FECB52",
          "size": [
           0
          ],
          "sizemode": "area",
          "sizeref": 155.545,
          "symbol": "circle"
         },
         "mode": "markers",
         "name": "PASIR RIS",
         "showlegend": true,
         "type": "scattergeo"
        },
        {
         "geo": "geo",
         "geojson": "geojson",
         "hovertemplate": "planning_area=PAYA LEBAR<br>english=%{marker.size}<extra></extra>",
         "legendgroup": "PAYA LEBAR",
         "marker": {
          "color": "#636efa",
          "size": [
           3760
          ],
          "sizemode": "area",
          "sizeref": 155.545,
          "symbol": "circle"
         },
         "mode": "markers",
         "name": "PAYA LEBAR",
         "showlegend": true,
         "type": "scattergeo"
        },
        {
         "geo": "geo",
         "geojson": "geojson",
         "hovertemplate": "planning_area=RIVER VALLEY<br>english=%{marker.size}<extra></extra>",
         "legendgroup": "RIVER VALLEY",
         "marker": {
          "color": "#EF553B",
          "size": [
           1850
          ],
          "sizemode": "area",
          "sizeref": 155.545,
          "symbol": "circle"
         },
         "mode": "markers",
         "name": "RIVER VALLEY",
         "showlegend": true,
         "type": "scattergeo"
        },
        {
         "geo": "geo",
         "geojson": "geojson",
         "hovertemplate": "planning_area=ROCHOR<br>english=%{marker.size}<extra></extra>",
         "legendgroup": "ROCHOR",
         "marker": {
          "color": "#00cc96",
          "size": [
           0
          ],
          "sizemode": "area",
          "sizeref": 155.545,
          "symbol": "circle"
         },
         "mode": "markers",
         "name": "ROCHOR",
         "showlegend": true,
         "type": "scattergeo"
        },
        {
         "geo": "geo",
         "geojson": "geojson",
         "hovertemplate": "planning_area=SINGAPORE RIVER<br>english=%{marker.size}<extra></extra>",
         "legendgroup": "SINGAPORE RIVER",
         "marker": {
          "color": "#ab63fa",
          "size": [
           0
          ],
          "sizemode": "area",
          "sizeref": 155.545,
          "symbol": "circle"
         },
         "mode": "markers",
         "name": "SINGAPORE RIVER",
         "showlegend": true,
         "type": "scattergeo"
        },
        {
         "geo": "geo",
         "geojson": "geojson",
         "hovertemplate": "planning_area=STRAITS VIEW<br>english=%{marker.size}<extra></extra>",
         "legendgroup": "STRAITS VIEW",
         "marker": {
          "color": "#FFA15A",
          "size": [
           0
          ],
          "sizemode": "area",
          "sizeref": 155.545,
          "symbol": "circle"
         },
         "mode": "markers",
         "name": "STRAITS VIEW",
         "showlegend": true,
         "type": "scattergeo"
        }
       ],
       "layout": {
        "geo": {
         "center": {},
         "domain": {
          "x": [
           0,
           1
          ],
          "y": [
           0,
           1
          ]
         },
         "projection": {
          "type": "natural earth"
         }
        },
        "legend": {
         "itemsizing": "constant",
         "title": {
          "text": "planning_area"
         },
         "tracegroupgap": 0
        },
        "margin": {
         "t": 60
        },
        "template": {
         "data": {
          "bar": [
           {
            "error_x": {
             "color": "#2a3f5f"
            },
            "error_y": {
             "color": "#2a3f5f"
            },
            "marker": {
             "line": {
              "color": "#E5ECF6",
              "width": 0.5
             },
             "pattern": {
              "fillmode": "overlay",
              "size": 10,
              "solidity": 0.2
             }
            },
            "type": "bar"
           }
          ],
          "barpolar": [
           {
            "marker": {
             "line": {
              "color": "#E5ECF6",
              "width": 0.5
             },
             "pattern": {
              "fillmode": "overlay",
              "size": 10,
              "solidity": 0.2
             }
            },
            "type": "barpolar"
           }
          ],
          "carpet": [
           {
            "aaxis": {
             "endlinecolor": "#2a3f5f",
             "gridcolor": "white",
             "linecolor": "white",
             "minorgridcolor": "white",
             "startlinecolor": "#2a3f5f"
            },
            "baxis": {
             "endlinecolor": "#2a3f5f",
             "gridcolor": "white",
             "linecolor": "white",
             "minorgridcolor": "white",
             "startlinecolor": "#2a3f5f"
            },
            "type": "carpet"
           }
          ],
          "choropleth": [
           {
            "colorbar": {
             "outlinewidth": 0,
             "ticks": ""
            },
            "type": "choropleth"
           }
          ],
          "contour": [
           {
            "colorbar": {
             "outlinewidth": 0,
             "ticks": ""
            },
            "colorscale": [
             [
              0,
              "#0d0887"
             ],
             [
              0.1111111111111111,
              "#46039f"
             ],
             [
              0.2222222222222222,
              "#7201a8"
             ],
             [
              0.3333333333333333,
              "#9c179e"
             ],
             [
              0.4444444444444444,
              "#bd3786"
             ],
             [
              0.5555555555555556,
              "#d8576b"
             ],
             [
              0.6666666666666666,
              "#ed7953"
             ],
             [
              0.7777777777777778,
              "#fb9f3a"
             ],
             [
              0.8888888888888888,
              "#fdca26"
             ],
             [
              1,
              "#f0f921"
             ]
            ],
            "type": "contour"
           }
          ],
          "contourcarpet": [
           {
            "colorbar": {
             "outlinewidth": 0,
             "ticks": ""
            },
            "type": "contourcarpet"
           }
          ],
          "heatmap": [
           {
            "colorbar": {
             "outlinewidth": 0,
             "ticks": ""
            },
            "colorscale": [
             [
              0,
              "#0d0887"
             ],
             [
              0.1111111111111111,
              "#46039f"
             ],
             [
              0.2222222222222222,
              "#7201a8"
             ],
             [
              0.3333333333333333,
              "#9c179e"
             ],
             [
              0.4444444444444444,
              "#bd3786"
             ],
             [
              0.5555555555555556,
              "#d8576b"
             ],
             [
              0.6666666666666666,
              "#ed7953"
             ],
             [
              0.7777777777777778,
              "#fb9f3a"
             ],
             [
              0.8888888888888888,
              "#fdca26"
             ],
             [
              1,
              "#f0f921"
             ]
            ],
            "type": "heatmap"
           }
          ],
          "heatmapgl": [
           {
            "colorbar": {
             "outlinewidth": 0,
             "ticks": ""
            },
            "colorscale": [
             [
              0,
              "#0d0887"
             ],
             [
              0.1111111111111111,
              "#46039f"
             ],
             [
              0.2222222222222222,
              "#7201a8"
             ],
             [
              0.3333333333333333,
              "#9c179e"
             ],
             [
              0.4444444444444444,
              "#bd3786"
             ],
             [
              0.5555555555555556,
              "#d8576b"
             ],
             [
              0.6666666666666666,
              "#ed7953"
             ],
             [
              0.7777777777777778,
              "#fb9f3a"
             ],
             [
              0.8888888888888888,
              "#fdca26"
             ],
             [
              1,
              "#f0f921"
             ]
            ],
            "type": "heatmapgl"
           }
          ],
          "histogram": [
           {
            "marker": {
             "pattern": {
              "fillmode": "overlay",
              "size": 10,
              "solidity": 0.2
             }
            },
            "type": "histogram"
           }
          ],
          "histogram2d": [
           {
            "colorbar": {
             "outlinewidth": 0,
             "ticks": ""
            },
            "colorscale": [
             [
              0,
              "#0d0887"
             ],
             [
              0.1111111111111111,
              "#46039f"
             ],
             [
              0.2222222222222222,
              "#7201a8"
             ],
             [
              0.3333333333333333,
              "#9c179e"
             ],
             [
              0.4444444444444444,
              "#bd3786"
             ],
             [
              0.5555555555555556,
              "#d8576b"
             ],
             [
              0.6666666666666666,
              "#ed7953"
             ],
             [
              0.7777777777777778,
              "#fb9f3a"
             ],
             [
              0.8888888888888888,
              "#fdca26"
             ],
             [
              1,
              "#f0f921"
             ]
            ],
            "type": "histogram2d"
           }
          ],
          "histogram2dcontour": [
           {
            "colorbar": {
             "outlinewidth": 0,
             "ticks": ""
            },
            "colorscale": [
             [
              0,
              "#0d0887"
             ],
             [
              0.1111111111111111,
              "#46039f"
             ],
             [
              0.2222222222222222,
              "#7201a8"
             ],
             [
              0.3333333333333333,
              "#9c179e"
             ],
             [
              0.4444444444444444,
              "#bd3786"
             ],
             [
              0.5555555555555556,
              "#d8576b"
             ],
             [
              0.6666666666666666,
              "#ed7953"
             ],
             [
              0.7777777777777778,
              "#fb9f3a"
             ],
             [
              0.8888888888888888,
              "#fdca26"
             ],
             [
              1,
              "#f0f921"
             ]
            ],
            "type": "histogram2dcontour"
           }
          ],
          "mesh3d": [
           {
            "colorbar": {
             "outlinewidth": 0,
             "ticks": ""
            },
            "type": "mesh3d"
           }
          ],
          "parcoords": [
           {
            "line": {
             "colorbar": {
              "outlinewidth": 0,
              "ticks": ""
             }
            },
            "type": "parcoords"
           }
          ],
          "pie": [
           {
            "automargin": true,
            "type": "pie"
           }
          ],
          "scatter": [
           {
            "fillpattern": {
             "fillmode": "overlay",
             "size": 10,
             "solidity": 0.2
            },
            "type": "scatter"
           }
          ],
          "scatter3d": [
           {
            "line": {
             "colorbar": {
              "outlinewidth": 0,
              "ticks": ""
             }
            },
            "marker": {
             "colorbar": {
              "outlinewidth": 0,
              "ticks": ""
             }
            },
            "type": "scatter3d"
           }
          ],
          "scattercarpet": [
           {
            "marker": {
             "colorbar": {
              "outlinewidth": 0,
              "ticks": ""
             }
            },
            "type": "scattercarpet"
           }
          ],
          "scattergeo": [
           {
            "marker": {
             "colorbar": {
              "outlinewidth": 0,
              "ticks": ""
             }
            },
            "type": "scattergeo"
           }
          ],
          "scattergl": [
           {
            "marker": {
             "colorbar": {
              "outlinewidth": 0,
              "ticks": ""
             }
            },
            "type": "scattergl"
           }
          ],
          "scattermapbox": [
           {
            "marker": {
             "colorbar": {
              "outlinewidth": 0,
              "ticks": ""
             }
            },
            "type": "scattermapbox"
           }
          ],
          "scatterpolar": [
           {
            "marker": {
             "colorbar": {
              "outlinewidth": 0,
              "ticks": ""
             }
            },
            "type": "scatterpolar"
           }
          ],
          "scatterpolargl": [
           {
            "marker": {
             "colorbar": {
              "outlinewidth": 0,
              "ticks": ""
             }
            },
            "type": "scatterpolargl"
           }
          ],
          "scatterternary": [
           {
            "marker": {
             "colorbar": {
              "outlinewidth": 0,
              "ticks": ""
             }
            },
            "type": "scatterternary"
           }
          ],
          "surface": [
           {
            "colorbar": {
             "outlinewidth": 0,
             "ticks": ""
            },
            "colorscale": [
             [
              0,
              "#0d0887"
             ],
             [
              0.1111111111111111,
              "#46039f"
             ],
             [
              0.2222222222222222,
              "#7201a8"
             ],
             [
              0.3333333333333333,
              "#9c179e"
             ],
             [
              0.4444444444444444,
              "#bd3786"
             ],
             [
              0.5555555555555556,
              "#d8576b"
             ],
             [
              0.6666666666666666,
              "#ed7953"
             ],
             [
              0.7777777777777778,
              "#fb9f3a"
             ],
             [
              0.8888888888888888,
              "#fdca26"
             ],
             [
              1,
              "#f0f921"
             ]
            ],
            "type": "surface"
           }
          ],
          "table": [
           {
            "cells": {
             "fill": {
              "color": "#EBF0F8"
             },
             "line": {
              "color": "white"
             }
            },
            "header": {
             "fill": {
              "color": "#C8D4E3"
             },
             "line": {
              "color": "white"
             }
            },
            "type": "table"
           }
          ]
         },
         "layout": {
          "annotationdefaults": {
           "arrowcolor": "#2a3f5f",
           "arrowhead": 0,
           "arrowwidth": 1
          },
          "autotypenumbers": "strict",
          "coloraxis": {
           "colorbar": {
            "outlinewidth": 0,
            "ticks": ""
           }
          },
          "colorscale": {
           "diverging": [
            [
             0,
             "#8e0152"
            ],
            [
             0.1,
             "#c51b7d"
            ],
            [
             0.2,
             "#de77ae"
            ],
            [
             0.3,
             "#f1b6da"
            ],
            [
             0.4,
             "#fde0ef"
            ],
            [
             0.5,
             "#f7f7f7"
            ],
            [
             0.6,
             "#e6f5d0"
            ],
            [
             0.7,
             "#b8e186"
            ],
            [
             0.8,
             "#7fbc41"
            ],
            [
             0.9,
             "#4d9221"
            ],
            [
             1,
             "#276419"
            ]
           ],
           "sequential": [
            [
             0,
             "#0d0887"
            ],
            [
             0.1111111111111111,
             "#46039f"
            ],
            [
             0.2222222222222222,
             "#7201a8"
            ],
            [
             0.3333333333333333,
             "#9c179e"
            ],
            [
             0.4444444444444444,
             "#bd3786"
            ],
            [
             0.5555555555555556,
             "#d8576b"
            ],
            [
             0.6666666666666666,
             "#ed7953"
            ],
            [
             0.7777777777777778,
             "#fb9f3a"
            ],
            [
             0.8888888888888888,
             "#fdca26"
            ],
            [
             1,
             "#f0f921"
            ]
           ],
           "sequentialminus": [
            [
             0,
             "#0d0887"
            ],
            [
             0.1111111111111111,
             "#46039f"
            ],
            [
             0.2222222222222222,
             "#7201a8"
            ],
            [
             0.3333333333333333,
             "#9c179e"
            ],
            [
             0.4444444444444444,
             "#bd3786"
            ],
            [
             0.5555555555555556,
             "#d8576b"
            ],
            [
             0.6666666666666666,
             "#ed7953"
            ],
            [
             0.7777777777777778,
             "#fb9f3a"
            ],
            [
             0.8888888888888888,
             "#fdca26"
            ],
            [
             1,
             "#f0f921"
            ]
           ]
          },
          "colorway": [
           "#636efa",
           "#EF553B",
           "#00cc96",
           "#ab63fa",
           "#FFA15A",
           "#19d3f3",
           "#FF6692",
           "#B6E880",
           "#FF97FF",
           "#FECB52"
          ],
          "font": {
           "color": "#2a3f5f"
          },
          "geo": {
           "bgcolor": "white",
           "lakecolor": "white",
           "landcolor": "#E5ECF6",
           "showlakes": true,
           "showland": true,
           "subunitcolor": "white"
          },
          "hoverlabel": {
           "align": "left"
          },
          "hovermode": "closest",
          "mapbox": {
           "style": "light"
          },
          "paper_bgcolor": "white",
          "plot_bgcolor": "#E5ECF6",
          "polar": {
           "angularaxis": {
            "gridcolor": "white",
            "linecolor": "white",
            "ticks": ""
           },
           "bgcolor": "#E5ECF6",
           "radialaxis": {
            "gridcolor": "white",
            "linecolor": "white",
            "ticks": ""
           }
          },
          "scene": {
           "xaxis": {
            "backgroundcolor": "#E5ECF6",
            "gridcolor": "white",
            "gridwidth": 2,
            "linecolor": "white",
            "showbackground": true,
            "ticks": "",
            "zerolinecolor": "white"
           },
           "yaxis": {
            "backgroundcolor": "#E5ECF6",
            "gridcolor": "white",
            "gridwidth": 2,
            "linecolor": "white",
            "showbackground": true,
            "ticks": "",
            "zerolinecolor": "white"
           },
           "zaxis": {
            "backgroundcolor": "#E5ECF6",
            "gridcolor": "white",
            "gridwidth": 2,
            "linecolor": "white",
            "showbackground": true,
            "ticks": "",
            "zerolinecolor": "white"
           }
          },
          "shapedefaults": {
           "line": {
            "color": "#2a3f5f"
           }
          },
          "ternary": {
           "aaxis": {
            "gridcolor": "white",
            "linecolor": "white",
            "ticks": ""
           },
           "baxis": {
            "gridcolor": "white",
            "linecolor": "white",
            "ticks": ""
           },
           "bgcolor": "#E5ECF6",
           "caxis": {
            "gridcolor": "white",
            "linecolor": "white",
            "ticks": ""
           }
          },
          "title": {
           "x": 0.05
          },
          "xaxis": {
           "automargin": true,
           "gridcolor": "white",
           "linecolor": "white",
           "ticks": "",
           "title": {
            "standoff": 15
           },
           "zerolinecolor": "white",
           "zerolinewidth": 2
          },
          "yaxis": {
           "automargin": true,
           "gridcolor": "white",
           "linecolor": "white",
           "ticks": "",
           "title": {
            "standoff": 15
           },
           "zerolinecolor": "white",
           "zerolinewidth": 2
          }
         }
        }
       }
      },
      "text/html": [
       "<div>                            <div id=\"1bc6148b-ccf9-4ace-8c68-792b238512c7\" class=\"plotly-graph-div\" style=\"height:525px; width:100%;\"></div>            <script type=\"text/javascript\">                require([\"plotly\"], function(Plotly) {                    window.PLOTLYENV=window.PLOTLYENV || {};                                    if (document.getElementById(\"1bc6148b-ccf9-4ace-8c68-792b238512c7\")) {                    Plotly.newPlot(                        \"1bc6148b-ccf9-4ace-8c68-792b238512c7\",                        [{\"geo\":\"geo\",\"geojson\":\"geojson\",\"hovertemplate\":\"planning_area=ANG MO KIO<br>english=%{marker.size}<extra></extra>\",\"legendgroup\":\"ANG MO KIO\",\"marker\":{\"color\":\"#636efa\",\"size\":[62218],\"sizemode\":\"area\",\"sizeref\":155.545,\"symbol\":\"circle\"},\"mode\":\"markers\",\"name\":\"ANG MO KIO\",\"showlegend\":true,\"type\":\"scattergeo\"},{\"geo\":\"geo\",\"geojson\":\"geojson\",\"hovertemplate\":\"planning_area=BEDOK<br>english=%{marker.size}<extra></extra>\",\"legendgroup\":\"BEDOK\",\"marker\":{\"color\":\"#EF553B\",\"size\":[33010],\"sizemode\":\"area\",\"sizeref\":155.545,\"symbol\":\"circle\"},\"mode\":\"markers\",\"name\":\"BEDOK\",\"showlegend\":true,\"type\":\"scattergeo\"},{\"geo\":\"geo\",\"geojson\":\"geojson\",\"hovertemplate\":\"planning_area=BISHAN<br>english=%{marker.size}<extra></extra>\",\"legendgroup\":\"BISHAN\",\"marker\":{\"color\":\"#00cc96\",\"size\":[0],\"sizemode\":\"area\",\"sizeref\":155.545,\"symbol\":\"circle\"},\"mode\":\"markers\",\"name\":\"BISHAN\",\"showlegend\":true,\"type\":\"scattergeo\"},{\"geo\":\"geo\",\"geojson\":\"geojson\",\"hovertemplate\":\"planning_area=BOON LAY<br>english=%{marker.size}<extra></extra>\",\"legendgroup\":\"BOON LAY\",\"marker\":{\"color\":\"#ab63fa\",\"size\":[23175],\"sizemode\":\"area\",\"sizeref\":155.545,\"symbol\":\"circle\"},\"mode\":\"markers\",\"name\":\"BOON LAY\",\"showlegend\":true,\"type\":\"scattergeo\"},{\"geo\":\"geo\",\"geojson\":\"geojson\",\"hovertemplate\":\"planning_area=BUKIT BATOK<br>english=%{marker.size}<extra></extra>\",\"legendgroup\":\"BUKIT BATOK\",\"marker\":{\"color\":\"#FFA15A\",\"size\":[23184],\"sizemode\":\"area\",\"sizeref\":155.545,\"symbol\":\"circle\"},\"mode\":\"markers\",\"name\":\"BUKIT BATOK\",\"showlegend\":true,\"type\":\"scattergeo\"},{\"geo\":\"geo\",\"geojson\":\"geojson\",\"hovertemplate\":\"planning_area=BUKIT MERAH<br>english=%{marker.size}<extra></extra>\",\"legendgroup\":\"BUKIT MERAH\",\"marker\":{\"color\":\"#19d3f3\",\"size\":[24608],\"sizemode\":\"area\",\"sizeref\":155.545,\"symbol\":\"circle\"},\"mode\":\"markers\",\"name\":\"BUKIT MERAH\",\"showlegend\":true,\"type\":\"scattergeo\"},{\"geo\":\"geo\",\"geojson\":\"geojson\",\"hovertemplate\":\"planning_area=CHOA CHU KANG<br>english=%{marker.size}<extra></extra>\",\"legendgroup\":\"CHOA CHU KANG\",\"marker\":{\"color\":\"#FF6692\",\"size\":[15755],\"sizemode\":\"area\",\"sizeref\":155.545,\"symbol\":\"circle\"},\"mode\":\"markers\",\"name\":\"CHOA CHU KANG\",\"showlegend\":true,\"type\":\"scattergeo\"},{\"geo\":\"geo\",\"geojson\":\"geojson\",\"hovertemplate\":\"planning_area=BUKIT PANJANG<br>english=%{marker.size}<extra></extra>\",\"legendgroup\":\"BUKIT PANJANG\",\"marker\":{\"color\":\"#B6E880\",\"size\":[14384],\"sizemode\":\"area\",\"sizeref\":155.545,\"symbol\":\"circle\"},\"mode\":\"markers\",\"name\":\"BUKIT PANJANG\",\"showlegend\":true,\"type\":\"scattergeo\"},{\"geo\":\"geo\",\"geojson\":\"geojson\",\"hovertemplate\":\"planning_area=JURONG EAST<br>english=%{marker.size}<extra></extra>\",\"legendgroup\":\"JURONG EAST\",\"marker\":{\"color\":\"#FF97FF\",\"size\":[19033],\"sizemode\":\"area\",\"sizeref\":155.545,\"symbol\":\"circle\"},\"mode\":\"markers\",\"name\":\"JURONG EAST\",\"showlegend\":true,\"type\":\"scattergeo\"},{\"geo\":\"geo\",\"geojson\":\"geojson\",\"hovertemplate\":\"planning_area=QUEENSTOWN<br>english=%{marker.size}<extra></extra>\",\"legendgroup\":\"QUEENSTOWN\",\"marker\":{\"color\":\"#FECB52\",\"size\":[25974],\"sizemode\":\"area\",\"sizeref\":155.545,\"symbol\":\"circle\"},\"mode\":\"markers\",\"name\":\"QUEENSTOWN\",\"showlegend\":true,\"type\":\"scattergeo\"},{\"geo\":\"geo\",\"geojson\":\"geojson\",\"hovertemplate\":\"planning_area=JURONG WEST<br>english=%{marker.size}<extra></extra>\",\"legendgroup\":\"JURONG WEST\",\"marker\":{\"color\":\"#636efa\",\"size\":[33002],\"sizemode\":\"area\",\"sizeref\":155.545,\"symbol\":\"circle\"},\"mode\":\"markers\",\"name\":\"JURONG WEST\",\"showlegend\":true,\"type\":\"scattergeo\"},{\"geo\":\"geo\",\"geojson\":\"geojson\",\"hovertemplate\":\"planning_area=BUKIT TIMAH<br>english=%{marker.size}<extra></extra>\",\"legendgroup\":\"BUKIT TIMAH\",\"marker\":{\"color\":\"#EF553B\",\"size\":[0],\"sizemode\":\"area\",\"sizeref\":155.545,\"symbol\":\"circle\"},\"mode\":\"markers\",\"name\":\"BUKIT TIMAH\",\"showlegend\":true,\"type\":\"scattergeo\"},{\"geo\":\"geo\",\"geojson\":\"geojson\",\"hovertemplate\":\"planning_area=CENTRAL WATER CATCHMENT<br>english=%{marker.size}<extra></extra>\",\"legendgroup\":\"CENTRAL WATER CATCHMENT\",\"marker\":{\"color\":\"#00cc96\",\"size\":[177],\"sizemode\":\"area\",\"sizeref\":155.545,\"symbol\":\"circle\"},\"mode\":\"markers\",\"name\":\"CENTRAL WATER CATCHMENT\",\"showlegend\":true,\"type\":\"scattergeo\"},{\"geo\":\"geo\",\"geojson\":\"geojson\",\"hovertemplate\":\"planning_area=CHANGI<br>english=%{marker.size}<extra></extra>\",\"legendgroup\":\"CHANGI\",\"marker\":{\"color\":\"#ab63fa\",\"size\":[0],\"sizemode\":\"area\",\"sizeref\":155.545,\"symbol\":\"circle\"},\"mode\":\"markers\",\"name\":\"CHANGI\",\"showlegend\":true,\"type\":\"scattergeo\"},{\"geo\":\"geo\",\"geojson\":\"geojson\",\"hovertemplate\":\"planning_area=CHANGI BAY<br>english=%{marker.size}<extra></extra>\",\"legendgroup\":\"CHANGI BAY\",\"marker\":{\"color\":\"#FFA15A\",\"size\":[0],\"sizemode\":\"area\",\"sizeref\":155.545,\"symbol\":\"circle\"},\"mode\":\"markers\",\"name\":\"CHANGI BAY\",\"showlegend\":true,\"type\":\"scattergeo\"},{\"geo\":\"geo\",\"geojson\":\"geojson\",\"hovertemplate\":\"planning_area=TENGAH<br>english=%{marker.size}<extra></extra>\",\"legendgroup\":\"TENGAH\",\"marker\":{\"color\":\"#19d3f3\",\"size\":[19511],\"sizemode\":\"area\",\"sizeref\":155.545,\"symbol\":\"circle\"},\"mode\":\"markers\",\"name\":\"TENGAH\",\"showlegend\":true,\"type\":\"scattergeo\"},{\"geo\":\"geo\",\"geojson\":\"geojson\",\"hovertemplate\":\"planning_area=CLEMENTI<br>english=%{marker.size}<extra></extra>\",\"legendgroup\":\"CLEMENTI\",\"marker\":{\"color\":\"#FF6692\",\"size\":[17029],\"sizemode\":\"area\",\"sizeref\":155.545,\"symbol\":\"circle\"},\"mode\":\"markers\",\"name\":\"CLEMENTI\",\"showlegend\":true,\"type\":\"scattergeo\"},{\"geo\":\"geo\",\"geojson\":\"geojson\",\"hovertemplate\":\"planning_area=GEYLANG<br>english=%{marker.size}<extra></extra>\",\"legendgroup\":\"GEYLANG\",\"marker\":{\"color\":\"#B6E880\",\"size\":[42271],\"sizemode\":\"area\",\"sizeref\":155.545,\"symbol\":\"circle\"},\"mode\":\"markers\",\"name\":\"GEYLANG\",\"showlegend\":true,\"type\":\"scattergeo\"},{\"geo\":\"geo\",\"geojson\":\"geojson\",\"hovertemplate\":\"planning_area=HOUGANG<br>english=%{marker.size}<extra></extra>\",\"legendgroup\":\"HOUGANG\",\"marker\":{\"color\":\"#FF97FF\",\"size\":[0],\"sizemode\":\"area\",\"sizeref\":155.545,\"symbol\":\"circle\"},\"mode\":\"markers\",\"name\":\"HOUGANG\",\"showlegend\":true,\"type\":\"scattergeo\"},{\"geo\":\"geo\",\"geojson\":\"geojson\",\"hovertemplate\":\"planning_area=PIONEER<br>english=%{marker.size}<extra></extra>\",\"legendgroup\":\"PIONEER\",\"marker\":{\"color\":\"#FECB52\",\"size\":[0],\"sizemode\":\"area\",\"sizeref\":155.545,\"symbol\":\"circle\"},\"mode\":\"markers\",\"name\":\"PIONEER\",\"showlegend\":true,\"type\":\"scattergeo\"},{\"geo\":\"geo\",\"geojson\":\"geojson\",\"hovertemplate\":\"planning_area=PUNGGOL<br>english=%{marker.size}<extra></extra>\",\"legendgroup\":\"PUNGGOL\",\"marker\":{\"color\":\"#636efa\",\"size\":[0],\"sizemode\":\"area\",\"sizeref\":155.545,\"symbol\":\"circle\"},\"mode\":\"markers\",\"name\":\"PUNGGOL\",\"showlegend\":true,\"type\":\"scattergeo\"},{\"geo\":\"geo\",\"geojson\":\"geojson\",\"hovertemplate\":\"planning_area=SELETAR<br>english=%{marker.size}<extra></extra>\",\"legendgroup\":\"SELETAR\",\"marker\":{\"color\":\"#EF553B\",\"size\":[4219],\"sizemode\":\"area\",\"sizeref\":155.545,\"symbol\":\"circle\"},\"mode\":\"markers\",\"name\":\"SELETAR\",\"showlegend\":true,\"type\":\"scattergeo\"},{\"geo\":\"geo\",\"geojson\":\"geojson\",\"hovertemplate\":\"planning_area=SEMBAWANG<br>english=%{marker.size}<extra></extra>\",\"legendgroup\":\"SEMBAWANG\",\"marker\":{\"color\":\"#00cc96\",\"size\":[8726],\"sizemode\":\"area\",\"sizeref\":155.545,\"symbol\":\"circle\"},\"mode\":\"markers\",\"name\":\"SEMBAWANG\",\"showlegend\":true,\"type\":\"scattergeo\"},{\"geo\":\"geo\",\"geojson\":\"geojson\",\"hovertemplate\":\"planning_area=SENGKANG<br>english=%{marker.size}<extra></extra>\",\"legendgroup\":\"SENGKANG\",\"marker\":{\"color\":\"#ab63fa\",\"size\":[40057],\"sizemode\":\"area\",\"sizeref\":155.545,\"symbol\":\"circle\"},\"mode\":\"markers\",\"name\":\"SENGKANG\",\"showlegend\":true,\"type\":\"scattergeo\"},{\"geo\":\"geo\",\"geojson\":\"geojson\",\"hovertemplate\":\"planning_area=SERANGOON<br>english=%{marker.size}<extra></extra>\",\"legendgroup\":\"SERANGOON\",\"marker\":{\"color\":\"#FFA15A\",\"size\":[0],\"sizemode\":\"area\",\"sizeref\":155.545,\"symbol\":\"circle\"},\"mode\":\"markers\",\"name\":\"SERANGOON\",\"showlegend\":true,\"type\":\"scattergeo\"},{\"geo\":\"geo\",\"geojson\":\"geojson\",\"hovertemplate\":\"planning_area=SIMPANG<br>english=%{marker.size}<extra></extra>\",\"legendgroup\":\"SIMPANG\",\"marker\":{\"color\":\"#19d3f3\",\"size\":[0],\"sizemode\":\"area\",\"sizeref\":155.545,\"symbol\":\"circle\"},\"mode\":\"markers\",\"name\":\"SIMPANG\",\"showlegend\":true,\"type\":\"scattergeo\"},{\"geo\":\"geo\",\"geojson\":\"geojson\",\"hovertemplate\":\"planning_area=SOUTHERN ISLANDS<br>english=%{marker.size}<extra></extra>\",\"legendgroup\":\"SOUTHERN ISLANDS\",\"marker\":{\"color\":\"#FF6692\",\"size\":[0],\"sizemode\":\"area\",\"sizeref\":155.545,\"symbol\":\"circle\"},\"mode\":\"markers\",\"name\":\"SOUTHERN ISLANDS\",\"showlegend\":true,\"type\":\"scattergeo\"},{\"geo\":\"geo\",\"geojson\":\"geojson\",\"hovertemplate\":\"planning_area=SUNGEI KADUT<br>english=%{marker.size}<extra></extra>\",\"legendgroup\":\"SUNGEI KADUT\",\"marker\":{\"color\":\"#B6E880\",\"size\":[51087],\"sizemode\":\"area\",\"sizeref\":155.545,\"symbol\":\"circle\"},\"mode\":\"markers\",\"name\":\"SUNGEI KADUT\",\"showlegend\":true,\"type\":\"scattergeo\"},{\"geo\":\"geo\",\"geojson\":\"geojson\",\"hovertemplate\":\"planning_area=TAMPINES<br>english=%{marker.size}<extra></extra>\",\"legendgroup\":\"TAMPINES\",\"marker\":{\"color\":\"#FF97FF\",\"size\":[6817],\"sizemode\":\"area\",\"sizeref\":155.545,\"symbol\":\"circle\"},\"mode\":\"markers\",\"name\":\"TAMPINES\",\"showlegend\":true,\"type\":\"scattergeo\"},{\"geo\":\"geo\",\"geojson\":\"geojson\",\"hovertemplate\":\"planning_area=TANGLIN<br>english=%{marker.size}<extra></extra>\",\"legendgroup\":\"TANGLIN\",\"marker\":{\"color\":\"#FECB52\",\"size\":[23304],\"sizemode\":\"area\",\"sizeref\":155.545,\"symbol\":\"circle\"},\"mode\":\"markers\",\"name\":\"TANGLIN\",\"showlegend\":true,\"type\":\"scattergeo\"},{\"geo\":\"geo\",\"geojson\":\"geojson\",\"hovertemplate\":\"planning_area=TOA PAYOH<br>english=%{marker.size}<extra></extra>\",\"legendgroup\":\"TOA PAYOH\",\"marker\":{\"color\":\"#636efa\",\"size\":[0],\"sizemode\":\"area\",\"sizeref\":155.545,\"symbol\":\"circle\"},\"mode\":\"markers\",\"name\":\"TOA PAYOH\",\"showlegend\":true,\"type\":\"scattergeo\"},{\"geo\":\"geo\",\"geojson\":\"geojson\",\"hovertemplate\":\"planning_area=TUAS<br>english=%{marker.size}<extra></extra>\",\"legendgroup\":\"TUAS\",\"marker\":{\"color\":\"#EF553B\",\"size\":[0],\"sizemode\":\"area\",\"sizeref\":155.545,\"symbol\":\"circle\"},\"mode\":\"markers\",\"name\":\"TUAS\",\"showlegend\":true,\"type\":\"scattergeo\"},{\"geo\":\"geo\",\"geojson\":\"geojson\",\"hovertemplate\":\"planning_area=WESTERN ISLANDS<br>english=%{marker.size}<extra></extra>\",\"legendgroup\":\"WESTERN ISLANDS\",\"marker\":{\"color\":\"#00cc96\",\"size\":[0],\"sizemode\":\"area\",\"sizeref\":155.545,\"symbol\":\"circle\"},\"mode\":\"markers\",\"name\":\"WESTERN ISLANDS\",\"showlegend\":true,\"type\":\"scattergeo\"},{\"geo\":\"geo\",\"geojson\":\"geojson\",\"hovertemplate\":\"planning_area=WESTERN WATER CATCHMENT<br>english=%{marker.size}<extra></extra>\",\"legendgroup\":\"WESTERN WATER CATCHMENT\",\"marker\":{\"color\":\"#ab63fa\",\"size\":[27497],\"sizemode\":\"area\",\"sizeref\":155.545,\"symbol\":\"circle\"},\"mode\":\"markers\",\"name\":\"WESTERN WATER CATCHMENT\",\"showlegend\":true,\"type\":\"scattergeo\"},{\"geo\":\"geo\",\"geojson\":\"geojson\",\"hovertemplate\":\"planning_area=WOODLANDS<br>english=%{marker.size}<extra></extra>\",\"legendgroup\":\"WOODLANDS\",\"marker\":{\"color\":\"#FFA15A\",\"size\":[28448],\"sizemode\":\"area\",\"sizeref\":155.545,\"symbol\":\"circle\"},\"mode\":\"markers\",\"name\":\"WOODLANDS\",\"showlegend\":true,\"type\":\"scattergeo\"},{\"geo\":\"geo\",\"geojson\":\"geojson\",\"hovertemplate\":\"planning_area=YISHUN<br>english=%{marker.size}<extra></extra>\",\"legendgroup\":\"YISHUN\",\"marker\":{\"color\":\"#19d3f3\",\"size\":[482],\"sizemode\":\"area\",\"sizeref\":155.545,\"symbol\":\"circle\"},\"mode\":\"markers\",\"name\":\"YISHUN\",\"showlegend\":true,\"type\":\"scattergeo\"},{\"geo\":\"geo\",\"geojson\":\"geojson\",\"hovertemplate\":\"planning_area=DOWNTOWN CORE<br>english=%{marker.size}<extra></extra>\",\"legendgroup\":\"DOWNTOWN CORE\",\"marker\":{\"color\":\"#FF6692\",\"size\":[0],\"sizemode\":\"area\",\"sizeref\":155.545,\"symbol\":\"circle\"},\"mode\":\"markers\",\"name\":\"DOWNTOWN CORE\",\"showlegend\":true,\"type\":\"scattergeo\"},{\"geo\":\"geo\",\"geojson\":\"geojson\",\"hovertemplate\":\"planning_area=MARINA EAST<br>english=%{marker.size}<extra></extra>\",\"legendgroup\":\"MARINA EAST\",\"marker\":{\"color\":\"#B6E880\",\"size\":[0],\"sizemode\":\"area\",\"sizeref\":155.545,\"symbol\":\"circle\"},\"mode\":\"markers\",\"name\":\"MARINA EAST\",\"showlegend\":true,\"type\":\"scattergeo\"},{\"geo\":\"geo\",\"geojson\":\"geojson\",\"hovertemplate\":\"planning_area=MARINA SOUTH<br>english=%{marker.size}<extra></extra>\",\"legendgroup\":\"MARINA SOUTH\",\"marker\":{\"color\":\"#FF97FF\",\"size\":[0],\"sizemode\":\"area\",\"sizeref\":155.545,\"symbol\":\"circle\"},\"mode\":\"markers\",\"name\":\"MARINA SOUTH\",\"showlegend\":true,\"type\":\"scattergeo\"},{\"geo\":\"geo\",\"geojson\":\"geojson\",\"hovertemplate\":\"planning_area=MUSEUM<br>english=%{marker.size}<extra></extra>\",\"legendgroup\":\"MUSEUM\",\"marker\":{\"color\":\"#FECB52\",\"size\":[3004],\"sizemode\":\"area\",\"sizeref\":155.545,\"symbol\":\"circle\"},\"mode\":\"markers\",\"name\":\"MUSEUM\",\"showlegend\":true,\"type\":\"scattergeo\"},{\"geo\":\"geo\",\"geojson\":\"geojson\",\"hovertemplate\":\"planning_area=NEWTON<br>english=%{marker.size}<extra></extra>\",\"legendgroup\":\"NEWTON\",\"marker\":{\"color\":\"#636efa\",\"size\":[0],\"sizemode\":\"area\",\"sizeref\":155.545,\"symbol\":\"circle\"},\"mode\":\"markers\",\"name\":\"NEWTON\",\"showlegend\":true,\"type\":\"scattergeo\"},{\"geo\":\"geo\",\"geojson\":\"geojson\",\"hovertemplate\":\"planning_area=ORCHARD<br>english=%{marker.size}<extra></extra>\",\"legendgroup\":\"ORCHARD\",\"marker\":{\"color\":\"#EF553B\",\"size\":[1746],\"sizemode\":\"area\",\"sizeref\":155.545,\"symbol\":\"circle\"},\"mode\":\"markers\",\"name\":\"ORCHARD\",\"showlegend\":true,\"type\":\"scattergeo\"},{\"geo\":\"geo\",\"geojson\":\"geojson\",\"hovertemplate\":\"planning_area=OUTRAM<br>english=%{marker.size}<extra></extra>\",\"legendgroup\":\"OUTRAM\",\"marker\":{\"color\":\"#00cc96\",\"size\":[13970],\"sizemode\":\"area\",\"sizeref\":155.545,\"symbol\":\"circle\"},\"mode\":\"markers\",\"name\":\"OUTRAM\",\"showlegend\":true,\"type\":\"scattergeo\"},{\"geo\":\"geo\",\"geojson\":\"geojson\",\"hovertemplate\":\"planning_area=KALLANG<br>english=%{marker.size}<extra></extra>\",\"legendgroup\":\"KALLANG\",\"marker\":{\"color\":\"#ab63fa\",\"size\":[0],\"sizemode\":\"area\",\"sizeref\":155.545,\"symbol\":\"circle\"},\"mode\":\"markers\",\"name\":\"KALLANG\",\"showlegend\":true,\"type\":\"scattergeo\"},{\"geo\":\"geo\",\"geojson\":\"geojson\",\"hovertemplate\":\"planning_area=LIM CHU KANG<br>english=%{marker.size}<extra></extra>\",\"legendgroup\":\"LIM CHU KANG\",\"marker\":{\"color\":\"#FFA15A\",\"size\":[0],\"sizemode\":\"area\",\"sizeref\":155.545,\"symbol\":\"circle\"},\"mode\":\"markers\",\"name\":\"LIM CHU KANG\",\"showlegend\":true,\"type\":\"scattergeo\"},{\"geo\":\"geo\",\"geojson\":\"geojson\",\"hovertemplate\":\"planning_area=MANDAI<br>english=%{marker.size}<extra></extra>\",\"legendgroup\":\"MANDAI\",\"marker\":{\"color\":\"#19d3f3\",\"size\":[15087],\"sizemode\":\"area\",\"sizeref\":155.545,\"symbol\":\"circle\"},\"mode\":\"markers\",\"name\":\"MANDAI\",\"showlegend\":true,\"type\":\"scattergeo\"},{\"geo\":\"geo\",\"geojson\":\"geojson\",\"hovertemplate\":\"planning_area=MARINE PARADE<br>english=%{marker.size}<extra></extra>\",\"legendgroup\":\"MARINE PARADE\",\"marker\":{\"color\":\"#FF6692\",\"size\":[0],\"sizemode\":\"area\",\"sizeref\":155.545,\"symbol\":\"circle\"},\"mode\":\"markers\",\"name\":\"MARINE PARADE\",\"showlegend\":true,\"type\":\"scattergeo\"},{\"geo\":\"geo\",\"geojson\":\"geojson\",\"hovertemplate\":\"planning_area=NORTH-EASTERN ISLANDS<br>english=%{marker.size}<extra></extra>\",\"legendgroup\":\"NORTH-EASTERN ISLANDS\",\"marker\":{\"color\":\"#B6E880\",\"size\":[14559],\"sizemode\":\"area\",\"sizeref\":155.545,\"symbol\":\"circle\"},\"mode\":\"markers\",\"name\":\"NORTH-EASTERN ISLANDS\",\"showlegend\":true,\"type\":\"scattergeo\"},{\"geo\":\"geo\",\"geojson\":\"geojson\",\"hovertemplate\":\"planning_area=NOVENA<br>english=%{marker.size}<extra></extra>\",\"legendgroup\":\"NOVENA\",\"marker\":{\"color\":\"#FF97FF\",\"size\":[35001],\"sizemode\":\"area\",\"sizeref\":155.545,\"symbol\":\"circle\"},\"mode\":\"markers\",\"name\":\"NOVENA\",\"showlegend\":true,\"type\":\"scattergeo\"},{\"geo\":\"geo\",\"geojson\":\"geojson\",\"hovertemplate\":\"planning_area=PASIR RIS<br>english=%{marker.size}<extra></extra>\",\"legendgroup\":\"PASIR RIS\",\"marker\":{\"color\":\"#FECB52\",\"size\":[0],\"sizemode\":\"area\",\"sizeref\":155.545,\"symbol\":\"circle\"},\"mode\":\"markers\",\"name\":\"PASIR RIS\",\"showlegend\":true,\"type\":\"scattergeo\"},{\"geo\":\"geo\",\"geojson\":\"geojson\",\"hovertemplate\":\"planning_area=PAYA LEBAR<br>english=%{marker.size}<extra></extra>\",\"legendgroup\":\"PAYA LEBAR\",\"marker\":{\"color\":\"#636efa\",\"size\":[3760],\"sizemode\":\"area\",\"sizeref\":155.545,\"symbol\":\"circle\"},\"mode\":\"markers\",\"name\":\"PAYA LEBAR\",\"showlegend\":true,\"type\":\"scattergeo\"},{\"geo\":\"geo\",\"geojson\":\"geojson\",\"hovertemplate\":\"planning_area=RIVER VALLEY<br>english=%{marker.size}<extra></extra>\",\"legendgroup\":\"RIVER VALLEY\",\"marker\":{\"color\":\"#EF553B\",\"size\":[1850],\"sizemode\":\"area\",\"sizeref\":155.545,\"symbol\":\"circle\"},\"mode\":\"markers\",\"name\":\"RIVER VALLEY\",\"showlegend\":true,\"type\":\"scattergeo\"},{\"geo\":\"geo\",\"geojson\":\"geojson\",\"hovertemplate\":\"planning_area=ROCHOR<br>english=%{marker.size}<extra></extra>\",\"legendgroup\":\"ROCHOR\",\"marker\":{\"color\":\"#00cc96\",\"size\":[0],\"sizemode\":\"area\",\"sizeref\":155.545,\"symbol\":\"circle\"},\"mode\":\"markers\",\"name\":\"ROCHOR\",\"showlegend\":true,\"type\":\"scattergeo\"},{\"geo\":\"geo\",\"geojson\":\"geojson\",\"hovertemplate\":\"planning_area=SINGAPORE RIVER<br>english=%{marker.size}<extra></extra>\",\"legendgroup\":\"SINGAPORE RIVER\",\"marker\":{\"color\":\"#ab63fa\",\"size\":[0],\"sizemode\":\"area\",\"sizeref\":155.545,\"symbol\":\"circle\"},\"mode\":\"markers\",\"name\":\"SINGAPORE RIVER\",\"showlegend\":true,\"type\":\"scattergeo\"},{\"geo\":\"geo\",\"geojson\":\"geojson\",\"hovertemplate\":\"planning_area=STRAITS VIEW<br>english=%{marker.size}<extra></extra>\",\"legendgroup\":\"STRAITS VIEW\",\"marker\":{\"color\":\"#FFA15A\",\"size\":[0],\"sizemode\":\"area\",\"sizeref\":155.545,\"symbol\":\"circle\"},\"mode\":\"markers\",\"name\":\"STRAITS VIEW\",\"showlegend\":true,\"type\":\"scattergeo\"}],                        {\"template\":{\"data\":{\"histogram2dcontour\":[{\"type\":\"histogram2dcontour\",\"colorbar\":{\"outlinewidth\":0,\"ticks\":\"\"},\"colorscale\":[[0.0,\"#0d0887\"],[0.1111111111111111,\"#46039f\"],[0.2222222222222222,\"#7201a8\"],[0.3333333333333333,\"#9c179e\"],[0.4444444444444444,\"#bd3786\"],[0.5555555555555556,\"#d8576b\"],[0.6666666666666666,\"#ed7953\"],[0.7777777777777778,\"#fb9f3a\"],[0.8888888888888888,\"#fdca26\"],[1.0,\"#f0f921\"]]}],\"choropleth\":[{\"type\":\"choropleth\",\"colorbar\":{\"outlinewidth\":0,\"ticks\":\"\"}}],\"histogram2d\":[{\"type\":\"histogram2d\",\"colorbar\":{\"outlinewidth\":0,\"ticks\":\"\"},\"colorscale\":[[0.0,\"#0d0887\"],[0.1111111111111111,\"#46039f\"],[0.2222222222222222,\"#7201a8\"],[0.3333333333333333,\"#9c179e\"],[0.4444444444444444,\"#bd3786\"],[0.5555555555555556,\"#d8576b\"],[0.6666666666666666,\"#ed7953\"],[0.7777777777777778,\"#fb9f3a\"],[0.8888888888888888,\"#fdca26\"],[1.0,\"#f0f921\"]]}],\"heatmap\":[{\"type\":\"heatmap\",\"colorbar\":{\"outlinewidth\":0,\"ticks\":\"\"},\"colorscale\":[[0.0,\"#0d0887\"],[0.1111111111111111,\"#46039f\"],[0.2222222222222222,\"#7201a8\"],[0.3333333333333333,\"#9c179e\"],[0.4444444444444444,\"#bd3786\"],[0.5555555555555556,\"#d8576b\"],[0.6666666666666666,\"#ed7953\"],[0.7777777777777778,\"#fb9f3a\"],[0.8888888888888888,\"#fdca26\"],[1.0,\"#f0f921\"]]}],\"heatmapgl\":[{\"type\":\"heatmapgl\",\"colorbar\":{\"outlinewidth\":0,\"ticks\":\"\"},\"colorscale\":[[0.0,\"#0d0887\"],[0.1111111111111111,\"#46039f\"],[0.2222222222222222,\"#7201a8\"],[0.3333333333333333,\"#9c179e\"],[0.4444444444444444,\"#bd3786\"],[0.5555555555555556,\"#d8576b\"],[0.6666666666666666,\"#ed7953\"],[0.7777777777777778,\"#fb9f3a\"],[0.8888888888888888,\"#fdca26\"],[1.0,\"#f0f921\"]]}],\"contourcarpet\":[{\"type\":\"contourcarpet\",\"colorbar\":{\"outlinewidth\":0,\"ticks\":\"\"}}],\"contour\":[{\"type\":\"contour\",\"colorbar\":{\"outlinewidth\":0,\"ticks\":\"\"},\"colorscale\":[[0.0,\"#0d0887\"],[0.1111111111111111,\"#46039f\"],[0.2222222222222222,\"#7201a8\"],[0.3333333333333333,\"#9c179e\"],[0.4444444444444444,\"#bd3786\"],[0.5555555555555556,\"#d8576b\"],[0.6666666666666666,\"#ed7953\"],[0.7777777777777778,\"#fb9f3a\"],[0.8888888888888888,\"#fdca26\"],[1.0,\"#f0f921\"]]}],\"surface\":[{\"type\":\"surface\",\"colorbar\":{\"outlinewidth\":0,\"ticks\":\"\"},\"colorscale\":[[0.0,\"#0d0887\"],[0.1111111111111111,\"#46039f\"],[0.2222222222222222,\"#7201a8\"],[0.3333333333333333,\"#9c179e\"],[0.4444444444444444,\"#bd3786\"],[0.5555555555555556,\"#d8576b\"],[0.6666666666666666,\"#ed7953\"],[0.7777777777777778,\"#fb9f3a\"],[0.8888888888888888,\"#fdca26\"],[1.0,\"#f0f921\"]]}],\"mesh3d\":[{\"type\":\"mesh3d\",\"colorbar\":{\"outlinewidth\":0,\"ticks\":\"\"}}],\"scatter\":[{\"fillpattern\":{\"fillmode\":\"overlay\",\"size\":10,\"solidity\":0.2},\"type\":\"scatter\"}],\"parcoords\":[{\"type\":\"parcoords\",\"line\":{\"colorbar\":{\"outlinewidth\":0,\"ticks\":\"\"}}}],\"scatterpolargl\":[{\"type\":\"scatterpolargl\",\"marker\":{\"colorbar\":{\"outlinewidth\":0,\"ticks\":\"\"}}}],\"bar\":[{\"error_x\":{\"color\":\"#2a3f5f\"},\"error_y\":{\"color\":\"#2a3f5f\"},\"marker\":{\"line\":{\"color\":\"#E5ECF6\",\"width\":0.5},\"pattern\":{\"fillmode\":\"overlay\",\"size\":10,\"solidity\":0.2}},\"type\":\"bar\"}],\"scattergeo\":[{\"type\":\"scattergeo\",\"marker\":{\"colorbar\":{\"outlinewidth\":0,\"ticks\":\"\"}}}],\"scatterpolar\":[{\"type\":\"scatterpolar\",\"marker\":{\"colorbar\":{\"outlinewidth\":0,\"ticks\":\"\"}}}],\"histogram\":[{\"marker\":{\"pattern\":{\"fillmode\":\"overlay\",\"size\":10,\"solidity\":0.2}},\"type\":\"histogram\"}],\"scattergl\":[{\"type\":\"scattergl\",\"marker\":{\"colorbar\":{\"outlinewidth\":0,\"ticks\":\"\"}}}],\"scatter3d\":[{\"type\":\"scatter3d\",\"line\":{\"colorbar\":{\"outlinewidth\":0,\"ticks\":\"\"}},\"marker\":{\"colorbar\":{\"outlinewidth\":0,\"ticks\":\"\"}}}],\"scattermapbox\":[{\"type\":\"scattermapbox\",\"marker\":{\"colorbar\":{\"outlinewidth\":0,\"ticks\":\"\"}}}],\"scatterternary\":[{\"type\":\"scatterternary\",\"marker\":{\"colorbar\":{\"outlinewidth\":0,\"ticks\":\"\"}}}],\"scattercarpet\":[{\"type\":\"scattercarpet\",\"marker\":{\"colorbar\":{\"outlinewidth\":0,\"ticks\":\"\"}}}],\"carpet\":[{\"aaxis\":{\"endlinecolor\":\"#2a3f5f\",\"gridcolor\":\"white\",\"linecolor\":\"white\",\"minorgridcolor\":\"white\",\"startlinecolor\":\"#2a3f5f\"},\"baxis\":{\"endlinecolor\":\"#2a3f5f\",\"gridcolor\":\"white\",\"linecolor\":\"white\",\"minorgridcolor\":\"white\",\"startlinecolor\":\"#2a3f5f\"},\"type\":\"carpet\"}],\"table\":[{\"cells\":{\"fill\":{\"color\":\"#EBF0F8\"},\"line\":{\"color\":\"white\"}},\"header\":{\"fill\":{\"color\":\"#C8D4E3\"},\"line\":{\"color\":\"white\"}},\"type\":\"table\"}],\"barpolar\":[{\"marker\":{\"line\":{\"color\":\"#E5ECF6\",\"width\":0.5},\"pattern\":{\"fillmode\":\"overlay\",\"size\":10,\"solidity\":0.2}},\"type\":\"barpolar\"}],\"pie\":[{\"automargin\":true,\"type\":\"pie\"}]},\"layout\":{\"autotypenumbers\":\"strict\",\"colorway\":[\"#636efa\",\"#EF553B\",\"#00cc96\",\"#ab63fa\",\"#FFA15A\",\"#19d3f3\",\"#FF6692\",\"#B6E880\",\"#FF97FF\",\"#FECB52\"],\"font\":{\"color\":\"#2a3f5f\"},\"hovermode\":\"closest\",\"hoverlabel\":{\"align\":\"left\"},\"paper_bgcolor\":\"white\",\"plot_bgcolor\":\"#E5ECF6\",\"polar\":{\"bgcolor\":\"#E5ECF6\",\"angularaxis\":{\"gridcolor\":\"white\",\"linecolor\":\"white\",\"ticks\":\"\"},\"radialaxis\":{\"gridcolor\":\"white\",\"linecolor\":\"white\",\"ticks\":\"\"}},\"ternary\":{\"bgcolor\":\"#E5ECF6\",\"aaxis\":{\"gridcolor\":\"white\",\"linecolor\":\"white\",\"ticks\":\"\"},\"baxis\":{\"gridcolor\":\"white\",\"linecolor\":\"white\",\"ticks\":\"\"},\"caxis\":{\"gridcolor\":\"white\",\"linecolor\":\"white\",\"ticks\":\"\"}},\"coloraxis\":{\"colorbar\":{\"outlinewidth\":0,\"ticks\":\"\"}},\"colorscale\":{\"sequential\":[[0.0,\"#0d0887\"],[0.1111111111111111,\"#46039f\"],[0.2222222222222222,\"#7201a8\"],[0.3333333333333333,\"#9c179e\"],[0.4444444444444444,\"#bd3786\"],[0.5555555555555556,\"#d8576b\"],[0.6666666666666666,\"#ed7953\"],[0.7777777777777778,\"#fb9f3a\"],[0.8888888888888888,\"#fdca26\"],[1.0,\"#f0f921\"]],\"sequentialminus\":[[0.0,\"#0d0887\"],[0.1111111111111111,\"#46039f\"],[0.2222222222222222,\"#7201a8\"],[0.3333333333333333,\"#9c179e\"],[0.4444444444444444,\"#bd3786\"],[0.5555555555555556,\"#d8576b\"],[0.6666666666666666,\"#ed7953\"],[0.7777777777777778,\"#fb9f3a\"],[0.8888888888888888,\"#fdca26\"],[1.0,\"#f0f921\"]],\"diverging\":[[0,\"#8e0152\"],[0.1,\"#c51b7d\"],[0.2,\"#de77ae\"],[0.3,\"#f1b6da\"],[0.4,\"#fde0ef\"],[0.5,\"#f7f7f7\"],[0.6,\"#e6f5d0\"],[0.7,\"#b8e186\"],[0.8,\"#7fbc41\"],[0.9,\"#4d9221\"],[1,\"#276419\"]]},\"xaxis\":{\"gridcolor\":\"white\",\"linecolor\":\"white\",\"ticks\":\"\",\"title\":{\"standoff\":15},\"zerolinecolor\":\"white\",\"automargin\":true,\"zerolinewidth\":2},\"yaxis\":{\"gridcolor\":\"white\",\"linecolor\":\"white\",\"ticks\":\"\",\"title\":{\"standoff\":15},\"zerolinecolor\":\"white\",\"automargin\":true,\"zerolinewidth\":2},\"scene\":{\"xaxis\":{\"backgroundcolor\":\"#E5ECF6\",\"gridcolor\":\"white\",\"linecolor\":\"white\",\"showbackground\":true,\"ticks\":\"\",\"zerolinecolor\":\"white\",\"gridwidth\":2},\"yaxis\":{\"backgroundcolor\":\"#E5ECF6\",\"gridcolor\":\"white\",\"linecolor\":\"white\",\"showbackground\":true,\"ticks\":\"\",\"zerolinecolor\":\"white\",\"gridwidth\":2},\"zaxis\":{\"backgroundcolor\":\"#E5ECF6\",\"gridcolor\":\"white\",\"linecolor\":\"white\",\"showbackground\":true,\"ticks\":\"\",\"zerolinecolor\":\"white\",\"gridwidth\":2}},\"shapedefaults\":{\"line\":{\"color\":\"#2a3f5f\"}},\"annotationdefaults\":{\"arrowcolor\":\"#2a3f5f\",\"arrowhead\":0,\"arrowwidth\":1},\"geo\":{\"bgcolor\":\"white\",\"landcolor\":\"#E5ECF6\",\"subunitcolor\":\"white\",\"showland\":true,\"showlakes\":true,\"lakecolor\":\"white\"},\"title\":{\"x\":0.05},\"mapbox\":{\"style\":\"light\"}}},\"geo\":{\"domain\":{\"x\":[0.0,1.0],\"y\":[0.0,1.0]},\"projection\":{\"type\":\"natural earth\"},\"center\":{}},\"legend\":{\"title\":{\"text\":\"planning_area\"},\"tracegroupgap\":0,\"itemsizing\":\"constant\"},\"margin\":{\"t\":60}},                        {\"responsive\": true}                    ).then(function(){\n",
       "                            \n",
       "var gd = document.getElementById('1bc6148b-ccf9-4ace-8c68-792b238512c7');\n",
       "var x = new MutationObserver(function (mutations, observer) {{\n",
       "        var display = window.getComputedStyle(gd).display;\n",
       "        if (!display || display === 'none') {{\n",
       "            console.log([gd, 'removed!']);\n",
       "            Plotly.purge(gd);\n",
       "            observer.disconnect();\n",
       "        }}\n",
       "}});\n",
       "\n",
       "// Listen for the removal of the full notebook cells\n",
       "var notebookContainer = gd.closest('#notebook-container');\n",
       "if (notebookContainer) {{\n",
       "    x.observe(notebookContainer, {childList: true});\n",
       "}}\n",
       "\n",
       "// Listen for the clearing of the current output cell\n",
       "var outputEl = gd.closest('.output');\n",
       "if (outputEl) {{\n",
       "    x.observe(outputEl, {childList: true});\n",
       "}}\n",
       "\n",
       "                        })                };                });            </script>        </div>"
      ]
     },
     "metadata": {},
     "output_type": "display_data"
    }
   ],
   "source": [
    "fig = px.scatter_geo(y, geojson = \"geojson\", size = \"english\",\n",
    "                     color = \"planning_area\", projection=\"natural earth\")\n",
    "fig.show()"
   ]
  },
  {
   "cell_type": "code",
   "execution_count": null,
   "id": "c816c88c",
   "metadata": {},
   "outputs": [],
   "source": []
  }
 ],
 "metadata": {
  "kernelspec": {
   "display_name": "Python 3 (ipykernel)",
   "language": "python",
   "name": "python3"
  },
  "language_info": {
   "codemirror_mode": {
    "name": "ipython",
    "version": 3
   },
   "file_extension": ".py",
   "mimetype": "text/x-python",
   "name": "python",
   "nbconvert_exporter": "python",
   "pygments_lexer": "ipython3",
   "version": "3.9.7"
  }
 },
 "nbformat": 4,
 "nbformat_minor": 5
}
